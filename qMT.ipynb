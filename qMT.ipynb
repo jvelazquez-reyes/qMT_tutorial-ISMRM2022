{
 "cells": [
  {
   "cell_type": "markdown",
   "metadata": {
    "kernel": "SoS",
    "tags": [
     "scratch"
    ]
   },
   "source": [
    "# Welcome to the qMT Tutorial in qMRLab!"
   ]
  },
  {
   "cell_type": "code",
   "execution_count": 27,
   "metadata": {
    "kernel": "Python3",
    "tags": [
     "scratch"
    ]
   },
   "outputs": [
    {
     "data": {
      "text/html": [
       "        <script type=\"text/javascript\">\n",
       "        window.PlotlyConfig = {MathJaxConfig: 'local'};\n",
       "        if (window.MathJax) {MathJax.Hub.Config({SVG: {font: \"STIX-Web\"}});}\n",
       "        if (typeof require !== 'undefined') {\n",
       "        require.undef(\"plotly\");\n",
       "        requirejs.config({\n",
       "            paths: {\n",
       "                'plotly': ['https://cdn.plot.ly/plotly-2.8.3.min']\n",
       "            }\n",
       "        });\n",
       "        require(['plotly'], function(Plotly) {\n",
       "            window._Plotly = Plotly;\n",
       "        });\n",
       "        }\n",
       "        </script>\n",
       "        "
      ]
     },
     "metadata": {},
     "output_type": "display_data"
    }
   ],
   "source": [
    "# PYTHON CODE\n",
    "# Module imports\n",
    "\n",
    "import matplotlib.pyplot as plt\n",
    "from PIL import Image\n",
    "from matplotlib.image import imread\n",
    "import scipy.io\n",
    "import plotly\n",
    "from plotly.subplots import make_subplots\n",
    "import plotly.graph_objs as go\n",
    "import numpy as np\n",
    "from plotly import __version__\n",
    "from plotly.offline import download_plotlyjs, init_notebook_mode, plot, iplot\n",
    "config={'showLink': False, 'displayModeBar': False}\n",
    "\n",
    "init_notebook_mode(connected=True)\n",
    "\n",
    "from IPython.core.display import display, HTML\n",
    "from IPython.display import Image\n",
    "\n",
    "import os"
   ]
  },
  {
   "cell_type": "code",
   "execution_count": 2,
   "metadata": {},
   "outputs": [],
   "source": [
    "import oct2py\n",
    "from oct2py import octave\n",
    "%load_ext oct2py.ipython"
   ]
  },
  {
   "cell_type": "code",
   "execution_count": 3,
   "metadata": {},
   "outputs": [
    {
     "name": "stdout",
     "output_type": "stream",
     "text": [
      "error: graphics_toolkit: qt toolkit is not available\n",
      "error: called from\n",
      "    graphics_toolkit at line 81 column 5\n"
     ]
    },
    {
     "data": {
      "text/plain": [
       "\u001b[01;35m-----------------------------------------------"
      ]
     },
     "metadata": {},
     "output_type": "display_data"
    },
    {
     "data": {
      "text/plain": [
       "\u001b[00m\u001b[01;35mRelease v2.5.0"
      ]
     },
     "metadata": {},
     "output_type": "display_data"
    },
    {
     "data": {
      "text/plain": [
       "\u001b[00m\u001b[01;34mಠ_ಠ The version specified in version.txt is ahead of the latest published release v2.4.1."
      ]
     },
     "metadata": {},
     "output_type": "display_data"
    },
    {
     "data": {
      "text/plain": [
       "\u001b[00m\u001b[01;35mPlease do not forget pushing a new commit tag upon merge or publish the new release."
      ]
     },
     "metadata": {},
     "output_type": "display_data"
    },
    {
     "data": {
      "text/plain": [
       "\u001b[00m\u001b[01;35m-----------------------------------------------"
      ]
     },
     "metadata": {},
     "output_type": "display_data"
    },
    {
     "data": {
      "text/plain": [
       "\u001b[00mloading struct"
      ]
     },
     "metadata": {},
     "output_type": "display_data"
    },
    {
     "data": {
      "text/plain": [
       "loading io"
      ]
     },
     "metadata": {},
     "output_type": "display_data"
    },
    {
     "data": {
      "text/plain": [
       "loading statistics"
      ]
     },
     "metadata": {},
     "output_type": "display_data"
    },
    {
     "data": {
      "text/plain": [
       "loading optim"
      ]
     },
     "metadata": {},
     "output_type": "display_data"
    },
    {
     "data": {
      "text/plain": [
       "loading image"
      ]
     },
     "metadata": {},
     "output_type": "display_data"
    },
    {
     "name": "stderr",
     "output_type": "stream",
     "text": [
      "Exception ignored in: <finalize object at 0x2d8a21d85d0; dead>\n",
      "Traceback (most recent call last):\n",
      "  File \"D:\\Instalaciones\\Anaconda\\Anaconda3\\lib\\weakref.py\", line 572, in __call__\n",
      "    return info.func(*info.args, **(info.kwargs or {}))\n",
      "  File \"D:\\Instalaciones\\Anaconda\\Anaconda3\\lib\\tempfile.py\", line 797, in _cleanup\n",
      "    _shutil.rmtree(name)\n",
      "  File \"D:\\Instalaciones\\Anaconda\\Anaconda3\\lib\\shutil.py\", line 516, in rmtree\n",
      "    return _rmtree_unsafe(path, onerror)\n",
      "  File \"D:\\Instalaciones\\Anaconda\\Anaconda3\\lib\\shutil.py\", line 377, in _rmtree_unsafe\n",
      "    onerror(os.scandir, path, sys.exc_info())\n",
      "  File \"D:\\Instalaciones\\Anaconda\\Anaconda3\\lib\\shutil.py\", line 374, in _rmtree_unsafe\n",
      "    with os.scandir(path) as scandir_it:\n",
      "FileNotFoundError: [WinError 3] El sistema no puede encontrar la ruta especificada: 'C:\\\\Users\\\\Public\\\\Documents\\\\Wondershare\\\\CreatorTemp\\\\tmpztcr69b2'\n"
     ]
    },
    {
     "data": {
      "text/plain": [
       "1.1386707899473707"
      ]
     },
     "execution_count": 3,
     "metadata": {},
     "output_type": "execute_result"
    }
   ],
   "source": [
    "#os.chdir('D:\\\\Instalaciones\\\\qMRLab\\\\qMRLab')\n",
    "os.chdir(os.getcwd() + '/qMRLab')\n",
    "%octave startup"
   ]
  },
  {
   "cell_type": "code",
   "execution_count": 4,
   "metadata": {},
   "outputs": [],
   "source": [
    "#os.chdir('D:\\\\acer\\\\Documents\\\\PhD application\\\\Polymtl\\\\StikovN\\\\qMT_tutorial-ISMRM2022\\\\fun')\n",
    "#octave.addpath(os.getcwd())\n",
    "#os.chdir('D:\\\\acer\\\\Documents\\\\PhD application\\\\Polymtl\\\\StikovN\\\\qMT_tutorial-ISMRM2022\\\\results')\n",
    "# Add function folder\n",
    "octave.addpath('../fun')"
   ]
  },
  {
   "cell_type": "markdown",
   "metadata": {
    "kernel": "SoS"
   },
   "source": [
    "<center><h1 style=\"font-family: timesnewroman;font-size: 40px;\">qMT Tutorial</h1></center>\n",
    "<p>"
   ]
  },
  {
   "cell_type": "markdown",
   "metadata": {},
   "source": [
    "Magnetization Transfer (MT) have extensively been applied to study biological tissues with the imaging contrast residing in the magnetization transfer, through chemical exchange and dipolar interactions, between a free water pool and a restricted pool consisting of highly mobile protons and protons attached to macromolecules, respectively. Quantitative MT (qMT) involves calculating the relaxation and exchange rates of the proton pools, and compared to semi-quantitative approaches, long acquisition protocols, extensive and complex models are needed to fit the quantitative physical parameters, which makes it a challenging imaging technique.\n",
    "\n",
    "qMTLab was an initial project with the aim to unify three qMT methods: qMT spoiled gradient echo (qMT-SPGR), qMT balanced steady-state free precession (qMT-bSSFP), and selective inversion recovery with fast spin echo (qMT-SIRFSE). As an open-source software package, qMTLab contributed to simulate, evaluate, fit, and visualize qMT data with the possibility to share qMT protocols between researchers, allowing them to compare the performance of their methods. qMRLab is an extension of qMTLab and as such shares the same vision, where you can not only explore qMT methods, but various others available including relaxation and diffusion models, quantitative susceptibility mapping, B0 and B1 mapping, as well as interactive tutorials and blog posts, available for some of the methods, which will guide you to experiment with quantitative Magnetic Resonance Imaging.\n",
    "\n",
    "In this blog post you will go through a brief introduction to qMT SPGR including the pulse sequence design and the tools available in qMRLab to change the models and to vary parameters allowing you to simulate and fit the qMT data for different configurations. Single voxel simulations are displayed through interactive plots to explore the effects of varying different parameters and show the importance of these simulations when it comes to customize your qMT protocol."
   ]
  },
  {
   "cell_type": "markdown",
   "metadata": {
    "kernel": "SoS"
   },
   "source": [
    "<div class=figure_caption>\n",
    "<center>\n",
    "<b style=\"text-align:justify;font-size: 30px;\">\n",
    "Interface comparison for different models.\n",
    "</b>\n",
    "</center>\n",
    "</div>\n",
    "\n",
    "<center><b style=\"text-align:justify;font-size: 20px;\">\n",
    "qMT SPGR (Spoiled Gradient Echo)\n",
    "</b>\n",
    "</center>\n",
    "<p>\n",
    "<center><img src=\"qmtSPGR_interface.png\" style=\"width:800px;height:auto;\"></center>\n",
    "    \n",
    "<center><b style=\"text-align:justify;font-size: 20px;\">\n",
    "qMT SIRFSE (Selective Inversion Recovery Fast Spin Echo)\n",
    "</b>\n",
    "</center>\n",
    "<p>\n",
    "<center><img src=\"qmtSIRFSE_interface.png\" style=\"width:800px;height:auto;\"></center>\n",
    "    \n",
    "<center><b style=\"text-align:justify;font-size: 20px;\">\n",
    "qMT bSSFP (Balanced Steady State Free Precession)\n",
    "</b>\n",
    "</center>\n",
    "<p>\n",
    "<center><img src=\"qmtbSSFP_interface.png\" style=\"width:800px;height:auto;\"></center>\n",
    "    \n",
    "    \n",
    "<center><b style=\"text-align:justify;font-size: 20px;\">\n",
    "qMT SPGR Pulse Sequence\n",
    "</b>\n",
    "</center>\n",
    "<p>\n",
    "<center><img src=\"qmtSPGR_sequence.png\" style=\"width:800px;height:auto;\"></center>"
   ]
  },
  {
   "cell_type": "markdown",
   "metadata": {
    "kernel": "SoS"
   },
   "source": [
    "<center> <h2 style=\"font-family:timesnewroman;font-size:30px\">qMT SPGR Simulations</h2> </center>"
   ]
  },
  {
   "cell_type": "markdown",
   "metadata": {
    "kernel": "SoS"
   },
   "source": [
    "<div class=blog_body>\n",
    "    \n",
    "<center>\n",
    "<b style=\"text-align:justify;font-size: 20px;\">\n",
    "Single voxel curve.\n",
    "</b>\n",
    "</center>\n",
    "</div>\n",
    "\n",
    "### Varying SNR\n",
    "\n",
    "<p style=\"text-align:justify;\">\n",
    "Varying SNR with values 20, 50, 100 and 1000\n",
    "</p>\n",
    "\n"
   ]
  },
  {
   "cell_type": "code",
   "execution_count": null,
   "metadata": {},
   "outputs": [],
   "source": [
    "tag = HTML('''<script>\n",
    "code_show=true; \n",
    "function code_toggle() {\n",
    "    if (code_show){\n",
    "        $('div.cell.code_cell.rendered.selected div.input').hide();\n",
    "    } else {\n",
    "        $('div.cell.code_cell.rendered.selected div.input').show();\n",
    "    }\n",
    "    code_show = !code_show\n",
    "} \n",
    "$( document ).ready(code_toggle);\n",
    "</script>\n",
    "Click <a href=\"javascript:code_toggle()\">here</a> to show/hide this cell's raw code containing the function octave.sim_SNR to run the simulation.''')\n",
    "display(tag)\n",
    "\n",
    "# Run simulation (functions are in the folder fun). NOTE: There are default simulations saved in the folder results.\n",
    "SNR = np.append(np.arange(10,100,10),np.arange(100,1100,100))\n",
    "\n",
    "dataSim_SNR, dataRaw_SNR = octave.sim_SNR(SNR,nout=2)"
   ]
  },
  {
   "cell_type": "code",
   "execution_count": 7,
   "metadata": {},
   "outputs": [
    {
     "ename": "FileNotFoundError",
     "evalue": "[Errno 2] No such file or directory: '../results/dataSim_SNR.mat'",
     "output_type": "error",
     "traceback": [
      "\u001b[1;31m---------------------------------------------------------------------------\u001b[0m",
      "\u001b[1;31mFileNotFoundError\u001b[0m                         Traceback (most recent call last)",
      "\u001b[1;32m~\\AppData\\Roaming\\Python\\Python37\\site-packages\\scipy\\io\\matlab\\mio.py\u001b[0m in \u001b[0;36m_open_file\u001b[1;34m(file_like, appendmat, mode)\u001b[0m\n\u001b[0;32m     38\u001b[0m     \u001b[1;32mtry\u001b[0m\u001b[1;33m:\u001b[0m\u001b[1;33m\u001b[0m\u001b[1;33m\u001b[0m\u001b[0m\n\u001b[1;32m---> 39\u001b[1;33m         \u001b[1;32mreturn\u001b[0m \u001b[0mopen\u001b[0m\u001b[1;33m(\u001b[0m\u001b[0mfile_like\u001b[0m\u001b[1;33m,\u001b[0m \u001b[0mmode\u001b[0m\u001b[1;33m)\u001b[0m\u001b[1;33m,\u001b[0m \u001b[1;32mTrue\u001b[0m\u001b[1;33m\u001b[0m\u001b[1;33m\u001b[0m\u001b[0m\n\u001b[0m\u001b[0;32m     40\u001b[0m     \u001b[1;32mexcept\u001b[0m \u001b[0mIOError\u001b[0m\u001b[1;33m:\u001b[0m\u001b[1;33m\u001b[0m\u001b[1;33m\u001b[0m\u001b[0m\n",
      "\u001b[1;31mFileNotFoundError\u001b[0m: [Errno 2] No such file or directory: '../results/dataSim_SNR.mat'",
      "\nDuring handling of the above exception, another exception occurred:\n",
      "\u001b[1;31mFileNotFoundError\u001b[0m                         Traceback (most recent call last)",
      "\u001b[1;32m<ipython-input-7-a9d2080660a1>\u001b[0m in \u001b[0;36m<module>\u001b[1;34m\u001b[0m\n\u001b[0;32m      2\u001b[0m \u001b[0mSNR\u001b[0m \u001b[1;33m=\u001b[0m \u001b[0mnp\u001b[0m\u001b[1;33m.\u001b[0m\u001b[0mappend\u001b[0m\u001b[1;33m(\u001b[0m\u001b[0mnp\u001b[0m\u001b[1;33m.\u001b[0m\u001b[0marange\u001b[0m\u001b[1;33m(\u001b[0m\u001b[1;36m10\u001b[0m\u001b[1;33m,\u001b[0m\u001b[1;36m100\u001b[0m\u001b[1;33m,\u001b[0m\u001b[1;36m10\u001b[0m\u001b[1;33m)\u001b[0m\u001b[1;33m,\u001b[0m\u001b[0mnp\u001b[0m\u001b[1;33m.\u001b[0m\u001b[0marange\u001b[0m\u001b[1;33m(\u001b[0m\u001b[1;36m100\u001b[0m\u001b[1;33m,\u001b[0m\u001b[1;36m1100\u001b[0m\u001b[1;33m,\u001b[0m\u001b[1;36m100\u001b[0m\u001b[1;33m)\u001b[0m\u001b[1;33m)\u001b[0m\u001b[1;33m\u001b[0m\u001b[1;33m\u001b[0m\u001b[0m\n\u001b[0;32m      3\u001b[0m \u001b[1;33m\u001b[0m\u001b[0m\n\u001b[1;32m----> 4\u001b[1;33m \u001b[0mdataSim_SNR_mat\u001b[0m \u001b[1;33m=\u001b[0m \u001b[0mscipy\u001b[0m\u001b[1;33m.\u001b[0m\u001b[0mio\u001b[0m\u001b[1;33m.\u001b[0m\u001b[0mloadmat\u001b[0m\u001b[1;33m(\u001b[0m\u001b[1;34m'../results/dataSim_SNR.mat'\u001b[0m\u001b[1;33m)\u001b[0m\u001b[1;33m\u001b[0m\u001b[1;33m\u001b[0m\u001b[0m\n\u001b[0m\u001b[0;32m      5\u001b[0m \u001b[0mdataRaw_SNR_mat\u001b[0m \u001b[1;33m=\u001b[0m \u001b[0mscipy\u001b[0m\u001b[1;33m.\u001b[0m\u001b[0mio\u001b[0m\u001b[1;33m.\u001b[0m\u001b[0mloadmat\u001b[0m\u001b[1;33m(\u001b[0m\u001b[1;34m'../results/dataRaw_SNR.mat'\u001b[0m\u001b[1;33m)\u001b[0m\u001b[1;33m\u001b[0m\u001b[1;33m\u001b[0m\u001b[0m\n\u001b[0;32m      6\u001b[0m \u001b[0mdataSim_SNR\u001b[0m \u001b[1;33m=\u001b[0m \u001b[0mnp\u001b[0m\u001b[1;33m.\u001b[0m\u001b[0marray\u001b[0m\u001b[1;33m(\u001b[0m\u001b[0mdataSim_SNR_mat\u001b[0m\u001b[1;33m[\u001b[0m\u001b[1;34m\"dataSim_SNR\"\u001b[0m\u001b[1;33m]\u001b[0m\u001b[1;33m)\u001b[0m\u001b[1;33m\u001b[0m\u001b[1;33m\u001b[0m\u001b[0m\n",
      "\u001b[1;32m~\\AppData\\Roaming\\Python\\Python37\\site-packages\\scipy\\io\\matlab\\mio.py\u001b[0m in \u001b[0;36mloadmat\u001b[1;34m(file_name, mdict, appendmat, **kwargs)\u001b[0m\n\u001b[0;32m    220\u001b[0m     \"\"\"\n\u001b[0;32m    221\u001b[0m     \u001b[0mvariable_names\u001b[0m \u001b[1;33m=\u001b[0m \u001b[0mkwargs\u001b[0m\u001b[1;33m.\u001b[0m\u001b[0mpop\u001b[0m\u001b[1;33m(\u001b[0m\u001b[1;34m'variable_names'\u001b[0m\u001b[1;33m,\u001b[0m \u001b[1;32mNone\u001b[0m\u001b[1;33m)\u001b[0m\u001b[1;33m\u001b[0m\u001b[1;33m\u001b[0m\u001b[0m\n\u001b[1;32m--> 222\u001b[1;33m     \u001b[1;32mwith\u001b[0m \u001b[0m_open_file_context\u001b[0m\u001b[1;33m(\u001b[0m\u001b[0mfile_name\u001b[0m\u001b[1;33m,\u001b[0m \u001b[0mappendmat\u001b[0m\u001b[1;33m)\u001b[0m \u001b[1;32mas\u001b[0m \u001b[0mf\u001b[0m\u001b[1;33m:\u001b[0m\u001b[1;33m\u001b[0m\u001b[1;33m\u001b[0m\u001b[0m\n\u001b[0m\u001b[0;32m    223\u001b[0m         \u001b[0mMR\u001b[0m\u001b[1;33m,\u001b[0m \u001b[0m_\u001b[0m \u001b[1;33m=\u001b[0m \u001b[0mmat_reader_factory\u001b[0m\u001b[1;33m(\u001b[0m\u001b[0mf\u001b[0m\u001b[1;33m,\u001b[0m \u001b[1;33m**\u001b[0m\u001b[0mkwargs\u001b[0m\u001b[1;33m)\u001b[0m\u001b[1;33m\u001b[0m\u001b[1;33m\u001b[0m\u001b[0m\n\u001b[0;32m    224\u001b[0m         \u001b[0mmatfile_dict\u001b[0m \u001b[1;33m=\u001b[0m \u001b[0mMR\u001b[0m\u001b[1;33m.\u001b[0m\u001b[0mget_variables\u001b[0m\u001b[1;33m(\u001b[0m\u001b[0mvariable_names\u001b[0m\u001b[1;33m)\u001b[0m\u001b[1;33m\u001b[0m\u001b[1;33m\u001b[0m\u001b[0m\n",
      "\u001b[1;32mD:\\Instalaciones\\Anaconda\\Anaconda3\\lib\\contextlib.py\u001b[0m in \u001b[0;36m__enter__\u001b[1;34m(self)\u001b[0m\n\u001b[0;32m    110\u001b[0m         \u001b[1;32mdel\u001b[0m \u001b[0mself\u001b[0m\u001b[1;33m.\u001b[0m\u001b[0margs\u001b[0m\u001b[1;33m,\u001b[0m \u001b[0mself\u001b[0m\u001b[1;33m.\u001b[0m\u001b[0mkwds\u001b[0m\u001b[1;33m,\u001b[0m \u001b[0mself\u001b[0m\u001b[1;33m.\u001b[0m\u001b[0mfunc\u001b[0m\u001b[1;33m\u001b[0m\u001b[1;33m\u001b[0m\u001b[0m\n\u001b[0;32m    111\u001b[0m         \u001b[1;32mtry\u001b[0m\u001b[1;33m:\u001b[0m\u001b[1;33m\u001b[0m\u001b[1;33m\u001b[0m\u001b[0m\n\u001b[1;32m--> 112\u001b[1;33m             \u001b[1;32mreturn\u001b[0m \u001b[0mnext\u001b[0m\u001b[1;33m(\u001b[0m\u001b[0mself\u001b[0m\u001b[1;33m.\u001b[0m\u001b[0mgen\u001b[0m\u001b[1;33m)\u001b[0m\u001b[1;33m\u001b[0m\u001b[1;33m\u001b[0m\u001b[0m\n\u001b[0m\u001b[0;32m    113\u001b[0m         \u001b[1;32mexcept\u001b[0m \u001b[0mStopIteration\u001b[0m\u001b[1;33m:\u001b[0m\u001b[1;33m\u001b[0m\u001b[1;33m\u001b[0m\u001b[0m\n\u001b[0;32m    114\u001b[0m             \u001b[1;32mraise\u001b[0m \u001b[0mRuntimeError\u001b[0m\u001b[1;33m(\u001b[0m\u001b[1;34m\"generator didn't yield\"\u001b[0m\u001b[1;33m)\u001b[0m \u001b[1;32mfrom\u001b[0m \u001b[1;32mNone\u001b[0m\u001b[1;33m\u001b[0m\u001b[1;33m\u001b[0m\u001b[0m\n",
      "\u001b[1;32m~\\AppData\\Roaming\\Python\\Python37\\site-packages\\scipy\\io\\matlab\\mio.py\u001b[0m in \u001b[0;36m_open_file_context\u001b[1;34m(file_like, appendmat, mode)\u001b[0m\n\u001b[0;32m     15\u001b[0m \u001b[1;33m@\u001b[0m\u001b[0mcontextmanager\u001b[0m\u001b[1;33m\u001b[0m\u001b[1;33m\u001b[0m\u001b[0m\n\u001b[0;32m     16\u001b[0m \u001b[1;32mdef\u001b[0m \u001b[0m_open_file_context\u001b[0m\u001b[1;33m(\u001b[0m\u001b[0mfile_like\u001b[0m\u001b[1;33m,\u001b[0m \u001b[0mappendmat\u001b[0m\u001b[1;33m,\u001b[0m \u001b[0mmode\u001b[0m\u001b[1;33m=\u001b[0m\u001b[1;34m'rb'\u001b[0m\u001b[1;33m)\u001b[0m\u001b[1;33m:\u001b[0m\u001b[1;33m\u001b[0m\u001b[1;33m\u001b[0m\u001b[0m\n\u001b[1;32m---> 17\u001b[1;33m     \u001b[0mf\u001b[0m\u001b[1;33m,\u001b[0m \u001b[0mopened\u001b[0m \u001b[1;33m=\u001b[0m \u001b[0m_open_file\u001b[0m\u001b[1;33m(\u001b[0m\u001b[0mfile_like\u001b[0m\u001b[1;33m,\u001b[0m \u001b[0mappendmat\u001b[0m\u001b[1;33m,\u001b[0m \u001b[0mmode\u001b[0m\u001b[1;33m)\u001b[0m\u001b[1;33m\u001b[0m\u001b[1;33m\u001b[0m\u001b[0m\n\u001b[0m\u001b[0;32m     18\u001b[0m     \u001b[1;32mtry\u001b[0m\u001b[1;33m:\u001b[0m\u001b[1;33m\u001b[0m\u001b[1;33m\u001b[0m\u001b[0m\n\u001b[0;32m     19\u001b[0m         \u001b[1;32myield\u001b[0m \u001b[0mf\u001b[0m\u001b[1;33m\u001b[0m\u001b[1;33m\u001b[0m\u001b[0m\n",
      "\u001b[1;32m~\\AppData\\Roaming\\Python\\Python37\\site-packages\\scipy\\io\\matlab\\mio.py\u001b[0m in \u001b[0;36m_open_file\u001b[1;34m(file_like, appendmat, mode)\u001b[0m\n\u001b[0;32m     43\u001b[0m             \u001b[1;32mif\u001b[0m \u001b[0mappendmat\u001b[0m \u001b[1;32mand\u001b[0m \u001b[1;32mnot\u001b[0m \u001b[0mfile_like\u001b[0m\u001b[1;33m.\u001b[0m\u001b[0mendswith\u001b[0m\u001b[1;33m(\u001b[0m\u001b[1;34m'.mat'\u001b[0m\u001b[1;33m)\u001b[0m\u001b[1;33m:\u001b[0m\u001b[1;33m\u001b[0m\u001b[1;33m\u001b[0m\u001b[0m\n\u001b[0;32m     44\u001b[0m                 \u001b[0mfile_like\u001b[0m \u001b[1;33m+=\u001b[0m \u001b[1;34m'.mat'\u001b[0m\u001b[1;33m\u001b[0m\u001b[1;33m\u001b[0m\u001b[0m\n\u001b[1;32m---> 45\u001b[1;33m             \u001b[1;32mreturn\u001b[0m \u001b[0mopen\u001b[0m\u001b[1;33m(\u001b[0m\u001b[0mfile_like\u001b[0m\u001b[1;33m,\u001b[0m \u001b[0mmode\u001b[0m\u001b[1;33m)\u001b[0m\u001b[1;33m,\u001b[0m \u001b[1;32mTrue\u001b[0m\u001b[1;33m\u001b[0m\u001b[1;33m\u001b[0m\u001b[0m\n\u001b[0m\u001b[0;32m     46\u001b[0m         \u001b[1;32melse\u001b[0m\u001b[1;33m:\u001b[0m\u001b[1;33m\u001b[0m\u001b[1;33m\u001b[0m\u001b[0m\n\u001b[0;32m     47\u001b[0m             \u001b[1;32mraise\u001b[0m \u001b[0mIOError\u001b[0m\u001b[1;33m(\u001b[0m\u001b[1;34m'Reader needs file name or open file-like object'\u001b[0m\u001b[1;33m)\u001b[0m\u001b[1;33m\u001b[0m\u001b[1;33m\u001b[0m\u001b[0m\n",
      "\u001b[1;31mFileNotFoundError\u001b[0m: [Errno 2] No such file or directory: '../results/dataSim_SNR.mat'"
     ]
    }
   ],
   "source": [
    "# Simulations have been performed and the results have been saved in the folder results.\n",
    "SNR = np.append(np.arange(10,100,10),np.arange(100,1100,100))\n",
    "\n",
    "dataSim_SNR_mat = scipy.io.loadmat('../results/dataSim_SNR.mat')\n",
    "dataRaw_SNR_mat = scipy.io.loadmat('../results/dataRaw_SNR.mat')\n",
    "dataSim_SNR = np.array(dataSim_SNR_mat[\"dataSim_SNR\"])\n",
    "dataRaw_SNR = np.array(dataRaw_SNR_mat[\"dataRaw_SNR\"])"
   ]
  },
  {
   "cell_type": "code",
   "execution_count": null,
   "metadata": {},
   "outputs": [],
   "source": [
    "# PYTHON CODE\n",
    "\n",
    "init_notebook_mode(connected=True)\n",
    "\n",
    "dataSim1 = [dict(\n",
    "        visible = False,\n",
    "        x = dataSim_SNR[:,0,0],\n",
    "        y = dataSim_SNR[:,1,ii],\n",
    "        line = dict(color = \"firebrick\"),\n",
    "        name = 'Fitted curve (angle = 142)',\n",
    "        text = 'Fitted curve (angle = 142)',\n",
    "        hoverinfo = 'x+y+text') for ii in range(len(SNR))]\n",
    "\n",
    "dataSim1[3]['visible'] = True\n",
    "\n",
    "dataSim2 = [dict(\n",
    "        visible = False,\n",
    "        x = dataSim_SNR[:,0,0],\n",
    "        y = dataSim_SNR[:,2,ii],\n",
    "        line = dict(color = \"royalblue\"),\n",
    "        name = 'Fitted curve (angle = 426)',\n",
    "        text = 'Fitted curve (angle = 426)',\n",
    "        hoverinfo = 'x+y+text') for ii in range(len(SNR))]\n",
    "\n",
    "dataSim2[3]['visible'] = True\n",
    "\n",
    "dataRaw = [dict(\n",
    "        visible = False,\n",
    "        mode = 'markers',\n",
    "        marker = dict(color = \"darkslategray\"),\n",
    "        x = dataRaw_SNR[:,0,0],\n",
    "        y = dataRaw_SNR[:,1,ii],\n",
    "        name = 'Raw data',\n",
    "        text = 'Raw data)',\n",
    "        hoverinfo = 'x+y+text') for ii in range(len(SNR))]\n",
    "\n",
    "dataRaw[3]['visible'] = True\n",
    "\n",
    "data = dataSim1 + dataSim2 + dataRaw\n",
    "\n",
    "steps = []\n",
    "for i in range(len(SNR)):\n",
    "    step = dict(\n",
    "        method = 'restyle',  \n",
    "        args = ['visible', [False] * len(dataSim1)],\n",
    "        label = str(SNR[i])\n",
    "    )\n",
    "    step['args'][1][i] = True # Toggle i'th trace to \"visible\"\n",
    "    steps.append(step)\n",
    "\n",
    "sliders = [dict(\n",
    "    x = 0,\n",
    "    y = -0.0,\n",
    "    active = 3,\n",
    "    currentvalue = {\"prefix\": \"SNR: <b>\"},\n",
    "    pad = {\"t\": 50, \"b\": 10},\n",
    "    steps = steps\n",
    ")]\n",
    "\n",
    "layout = go.Layout(\n",
    "    plot_bgcolor='rgba(0,0,0,0)',\n",
    "    width=580,\n",
    "    height=400,\n",
    "    margin=go.layout.Margin(\n",
    "        l=80,\n",
    "        r=40,\n",
    "        b=60,\n",
    "        t=10,\n",
    "    ),\n",
    "    annotations=[\n",
    "        dict(\n",
    "            x=0.5004254919715793,\n",
    "            y=-0.2,\n",
    "            showarrow=False,\n",
    "            text='Offset (Hz)',\n",
    "            font=dict(\n",
    "                family='Times New Roman',\n",
    "                size=22\n",
    "            ),\n",
    "            xref='paper',\n",
    "            yref='paper'\n",
    "        ),\n",
    "        dict(\n",
    "            x=-0.14,\n",
    "            y=0.5,\n",
    "            showarrow=False,\n",
    "            text='Magnetization |M<sub>z</sub>|',\n",
    "            font=dict(\n",
    "                family='Times New Roman',\n",
    "                size=22\n",
    "            ),\n",
    "            textangle=-90,\n",
    "            xref='paper',\n",
    "            yref='paper'\n",
    "        ),\n",
    "    ],\n",
    "    xaxis=dict(\n",
    "        autorange=False,\n",
    "        type=\"log\",\n",
    "        range=[2, 5],\n",
    "        showgrid=False,\n",
    "        linecolor='black',\n",
    "        linewidth=2\n",
    "    ),\n",
    "    yaxis=dict(\n",
    "        autorange=False,\n",
    "        range=[0, 1],\n",
    "        showgrid=False,\n",
    "        linecolor='black',\n",
    "        linewidth=2\n",
    "    ),\n",
    "    legend=dict(\n",
    "        x=0.6,\n",
    "        y=0.2,\n",
    "        traceorder='normal',\n",
    "        font=dict(\n",
    "            family='Times New Roman',\n",
    "            size=12,\n",
    "            color='#000'\n",
    "        ),\n",
    "        bordercolor='#000000',\n",
    "        borderwidth=2\n",
    "    ), \n",
    "    sliders=sliders\n",
    ")\n",
    "\n",
    "fig = dict(data=data, layout=layout)\n",
    "\n",
    "iplot(fig, filename = 'basic-line', config = config)"
   ]
  },
  {
   "cell_type": "markdown",
   "metadata": {},
   "source": [
    "### Varying number of Pulses\n",
    "Varying RF pulses: 5, 10, 20, 30, 40, 50, 60, 70, 80, 90, 100, 200, 300, 400, 500, 600."
   ]
  },
  {
   "cell_type": "code",
   "execution_count": null,
   "metadata": {},
   "outputs": [],
   "source": [
    "dataSim_Pulses_mat = scipy.io.loadmat('dataSim_svc/BlochSimulations/dataSim_Pulses.mat')\n",
    "datablochSim_Pulses_mat = scipy.io.loadmat('dataSim_svc/BlochSimulations/datablochSim_Pulses.mat')\n",
    "dataRaw_Pulses_mat = scipy.io.loadmat('dataSim_svc/BlochSimulations/dataRaw_Pulses.mat')\n",
    "datablochSimResetMz_Pulses_mat = scipy.io.loadmat('dataSim_svc/BlochSimulations/datablochSimResetMz_Pulses.mat')\n",
    "dataRawResetMz_Pulses_mat = scipy.io.loadmat('dataSim_svc/BlochSimulations/dataRawResetMz_Pulses.mat')\n",
    "\n",
    "dataSimAnalytical_Pulses = np.array(dataSim_Pulses_mat[\"dataSim_Pulses\"])\n",
    "dataBlochSim_Pulses = np.array(datablochSim_Pulses_mat[\"datablochSim_Pulses\"])\n",
    "dataRaw_Pulses = np.array(dataRaw_Pulses_mat[\"dataRaw_Pulses\"])\n",
    "dataBlochSimResetMz_Pulses = np.array(datablochSimResetMz_Pulses_mat[\"datablochSimResetMz_Pulses\"])\n",
    "dataRawResetMz_Pulses = np.array(dataRawResetMz_Pulses_mat[\"dataRawResetMz_Pulses\"])"
   ]
  },
  {
   "cell_type": "code",
   "execution_count": null,
   "metadata": {},
   "outputs": [],
   "source": [
    "# PYTHON CODE\n",
    "\n",
    "init_notebook_mode(connected=True)\n",
    "\n",
    "numPulses = np.append(np.arange(10,100,10),np.arange(100,700,100))\n",
    "numPulses = np.append(np.arange(1,6,1),numPulses)\n",
    "\n",
    "dataSimAnalyticalPulses1 = [dict(\n",
    "        visible = False,\n",
    "        x = dataSimAnalytical_Pulses[:,0,0],\n",
    "        y = dataSimAnalytical_Pulses[:,1,ii],\n",
    "        line = dict(color = \"firebrick\"),\n",
    "        name = 'Analytical Solution (angle = 142)',\n",
    "        text = 'Analytical Solution = 142)',\n",
    "        hoverinfo = 'x+y+text') for ii in range(len(numPulses))]\n",
    "\n",
    "dataSimAnalyticalPulses1[7]['visible'] = True\n",
    "\n",
    "dataSimAnalyticalPulses2 = [dict(\n",
    "        visible = False,\n",
    "        x = dataSimAnalytical_Pulses[:,0,0],\n",
    "        y = dataSimAnalytical_Pulses[:,2,ii],\n",
    "        line = dict(color = \"royalblue\"),\n",
    "        name = 'Analytical Solution (angle = 426)',\n",
    "        text = 'Analytical Solution (angle = 426)',\n",
    "        hoverinfo = 'x+y+text') for ii in range(len(numPulses))]\n",
    "\n",
    "dataSimAnalyticalPulses2[7]['visible'] = True\n",
    "\n",
    "dataBlochSimPulses1 = [dict(\n",
    "        visible = False,\n",
    "        x = dataBlochSim_Pulses[:,0,0],\n",
    "        y = dataBlochSim_Pulses[:,1,ii],\n",
    "        line = dict(\n",
    "            color = \"firebrick\",\n",
    "            dash = 'dash'),\n",
    "        name = 'Bloch Simulation (angle = 142)',\n",
    "        text = 'Bloch Simulation (angle = 142)',\n",
    "        hoverinfo = 'x+y+text') for ii in range(len(numPulses))]\n",
    "\n",
    "dataBlochSimPulses1[7]['visible'] = True\n",
    "\n",
    "dataBlochSimPulses2 = [dict(\n",
    "        visible = False,\n",
    "        x = dataBlochSim_Pulses[:,0,0],\n",
    "        y = dataBlochSim_Pulses[:,2,ii],\n",
    "        line = dict(\n",
    "            color = \"royalblue\",\n",
    "            dash = 'dash'),\n",
    "        name = 'Bloch Simulation (angle = 426)',\n",
    "        text = 'Bloch Simulation (angle = 426)',\n",
    "        hoverinfo = 'x+y+text') for ii in range(len(numPulses))]\n",
    "\n",
    "dataBlochSimPulses2[7]['visible'] = True\n",
    "\n",
    "dataRawPulses = [dict(\n",
    "        visible = False,\n",
    "        mode = 'markers',\n",
    "        marker = dict(color = \"darkslategray\"),\n",
    "        x = dataRaw_Pulses[:,0,0],\n",
    "        y = dataRaw_Pulses[:,1,ii],\n",
    "        name = 'Raw data',\n",
    "        text = 'Raw data)',\n",
    "        hoverinfo = 'x+y+text') for ii in range(len(numPulses))]\n",
    "\n",
    "dataRawPulses[7]['visible'] = True\n",
    "\n",
    "data = dataSimAnalyticalPulses1 + dataSimAnalyticalPulses2 + dataBlochSimPulses1 + dataBlochSimPulses2 + dataRawPulses\n",
    "\n",
    "steps = []\n",
    "for i in range(len(numPulses)):\n",
    "    step = dict(\n",
    "        method = 'restyle',  \n",
    "        args = ['visible', [False] * len(dataSimAnalyticalPulses1)],\n",
    "        label = str(numPulses[i])\n",
    "    )\n",
    "    step['args'][1][i] = True # Toggle i'th trace to \"visible\"\n",
    "    steps.append(step)\n",
    "\n",
    "sliders = [dict(\n",
    "    x = 0,\n",
    "    y = -0.0,\n",
    "    active = 7,\n",
    "    currentvalue = {\"prefix\": \"# of Pulses: <b>\"},\n",
    "    pad = {\"t\": 50, \"b\": 10},\n",
    "    steps = steps\n",
    ")]\n",
    "\n",
    "layout = go.Layout(\n",
    "    plot_bgcolor='rgba(0,0,0,0)',\n",
    "    width=580,\n",
    "    height=450,\n",
    "    margin=go.layout.Margin(\n",
    "        l=80,\n",
    "        r=40,\n",
    "        b=60,\n",
    "        t=10,\n",
    "    ),\n",
    "    annotations=[\n",
    "        dict(\n",
    "            x=0.5004254919715793,\n",
    "            y=-0.2,\n",
    "            showarrow=False,\n",
    "            text='Offset (Hz)',\n",
    "            font=dict(\n",
    "                family='Times New Roman',\n",
    "                size=22\n",
    "            ),\n",
    "            xref='paper',\n",
    "            yref='paper'\n",
    "        ),\n",
    "        dict(\n",
    "            x=-0.14,\n",
    "            y=0.5,\n",
    "            showarrow=False,\n",
    "            text='Magnetization |M<sub>z</sub>|',\n",
    "            font=dict(\n",
    "                family='Times New Roman',\n",
    "                size=22\n",
    "            ),\n",
    "            textangle=-90,\n",
    "            xref='paper',\n",
    "            yref='paper'\n",
    "        ),\n",
    "    ],\n",
    "    xaxis=dict(\n",
    "        autorange=False,\n",
    "        type=\"log\",\n",
    "        range=[2, 5],\n",
    "        showgrid=False,\n",
    "        linecolor='black',\n",
    "        linewidth=2\n",
    "    ),\n",
    "    yaxis=dict(\n",
    "        autorange=False,\n",
    "        range=[0, 1.1],\n",
    "        showgrid=False,\n",
    "        linecolor='black',\n",
    "        linewidth=2\n",
    "    ),\n",
    "    legend=dict(\n",
    "        x=0.5,\n",
    "        y=0.05,\n",
    "        traceorder='normal',\n",
    "        font=dict(\n",
    "            family='Times New Roman',\n",
    "            size=12,\n",
    "            color='#000'\n",
    "        ),\n",
    "        bordercolor='#000000',\n",
    "        borderwidth=2\n",
    "    ), \n",
    "    sliders=sliders\n",
    ")\n",
    "\n",
    "fig = dict(data=data, layout=layout)\n",
    "\n",
    "iplot(fig, filename = 'basic-line', config = config)"
   ]
  },
  {
   "cell_type": "markdown",
   "metadata": {},
   "source": [
    "### Varying number of Pulses (Reset Mz)\n",
    "When Mz is reset to zero after each repetition time"
   ]
  },
  {
   "cell_type": "code",
   "execution_count": null,
   "metadata": {},
   "outputs": [],
   "source": [
    "# PYTHON CODE\n",
    "\n",
    "init_notebook_mode(connected=True)\n",
    "\n",
    "numPulses = np.append(np.arange(10,100,10),np.arange(100,700,100))\n",
    "numPulses = np.append(np.arange(1,6,1),numPulses)\n",
    "\n",
    "dataSimAnalyticalPulses1 = [dict(\n",
    "        visible = False,\n",
    "        x = dataSimAnalytical_Pulses[:,0,0],\n",
    "        y = dataSimAnalytical_Pulses[:,1,ii],\n",
    "        line = dict(color = \"firebrick\"),\n",
    "        name = 'Analytical Solution (angle = 142)',\n",
    "        text = 'Analytical Solution = 142)',\n",
    "        hoverinfo = 'x+y+text') for ii in range(len(numPulses))]\n",
    "\n",
    "dataSimAnalyticalPulses1[7]['visible'] = True\n",
    "\n",
    "dataSimAnalyticalPulses2 = [dict(\n",
    "        visible = False,\n",
    "        x = dataSimAnalytical_Pulses[:,0,0],\n",
    "        y = dataSimAnalytical_Pulses[:,2,ii],\n",
    "        line = dict(color = \"royalblue\"),\n",
    "        name = 'Analytical Solution (angle = 426)',\n",
    "        text = 'Analytical Solution (angle = 426)',\n",
    "        hoverinfo = 'x+y+text') for ii in range(len(numPulses))]\n",
    "\n",
    "dataSimAnalyticalPulses2[7]['visible'] = True\n",
    "\n",
    "dataBlochSimPulses1 = [dict(\n",
    "        visible = False,\n",
    "        x = dataBlochSimResetMz_Pulses[:,0,0],\n",
    "        y = dataBlochSimResetMz_Pulses[:,1,ii],\n",
    "        line = dict(\n",
    "            color = \"firebrick\",\n",
    "            dash = 'dash'),\n",
    "        name = 'Bloch Simulation (angle = 142)',\n",
    "        text = 'Bloch Simulation (angle = 142)',\n",
    "        hoverinfo = 'x+y+text') for ii in range(len(numPulses))]\n",
    "\n",
    "dataBlochSimPulses1[7]['visible'] = True\n",
    "\n",
    "dataBlochSimPulses2 = [dict(\n",
    "        visible = False,\n",
    "        x = dataBlochSimResetMz_Pulses[:,0,0],\n",
    "        y = dataBlochSimResetMz_Pulses[:,2,ii],\n",
    "        line = dict(\n",
    "            color = \"royalblue\",\n",
    "            dash = 'dash'),\n",
    "        name = 'Bloch Simulation (angle = 426)',\n",
    "        text = 'Bloch Simulation (angle = 426)',\n",
    "        hoverinfo = 'x+y+text') for ii in range(len(numPulses))]\n",
    "\n",
    "dataBlochSimPulses2[7]['visible'] = True\n",
    "\n",
    "dataRawPulses = [dict(\n",
    "        visible = False,\n",
    "        mode = 'markers',\n",
    "        marker = dict(color = \"darkslategray\"),\n",
    "        x = dataRawResetMz_Pulses[:,0,0],\n",
    "        y = dataRawResetMz_Pulses[:,1,ii],\n",
    "        name = 'Raw data',\n",
    "        text = 'Raw data)',\n",
    "        hoverinfo = 'x+y+text') for ii in range(len(numPulses))]\n",
    "\n",
    "dataRawPulses[7]['visible'] = True\n",
    "\n",
    "data = dataSimAnalyticalPulses1 + dataSimAnalyticalPulses2 + dataBlochSimPulses1 + dataBlochSimPulses2 + dataRawPulses\n",
    "\n",
    "steps = []\n",
    "for i in range(len(numPulses)):\n",
    "    step = dict(\n",
    "        method = 'restyle',  \n",
    "        args = ['visible', [False] * len(dataSimAnalyticalPulses1)],\n",
    "        label = str(numPulses[i])\n",
    "    )\n",
    "    step['args'][1][i] = True # Toggle i'th trace to \"visible\"\n",
    "    steps.append(step)\n",
    "\n",
    "sliders = [dict(\n",
    "    x = 0,\n",
    "    y = -0.0,\n",
    "    active = 7,\n",
    "    currentvalue = {\"prefix\": \"# of Pulses: <b>\"},\n",
    "    pad = {\"t\": 50, \"b\": 10},\n",
    "    steps = steps\n",
    ")]\n",
    "\n",
    "layout = go.Layout(\n",
    "    plot_bgcolor='rgba(0,0,0,0)',\n",
    "    width=580,\n",
    "    height=450,\n",
    "    margin=go.layout.Margin(\n",
    "        l=80,\n",
    "        r=40,\n",
    "        b=60,\n",
    "        t=10,\n",
    "    ),\n",
    "    annotations=[\n",
    "        dict(\n",
    "            x=0.5004254919715793,\n",
    "            y=-0.2,\n",
    "            showarrow=False,\n",
    "            text='Offset (Hz)',\n",
    "            font=dict(\n",
    "                family='Times New Roman',\n",
    "                size=22\n",
    "            ),\n",
    "            xref='paper',\n",
    "            yref='paper'\n",
    "        ),\n",
    "        dict(\n",
    "            x=-0.14,\n",
    "            y=0.5,\n",
    "            showarrow=False,\n",
    "            text='Magnetization |M<sub>z</sub>|',\n",
    "            font=dict(\n",
    "                family='Times New Roman',\n",
    "                size=22\n",
    "            ),\n",
    "            textangle=-90,\n",
    "            xref='paper',\n",
    "            yref='paper'\n",
    "        ),\n",
    "    ],\n",
    "    xaxis=dict(\n",
    "        autorange=False,\n",
    "        type=\"log\",\n",
    "        range=[2, 5],\n",
    "        showgrid=False,\n",
    "        linecolor='black',\n",
    "        linewidth=2\n",
    "    ),\n",
    "    yaxis=dict(\n",
    "        autorange=False,\n",
    "        range=[0, 1.1],\n",
    "        showgrid=False,\n",
    "        linecolor='black',\n",
    "        linewidth=2\n",
    "    ),\n",
    "    legend=dict(\n",
    "        x=0.5,\n",
    "        y=0.05,\n",
    "        traceorder='normal',\n",
    "        font=dict(\n",
    "            family='Times New Roman',\n",
    "            size=12,\n",
    "            color='#000'\n",
    "        ),\n",
    "        bordercolor='#000000',\n",
    "        borderwidth=2\n",
    "    ), \n",
    "    sliders=sliders\n",
    ")\n",
    "\n",
    "fig = dict(data=data, layout=layout)\n",
    "\n",
    "iplot(fig, filename = 'basic-line', config = config)"
   ]
  },
  {
   "cell_type": "markdown",
   "metadata": {},
   "source": [
    "### Varying F"
   ]
  },
  {
   "cell_type": "code",
   "execution_count": null,
   "metadata": {},
   "outputs": [],
   "source": [
    "tag = HTML('''<script>\n",
    "code_show=true; \n",
    "function code_toggle() {\n",
    "    if (code_show){\n",
    "        $('div.cell.code_cell.rendered.selected div.input').hide();\n",
    "    } else {\n",
    "        $('div.cell.code_cell.rendered.selected div.input').show();\n",
    "    }\n",
    "    code_show = !code_show\n",
    "} \n",
    "$( document ).ready(code_toggle);\n",
    "</script>\n",
    "Click <a href=\"javascript:code_toggle()\">here</a> to show/hide this cell's raw code containing the function octave.sim_F to run the simulation.''')\n",
    "display(tag)\n",
    "\n",
    "# Run simulation (functions are in the folder fun). NOTE: There are default simulations saved in the folder results.\n",
    "F = np.append(np.arange(0.01,0.1,0.01),np.arange(0.1,1.1,0.1))\n",
    "\n",
    "dataSim_F, dataRaw_F = octave.sim_F(F,nout=2)"
   ]
  },
  {
   "cell_type": "code",
   "execution_count": null,
   "metadata": {},
   "outputs": [],
   "source": [
    "# Simulations have been performed and the results have been saved in the folder results.\n",
    "F = np.append(np.arange(0.01,0.1,0.01),np.arange(0.1,1.1,0.1))\n",
    "\n",
    "dataSim_F_mat = scipy.io.loadmat('../results/dataSim_F.mat')\n",
    "dataRaw_F_mat = scipy.io.loadmat('../results/dataRaw_F.mat')\n",
    "dataSim_F = np.array(dataSim_F_mat[\"dataSim_F\"])\n",
    "dataRaw_F = np.array(dataRaw_F_mat[\"dataRaw_F\"])"
   ]
  },
  {
   "cell_type": "code",
   "execution_count": null,
   "metadata": {},
   "outputs": [],
   "source": [
    "# PYTHON CODE\n",
    "\n",
    "init_notebook_mode(connected=True)\n",
    "\n",
    "F = np.append(np.arange(0.01,0.1,0.01),np.arange(0.1,1.1,0.1))\n",
    "\n",
    "dataSim1 = [dict(\n",
    "        visible = False,\n",
    "        x = dataSim_F[:,0,0],\n",
    "        y = dataSim_F[:,1,ii],\n",
    "        line = dict(color = \"firebrick\"),\n",
    "        name = 'Fitted curve (angle = 142)',\n",
    "        text = 'Fitted curve (angle = 142)',\n",
    "        hoverinfo = 'x+y+text') for ii in range(len(F))]\n",
    "\n",
    "dataSim1[3]['visible'] = True\n",
    "\n",
    "dataSim2 = [dict(\n",
    "        visible = False,\n",
    "        x = dataSim_F[:,0,0],\n",
    "        y = dataSim_F[:,2,ii],\n",
    "        line = dict(color = \"royalblue\"),\n",
    "        name = 'Fitted curve (angle = 426)',\n",
    "        text = 'Fitted curve (angle = 426)',\n",
    "        hoverinfo = 'x+y+text') for ii in range(len(F))]\n",
    "\n",
    "dataSim2[3]['visible'] = True\n",
    "\n",
    "dataRaw = [dict(\n",
    "        visible = False,\n",
    "        mode = 'markers',\n",
    "        marker = dict(color = \"darkslategray\"),\n",
    "        x = dataRaw_F[:,0,0],\n",
    "        y = dataRaw_F[:,1,ii],\n",
    "        name = 'Raw data',\n",
    "        text = 'Raw data)',\n",
    "        hoverinfo = 'x+y+text') for ii in range(len(F))]\n",
    "\n",
    "dataRaw[3]['visible'] = True\n",
    "\n",
    "data = dataSim1 + dataSim2 + dataRaw\n",
    "\n",
    "steps = []\n",
    "for i in range(len(F)):\n",
    "    step = dict(\n",
    "        method = 'restyle',  \n",
    "        args = ['visible', [False] * len(dataSim1)],\n",
    "        label = str(round(F[i], 2))\n",
    "    )\n",
    "    step['args'][1][i] = True # Toggle i'th trace to \"visible\"\n",
    "    steps.append(step)\n",
    "\n",
    "sliders = [dict(\n",
    "    x = 0,\n",
    "    y = -0.0,\n",
    "    active = 3,\n",
    "    currentvalue = {\"prefix\": \"F: <b>\"},\n",
    "    pad = {\"t\": 50, \"b\": 10},\n",
    "    steps = steps\n",
    ")]\n",
    "\n",
    "layout = go.Layout(\n",
    "    plot_bgcolor='rgba(0,0,0,0)',\n",
    "    width=580,\n",
    "    height=400,\n",
    "    margin=go.layout.Margin(\n",
    "        l=80,\n",
    "        r=40,\n",
    "        b=60,\n",
    "        t=10,\n",
    "    ),\n",
    "    annotations=[\n",
    "        dict(\n",
    "            x=0.5004254919715793,\n",
    "            y=-0.2,\n",
    "            showarrow=False,\n",
    "            text='Offset (Hz)',\n",
    "            font=dict(\n",
    "                family='Times New Roman',\n",
    "                size=22\n",
    "            ),\n",
    "            xref='paper',\n",
    "            yref='paper'\n",
    "        ),\n",
    "        dict(\n",
    "            x=-0.14,\n",
    "            y=0.5,\n",
    "            showarrow=False,\n",
    "            text='Magnetization |M<sub>z</sub>|',\n",
    "            font=dict(\n",
    "                family='Times New Roman',\n",
    "                size=22\n",
    "            ),\n",
    "            textangle=-90,\n",
    "            xref='paper',\n",
    "            yref='paper'\n",
    "        ),\n",
    "    ],\n",
    "    xaxis=dict(\n",
    "        autorange=False,\n",
    "        type=\"log\",\n",
    "        range=[2, 5],\n",
    "        showgrid=False,\n",
    "        linecolor='black',\n",
    "        linewidth=2\n",
    "    ),\n",
    "    yaxis=dict(\n",
    "        autorange=False,\n",
    "        range=[0, 1.1],\n",
    "        showgrid=False,\n",
    "        linecolor='black',\n",
    "        linewidth=2\n",
    "    ),\n",
    "    legend=dict(\n",
    "        x=0.6,\n",
    "        y=0.2,\n",
    "        traceorder='normal',\n",
    "        font=dict(\n",
    "            family='Times New Roman',\n",
    "            size=12,\n",
    "            color='#000'\n",
    "        ),\n",
    "        bordercolor='#000000',\n",
    "        borderwidth=2\n",
    "    ), \n",
    "    sliders=sliders\n",
    ")\n",
    "\n",
    "fig = dict(data=data, layout=layout)\n",
    "\n",
    "iplot(fig, filename = 'basic-line', config = config)"
   ]
  },
  {
   "cell_type": "markdown",
   "metadata": {},
   "source": [
    "### Varying kr"
   ]
  },
  {
   "cell_type": "code",
   "execution_count": null,
   "metadata": {},
   "outputs": [],
   "source": [
    "tag = HTML('''<script>\n",
    "code_show=true; \n",
    "function code_toggle() {\n",
    "    if (code_show){\n",
    "        $('div.cell.code_cell.rendered.selected div.input').hide();\n",
    "    } else {\n",
    "        $('div.cell.code_cell.rendered.selected div.input').show();\n",
    "    }\n",
    "    code_show = !code_show\n",
    "} \n",
    "$( document ).ready(code_toggle);\n",
    "</script>\n",
    "Click <a href=\"javascript:code_toggle()\">here</a> to show/hide this cell's raw code containing the function octave.sim_kr to run the simulation.''')\n",
    "display(tag)\n",
    "\n",
    "# Run simulation (functions are in the folder fun). NOTE: There are default simulations saved in the folder results.\n",
    "kr = np.append(np.arange(0.625,6.875,0.625),np.arange(18.75,131.25,12.5))\n",
    "\n",
    "dataSim_kr, dataRaw_kr = octave.sim_kr(kr,nout=2)"
   ]
  },
  {
   "cell_type": "code",
   "execution_count": null,
   "metadata": {},
   "outputs": [],
   "source": [
    "# Simulations have been performed and the results have been saved in the folder results.\n",
    "kr = np.append(np.arange(0.625,6.875,0.625),np.arange(18.75,131.25,12.5))\n",
    "\n",
    "dataSim_kr_mat = scipy.io.loadmat('../results/dataSim_kr.mat')\n",
    "dataRaw_kr_mat = scipy.io.loadmat('../results/dataRaw_kr.mat')\n",
    "dataSim_kr = np.array(dataSim_kr_mat[\"dataSim_kr\"])\n",
    "dataRaw_kr = np.array(dataRaw_kr_mat[\"dataRaw_kr\"])"
   ]
  },
  {
   "cell_type": "code",
   "execution_count": null,
   "metadata": {},
   "outputs": [],
   "source": [
    "# PYTHON CODE\n",
    "\n",
    "init_notebook_mode(connected=True)\n",
    "\n",
    "dataSim1 = [dict(\n",
    "        visible = False,\n",
    "        x = dataSim_kr[:,0,0],\n",
    "        y = dataSim_kr[:,1,ii],\n",
    "        line = dict(color = \"firebrick\"),\n",
    "        name = 'Fitted curve (angle = 142)',\n",
    "        text = 'Fitted curve (angle = 142)',\n",
    "        hoverinfo = 'x+y+text') for ii in range(len(kr))]\n",
    "\n",
    "dataSim1[3]['visible'] = True\n",
    "\n",
    "dataSim2 = [dict(\n",
    "        visible = False,\n",
    "        x = dataSim_kr[:,0,0],\n",
    "        y = dataSim_kr[:,2,ii],\n",
    "        line = dict(color = \"royalblue\"),\n",
    "        name = 'Fitted curve (angle = 426)',\n",
    "        text = 'Fitted curve (angle = 426)',\n",
    "        hoverinfo = 'x+y+text') for ii in range(len(kr))]\n",
    "\n",
    "dataSim2[3]['visible'] = True\n",
    "\n",
    "dataRaw = [dict(\n",
    "        visible = False,\n",
    "        mode = 'markers',\n",
    "        marker = dict(color = \"darkslategray\"),\n",
    "        x = dataRaw_kr[:,0,0],\n",
    "        y = dataRaw_kr[:,1,ii],\n",
    "        name = 'Raw data',\n",
    "        text = 'Raw data)',\n",
    "        hoverinfo = 'x+y+text') for ii in range(len(kr))]\n",
    "\n",
    "dataRaw[3]['visible'] = True\n",
    "\n",
    "data = dataSim1 + dataSim2 + dataRaw\n",
    "\n",
    "steps = []\n",
    "for i in range(len(kr)):\n",
    "    step = dict(\n",
    "        method = 'restyle',  \n",
    "        args = ['visible', [False] * len(dataSim1)],\n",
    "        label = str(round(kr[i], 2))\n",
    "    )\n",
    "    step['args'][1][i] = True # Toggle i'th trace to \"visible\"\n",
    "    steps.append(step)\n",
    "\n",
    "sliders = [dict(\n",
    "    x = 0,\n",
    "    y = -0.0,\n",
    "    active = 3,\n",
    "    currentvalue = {\"prefix\": \"kr: <b>\"},\n",
    "    pad = {\"t\": 50, \"b\": 10},\n",
    "    steps = steps\n",
    ")]\n",
    "\n",
    "layout = go.Layout(\n",
    "    plot_bgcolor='rgba(0,0,0,0)',\n",
    "    width=580,\n",
    "    height=400,\n",
    "    margin=go.layout.Margin(\n",
    "        l=80,\n",
    "        r=40,\n",
    "        b=60,\n",
    "        t=10,\n",
    "    ),\n",
    "    annotations=[\n",
    "        dict(\n",
    "            x=0.5004254919715793,\n",
    "            y=-0.2,\n",
    "            showarrow=False,\n",
    "            text='Offset (Hz)',\n",
    "            font=dict(\n",
    "                family='Times New Roman',\n",
    "                size=22\n",
    "            ),\n",
    "            xref='paper',\n",
    "            yref='paper'\n",
    "        ),\n",
    "        dict(\n",
    "            x=-0.14,\n",
    "            y=0.5,\n",
    "            showarrow=False,\n",
    "            text='Magnetization |M<sub>z</sub>|',\n",
    "            font=dict(\n",
    "                family='Times New Roman',\n",
    "                size=22\n",
    "            ),\n",
    "            textangle=-90,\n",
    "            xref='paper',\n",
    "            yref='paper'\n",
    "        ),\n",
    "    ],\n",
    "    xaxis=dict(\n",
    "        autorange=False,\n",
    "        type=\"log\",\n",
    "        range=[2, 5],\n",
    "        showgrid=False,\n",
    "        linecolor='black',\n",
    "        linewidth=2\n",
    "    ),\n",
    "    yaxis=dict(\n",
    "        autorange=False,\n",
    "        range=[0, 1.1],\n",
    "        showgrid=False,\n",
    "        linecolor='black',\n",
    "        linewidth=2\n",
    "    ),\n",
    "    legend=dict(\n",
    "        x=0.6,\n",
    "        y=0.2,\n",
    "        traceorder='normal',\n",
    "        font=dict(\n",
    "            family='Times New Roman',\n",
    "            size=12,\n",
    "            color='#000'\n",
    "        ),\n",
    "        bordercolor='#000000',\n",
    "        borderwidth=2\n",
    "    ), \n",
    "    sliders=sliders\n",
    ")\n",
    "\n",
    "fig = dict(data=data, layout=layout)\n",
    "\n",
    "iplot(fig, filename = 'basic-line', config = config)"
   ]
  },
  {
   "cell_type": "markdown",
   "metadata": {},
   "source": [
    "### Varying the model"
   ]
  },
  {
   "cell_type": "code",
   "execution_count": 20,
   "metadata": {},
   "outputs": [
    {
     "name": "stdout",
     "output_type": "stream",
     "text": [
      "warning: No MToff (i.e. no volumes acquired with Angles=0) --> Fitting assumes that MTData are already normalized.\n",
      "warning: No MToff (i.e. no volumes acquired with Angles=0) --> Fitting assumes that MTData are already normalized.\n",
      "warning: No MToff (i.e. no volumes acquired with Angles=0) --> Fitting assumes that MTData are already normalized.\n",
      "warning: No MToff (i.e. no volumes acquired with Angles=0) --> Fitting assumes that MTData are already normalized.\n"
     ]
    }
   ],
   "source": [
    "modelFit = [\"Sled Pike RP\", \"Sled Pike CW\", \"Yarnykh\", \"Ramani\"]\n",
    "mm = octave.cellstr(modelFit)\n",
    "#a = octave.mm{1}\n",
    "#print(mm{1})\n",
    "dataSim_model, dataRaw_model = octave.sim_modelFit(nout=2)"
   ]
  },
  {
   "cell_type": "code",
   "execution_count": null,
   "metadata": {},
   "outputs": [],
   "source": [
    "tag = HTML('''<script>\n",
    "code_show=true; \n",
    "function code_toggle() {\n",
    "    if (code_show){\n",
    "        $('div.cell.code_cell.rendered.selected div.input').hide();\n",
    "    } else {\n",
    "        $('div.cell.code_cell.rendered.selected div.input').show();\n",
    "    }\n",
    "    code_show = !code_show\n",
    "} \n",
    "$( document ).ready(code_toggle);\n",
    "</script>\n",
    "Click <a href=\"javascript:code_toggle()\">here</a> to show/hide this cell's raw code containing the function octave.sim_modelFit to run the simulation.''')\n",
    "display(tag)\n",
    "\n",
    "# Run simulation (functions are in the folder fun). NOTE: There are default simulations saved in the folder results.\n",
    "dataSim_model, dataRaw_model = octave.sim_modelFit(nout=2)"
   ]
  },
  {
   "cell_type": "code",
   "execution_count": null,
   "metadata": {},
   "outputs": [],
   "source": [
    "# Simulations have been performed and the results have been saved in the folder results.\n",
    "modelFit = [\"Sled Pike RP\", \"Sled Pike CW\", \"Yarnykh\", \"Ramani\"]\n",
    "\n",
    "dataSim_model_mat = scipy.io.loadmat('../results/dataSim_model.mat')\n",
    "dataRaw_model_mat = scipy.io.loadmat('../results/dataRaw_model.mat')\n",
    "dataSim_model = np.array(dataSim_model_mat[\"dataSim_modelFit\"])\n",
    "dataRaw_model = np.array(dataRaw_model_mat[\"dataRaw_modelFit\"])"
   ]
  },
  {
   "cell_type": "code",
   "execution_count": 28,
   "metadata": {},
   "outputs": [
    {
     "data": {
      "application/vnd.plotly.v1+json": {
       "config": {
        "plotlyServerURL": "https://plot.ly"
       },
       "data": [
        {
         "line": {
          "color": "firebrick"
         },
         "mode": "lines",
         "name": "Fitted curve (angle = 142)",
         "showlegend": true,
         "type": "scatter",
         "x": [
          100,
          221.5,
          343,
          443,
          543,
          765.5,
          988,
          1088,
          1188,
          1910,
          2632,
          2732,
          2832,
          4797,
          6762,
          6862,
          6962,
          12048.5,
          17135,
          17235,
          17335,
          18235
         ],
         "xaxis": "x",
         "y": [
          0.00881317157378912,
          0.37343447696293,
          0.661093832791793,
          0.7199791813876734,
          0.7513422491545599,
          0.7848775988223742,
          0.8008618470814187,
          0.8058661167918404,
          0.8101648968950066,
          0.8402396812975224,
          0.8654618143512635,
          0.8684397778290472,
          0.8713245011501123,
          0.9154428410110407,
          0.9451162224085932,
          0.9463530645742487,
          0.9475664457718909,
          0.9850523284164834,
          0.9958130106911827,
          0.9959113654427721,
          0.9960071879172009,
          0.9967669377695489
         ],
         "yaxis": "y"
        },
        {
         "line": {
          "color": "royalblue"
         },
         "mode": "lines",
         "name": "Fitted curve (angle = 426)",
         "showlegend": true,
         "type": "scatter",
         "x": [
          100,
          221.5,
          343,
          443,
          543,
          765.5,
          988,
          1088,
          1188,
          1910,
          2632,
          2732,
          2832,
          4797,
          6762,
          6862,
          6962,
          12048.5,
          17135,
          17235,
          17335,
          18235
         ],
         "xaxis": "x",
         "y": [
          0.020724017434756725,
          0.07952152832234823,
          0.23644933763967949,
          0.2857238014331286,
          0.31597055609919034,
          0.3602312030534838,
          0.3862028714386338,
          0.39468173792556244,
          0.4019228529613284,
          0.4468384153232748,
          0.4863311930946852,
          0.4914033651237524,
          0.4964183734614287,
          0.5904553952943927,
          0.6828354780660443,
          0.687461943956143,
          0.6920741297852071,
          0.8831708108463052,
          0.9638436961666133,
          0.9646591982284621,
          0.9654552200993833,
          0.9718197157507424
         ],
         "yaxis": "y"
        },
        {
         "line": {
          "color": "darkslategray"
         },
         "mode": "markers",
         "name": "Raw data",
         "showlegend": true,
         "type": "scatter",
         "x": [
          443,
          443,
          1088,
          1088,
          2732,
          2732,
          6862,
          6862,
          17235,
          17235
         ],
         "xaxis": "x",
         "y": [
          0.7193028341120516,
          0.28359808550219123,
          0.8059932089967744,
          0.3957139370981158,
          0.8671854164676123,
          0.4924385692378729,
          0.9461110081909453,
          0.6879894231813575,
          0.9980606091113726,
          0.9637390450466796
         ],
         "yaxis": "y"
        },
        {
         "line": {
          "color": "firebrick"
         },
         "mode": "lines",
         "name": "Fitted curve (angle = 142)",
         "showlegend": false,
         "type": "scatter",
         "x": [
          100,
          221.5,
          343,
          443,
          543,
          765.5,
          988,
          1088,
          1188,
          1910,
          2632,
          2732,
          2832,
          4797,
          6762,
          6862,
          6962,
          12048.5,
          17135,
          17235,
          17335,
          18235
         ],
         "xaxis": "x2",
         "y": [
          0.007040123458171969,
          0.3221383986533747,
          0.6086483788509507,
          0.6721199455003459,
          0.7066565276805364,
          0.7441686856109154,
          0.7622704707412148,
          0.7679689449963991,
          0.7728763778977382,
          0.8075268442411685,
          0.8369750557763206,
          0.8404747851092085,
          0.8438695305219888,
          0.8963545379924961,
          0.932261760224768,
          0.9337692047957025,
          0.935248898991912,
          0.9813778640023979,
          0.9947703141000662,
          0.9948930385258922,
          0.9950126087582342,
          0.9959608413628062
         ],
         "yaxis": "y2"
        },
        {
         "line": {
          "color": "royalblue"
         },
         "mode": "lines",
         "name": "Fitted curve (angle = 426)",
         "showlegend": false,
         "type": "scatter",
         "x": [
          100,
          221.5,
          343,
          443,
          543,
          765.5,
          988,
          1088,
          1188,
          1910,
          2632,
          2732,
          2832,
          4797,
          6762,
          6862,
          6962,
          12048.5,
          17135,
          17235,
          17335,
          18235
         ],
         "xaxis": "x2",
         "y": [
          0.016575803156950845,
          0.06423464815976233,
          0.19618643498007676,
          0.2391302743778772,
          0.26588260870635066,
          0.3056292598230126,
          0.32936878629948907,
          0.3372114787263182,
          0.34395556139023953,
          0.38713243907076367,
          0.4262705865011783,
          0.43135033096237324,
          0.43638384106766726,
          0.5326945908994103,
          0.630939454423732,
          0.6359596072422903,
          0.6409740643939094,
          0.8578572473188554,
          0.9551784783524354,
          0.9561810100153884,
          0.9571599633070693,
          0.9650002205581601
         ],
         "yaxis": "y2"
        },
        {
         "line": {
          "color": "darkslategray"
         },
         "mode": "markers",
         "name": "Raw data",
         "showlegend": false,
         "type": "scatter",
         "x": [
          443,
          443,
          1088,
          1088,
          2732,
          2732,
          6862,
          6862,
          17235,
          17235
         ],
         "xaxis": "x2",
         "y": [
          0.6713386811277761,
          0.23951664131872208,
          0.7692092758277219,
          0.336690971025362,
          0.8406683272415019,
          0.43154274998147546,
          0.9362385419391418,
          0.6367368953731888,
          0.9966787450198095,
          0.9583222395534462
         ],
         "yaxis": "y2"
        },
        {
         "line": {
          "color": "firebrick"
         },
         "mode": "lines",
         "name": "Fitted curve (angle = 142)",
         "showlegend": false,
         "type": "scatter",
         "x": [
          100,
          221.5,
          343,
          443,
          543,
          765.5,
          988,
          1088,
          1188,
          1910,
          2632,
          2732,
          2832,
          4797,
          6762,
          6862,
          6962,
          12048.5,
          17135,
          17235,
          17335,
          18235
         ],
         "xaxis": "x3",
         "y": [
          0.22770164386395883,
          0.5328082099849126,
          0.6640942013805063,
          0.7148056915545503,
          0.7436113107549409,
          0.7759107592793816,
          0.791822879596021,
          0.7968771389209061,
          0.8012410637684023,
          0.8322115412695547,
          0.858414927186629,
          0.8615170371976821,
          0.8645233554913628,
          0.9106790403338656,
          0.9418982643054075,
          0.9432025252170212,
          0.9444822805050461,
          0.9841307685361347,
          0.9955521198452241,
          0.9956565897051481,
          0.9957583741131565,
          0.9965654272134625
         ],
         "yaxis": "y3"
        },
        {
         "line": {
          "color": "royalblue"
         },
         "mode": "lines",
         "name": "Fitted curve (angle = 426)",
         "showlegend": false,
         "type": "scatter",
         "x": [
          100,
          221.5,
          343,
          443,
          543,
          765.5,
          988,
          1088,
          1188,
          1910,
          2632,
          2732,
          2832,
          4797,
          6762,
          6862,
          6962,
          12048.5,
          17135,
          17235,
          17335,
          18235
         ],
         "xaxis": "x3",
         "y": [
          0.028525973897028004,
          0.11624905683608114,
          0.20149454776486928,
          0.2540029949339637,
          0.2920664885375103,
          0.34372524449344105,
          0.37191850530223863,
          0.38081669987457434,
          0.3883197065230992,
          0.4334956588456558,
          0.4728161707677683,
          0.47786823634616954,
          0.4828648158137132,
          0.5769570335984406,
          0.67036082305838,
          0.6750671892367218,
          0.679761856431717,
          0.8768713839883885,
          0.961678974009039,
          0.962541256676997,
          0.9633830520919551,
          0.9701168902099213
         ],
         "yaxis": "y3"
        },
        {
         "line": {
          "color": "darkslategray"
         },
         "mode": "markers",
         "name": "Raw data",
         "showlegend": false,
         "type": "scatter",
         "x": [
          443,
          443,
          1088,
          1088,
          2732,
          2732,
          6862,
          6862,
          17235,
          17235
         ],
         "xaxis": "x3",
         "y": [
          0.7129971292627528,
          0.25295397132926517,
          0.7949861798070519,
          0.3824370249699906,
          0.861871496680976,
          0.478079394469671,
          0.941010330143174,
          0.6747757057073556,
          0.9960073265104229,
          0.9621223315910872
         ],
         "yaxis": "y3"
        },
        {
         "line": {
          "color": "firebrick"
         },
         "mode": "lines",
         "name": "Fitted curve (angle = 142)",
         "showlegend": false,
         "type": "scatter",
         "x": [
          100,
          221.5,
          343,
          443,
          543,
          765.5,
          988,
          1088,
          1188,
          1910,
          2632,
          2732,
          2832,
          4797,
          6762,
          6862,
          6962,
          12048.5,
          17135,
          17235,
          17335,
          18235
         ],
         "xaxis": "x4",
         "y": [
          0.20227106468040543,
          0.49212110931150777,
          0.6263074575928456,
          0.6798023153298081,
          0.7106205939864615,
          0.7455667473235013,
          0.7629493179461126,
          0.7684971010067406,
          0.7732982676306092,
          0.8076656278724738,
          0.8370456673151423,
          0.840540300826295,
          0.8439302934886672,
          0.8963759266244584,
          0.9322728217885694,
          0.9337799641016945,
          0.9352593726045062,
          0.9813814946808445,
          0.9947721334093974,
          0.9948948347238261,
          0.9950143857885158,
          0.9959624463480716
         ],
         "yaxis": "y4"
        },
        {
         "line": {
          "color": "royalblue"
         },
         "mode": "lines",
         "name": "Fitted curve (angle = 426)",
         "showlegend": false,
         "type": "scatter",
         "x": [
          100,
          221.5,
          343,
          443,
          543,
          765.5,
          988,
          1088,
          1188,
          1910,
          2632,
          2732,
          2832,
          4797,
          6762,
          6862,
          6962,
          12048.5,
          17135,
          17235,
          17335,
          18235
         ],
         "xaxis": "x4",
         "y": [
          0.026888162342705895,
          0.10240751249176507,
          0.17639286028405426,
          0.22261997670081327,
          0.25647868316019495,
          0.3029821763847439,
          0.32873982649498507,
          0.3369589673348405,
          0.343936554929551,
          0.3874127114816009,
          0.426488968166669,
          0.43155985211363435,
          0.4365849162539252,
          0.5327951875946194,
          0.6310019581708595,
          0.6360209162665519,
          0.6410342300864859,
          0.8578850164884957,
          0.9551939397180722,
          0.9561963022571532,
          0.9571751051529718,
          0.9650140303214325
         ],
         "yaxis": "y4"
        },
        {
         "line": {
          "color": "darkslategray"
         },
         "mode": "markers",
         "name": "Raw data",
         "showlegend": false,
         "type": "scatter",
         "x": [
          443,
          443,
          1088,
          1088,
          2732,
          2732,
          6862,
          6862,
          17235,
          17235
         ],
         "xaxis": "x4",
         "y": [
          0.6795391925988596,
          0.2211143378547327,
          0.7682389719092402,
          0.3367208806326628,
          0.8399673404686225,
          0.43197436509931303,
          0.9331614248178208,
          0.6376378000201853,
          0.9932520385892715,
          0.9571861699634298
         ],
         "yaxis": "y4"
        }
       ],
       "layout": {
        "annotations": [
         {
          "font": {
           "size": 16
          },
          "showarrow": false,
          "text": "Sled Pike RP",
          "x": 0.10625,
          "xanchor": "center",
          "xref": "paper",
          "y": 1,
          "yanchor": "bottom",
          "yref": "paper"
         },
         {
          "font": {
           "size": 16
          },
          "showarrow": false,
          "text": "Sled Pike CW",
          "x": 0.36875,
          "xanchor": "center",
          "xref": "paper",
          "y": 1,
          "yanchor": "bottom",
          "yref": "paper"
         },
         {
          "font": {
           "size": 16
          },
          "showarrow": false,
          "text": "Yarnykh",
          "x": 0.6312500000000001,
          "xanchor": "center",
          "xref": "paper",
          "y": 1,
          "yanchor": "bottom",
          "yref": "paper"
         },
         {
          "font": {
           "size": 16
          },
          "showarrow": false,
          "text": "Ramani",
          "x": 0.89375,
          "xanchor": "center",
          "xref": "paper",
          "y": 1,
          "yanchor": "bottom",
          "yref": "paper"
         }
        ],
        "height": 500,
        "legend": {
         "orientation": "h",
         "x": 0.5,
         "xanchor": "center",
         "y": 1.1,
         "yanchor": "bottom"
        },
        "plot_bgcolor": "rgba(0,0,0,0)",
        "template": {
         "data": {
          "bar": [
           {
            "error_x": {
             "color": "#2a3f5f"
            },
            "error_y": {
             "color": "#2a3f5f"
            },
            "marker": {
             "line": {
              "color": "#E5ECF6",
              "width": 0.5
             },
             "pattern": {
              "fillmode": "overlay",
              "size": 10,
              "solidity": 0.2
             }
            },
            "type": "bar"
           }
          ],
          "barpolar": [
           {
            "marker": {
             "line": {
              "color": "#E5ECF6",
              "width": 0.5
             },
             "pattern": {
              "fillmode": "overlay",
              "size": 10,
              "solidity": 0.2
             }
            },
            "type": "barpolar"
           }
          ],
          "carpet": [
           {
            "aaxis": {
             "endlinecolor": "#2a3f5f",
             "gridcolor": "white",
             "linecolor": "white",
             "minorgridcolor": "white",
             "startlinecolor": "#2a3f5f"
            },
            "baxis": {
             "endlinecolor": "#2a3f5f",
             "gridcolor": "white",
             "linecolor": "white",
             "minorgridcolor": "white",
             "startlinecolor": "#2a3f5f"
            },
            "type": "carpet"
           }
          ],
          "choropleth": [
           {
            "colorbar": {
             "outlinewidth": 0,
             "ticks": ""
            },
            "type": "choropleth"
           }
          ],
          "contour": [
           {
            "colorbar": {
             "outlinewidth": 0,
             "ticks": ""
            },
            "colorscale": [
             [
              0,
              "#0d0887"
             ],
             [
              0.1111111111111111,
              "#46039f"
             ],
             [
              0.2222222222222222,
              "#7201a8"
             ],
             [
              0.3333333333333333,
              "#9c179e"
             ],
             [
              0.4444444444444444,
              "#bd3786"
             ],
             [
              0.5555555555555556,
              "#d8576b"
             ],
             [
              0.6666666666666666,
              "#ed7953"
             ],
             [
              0.7777777777777778,
              "#fb9f3a"
             ],
             [
              0.8888888888888888,
              "#fdca26"
             ],
             [
              1,
              "#f0f921"
             ]
            ],
            "type": "contour"
           }
          ],
          "contourcarpet": [
           {
            "colorbar": {
             "outlinewidth": 0,
             "ticks": ""
            },
            "type": "contourcarpet"
           }
          ],
          "heatmap": [
           {
            "colorbar": {
             "outlinewidth": 0,
             "ticks": ""
            },
            "colorscale": [
             [
              0,
              "#0d0887"
             ],
             [
              0.1111111111111111,
              "#46039f"
             ],
             [
              0.2222222222222222,
              "#7201a8"
             ],
             [
              0.3333333333333333,
              "#9c179e"
             ],
             [
              0.4444444444444444,
              "#bd3786"
             ],
             [
              0.5555555555555556,
              "#d8576b"
             ],
             [
              0.6666666666666666,
              "#ed7953"
             ],
             [
              0.7777777777777778,
              "#fb9f3a"
             ],
             [
              0.8888888888888888,
              "#fdca26"
             ],
             [
              1,
              "#f0f921"
             ]
            ],
            "type": "heatmap"
           }
          ],
          "heatmapgl": [
           {
            "colorbar": {
             "outlinewidth": 0,
             "ticks": ""
            },
            "colorscale": [
             [
              0,
              "#0d0887"
             ],
             [
              0.1111111111111111,
              "#46039f"
             ],
             [
              0.2222222222222222,
              "#7201a8"
             ],
             [
              0.3333333333333333,
              "#9c179e"
             ],
             [
              0.4444444444444444,
              "#bd3786"
             ],
             [
              0.5555555555555556,
              "#d8576b"
             ],
             [
              0.6666666666666666,
              "#ed7953"
             ],
             [
              0.7777777777777778,
              "#fb9f3a"
             ],
             [
              0.8888888888888888,
              "#fdca26"
             ],
             [
              1,
              "#f0f921"
             ]
            ],
            "type": "heatmapgl"
           }
          ],
          "histogram": [
           {
            "marker": {
             "pattern": {
              "fillmode": "overlay",
              "size": 10,
              "solidity": 0.2
             }
            },
            "type": "histogram"
           }
          ],
          "histogram2d": [
           {
            "colorbar": {
             "outlinewidth": 0,
             "ticks": ""
            },
            "colorscale": [
             [
              0,
              "#0d0887"
             ],
             [
              0.1111111111111111,
              "#46039f"
             ],
             [
              0.2222222222222222,
              "#7201a8"
             ],
             [
              0.3333333333333333,
              "#9c179e"
             ],
             [
              0.4444444444444444,
              "#bd3786"
             ],
             [
              0.5555555555555556,
              "#d8576b"
             ],
             [
              0.6666666666666666,
              "#ed7953"
             ],
             [
              0.7777777777777778,
              "#fb9f3a"
             ],
             [
              0.8888888888888888,
              "#fdca26"
             ],
             [
              1,
              "#f0f921"
             ]
            ],
            "type": "histogram2d"
           }
          ],
          "histogram2dcontour": [
           {
            "colorbar": {
             "outlinewidth": 0,
             "ticks": ""
            },
            "colorscale": [
             [
              0,
              "#0d0887"
             ],
             [
              0.1111111111111111,
              "#46039f"
             ],
             [
              0.2222222222222222,
              "#7201a8"
             ],
             [
              0.3333333333333333,
              "#9c179e"
             ],
             [
              0.4444444444444444,
              "#bd3786"
             ],
             [
              0.5555555555555556,
              "#d8576b"
             ],
             [
              0.6666666666666666,
              "#ed7953"
             ],
             [
              0.7777777777777778,
              "#fb9f3a"
             ],
             [
              0.8888888888888888,
              "#fdca26"
             ],
             [
              1,
              "#f0f921"
             ]
            ],
            "type": "histogram2dcontour"
           }
          ],
          "mesh3d": [
           {
            "colorbar": {
             "outlinewidth": 0,
             "ticks": ""
            },
            "type": "mesh3d"
           }
          ],
          "parcoords": [
           {
            "line": {
             "colorbar": {
              "outlinewidth": 0,
              "ticks": ""
             }
            },
            "type": "parcoords"
           }
          ],
          "pie": [
           {
            "automargin": true,
            "type": "pie"
           }
          ],
          "scatter": [
           {
            "marker": {
             "colorbar": {
              "outlinewidth": 0,
              "ticks": ""
             }
            },
            "type": "scatter"
           }
          ],
          "scatter3d": [
           {
            "line": {
             "colorbar": {
              "outlinewidth": 0,
              "ticks": ""
             }
            },
            "marker": {
             "colorbar": {
              "outlinewidth": 0,
              "ticks": ""
             }
            },
            "type": "scatter3d"
           }
          ],
          "scattercarpet": [
           {
            "marker": {
             "colorbar": {
              "outlinewidth": 0,
              "ticks": ""
             }
            },
            "type": "scattercarpet"
           }
          ],
          "scattergeo": [
           {
            "marker": {
             "colorbar": {
              "outlinewidth": 0,
              "ticks": ""
             }
            },
            "type": "scattergeo"
           }
          ],
          "scattergl": [
           {
            "marker": {
             "colorbar": {
              "outlinewidth": 0,
              "ticks": ""
             }
            },
            "type": "scattergl"
           }
          ],
          "scattermapbox": [
           {
            "marker": {
             "colorbar": {
              "outlinewidth": 0,
              "ticks": ""
             }
            },
            "type": "scattermapbox"
           }
          ],
          "scatterpolar": [
           {
            "marker": {
             "colorbar": {
              "outlinewidth": 0,
              "ticks": ""
             }
            },
            "type": "scatterpolar"
           }
          ],
          "scatterpolargl": [
           {
            "marker": {
             "colorbar": {
              "outlinewidth": 0,
              "ticks": ""
             }
            },
            "type": "scatterpolargl"
           }
          ],
          "scatterternary": [
           {
            "marker": {
             "colorbar": {
              "outlinewidth": 0,
              "ticks": ""
             }
            },
            "type": "scatterternary"
           }
          ],
          "surface": [
           {
            "colorbar": {
             "outlinewidth": 0,
             "ticks": ""
            },
            "colorscale": [
             [
              0,
              "#0d0887"
             ],
             [
              0.1111111111111111,
              "#46039f"
             ],
             [
              0.2222222222222222,
              "#7201a8"
             ],
             [
              0.3333333333333333,
              "#9c179e"
             ],
             [
              0.4444444444444444,
              "#bd3786"
             ],
             [
              0.5555555555555556,
              "#d8576b"
             ],
             [
              0.6666666666666666,
              "#ed7953"
             ],
             [
              0.7777777777777778,
              "#fb9f3a"
             ],
             [
              0.8888888888888888,
              "#fdca26"
             ],
             [
              1,
              "#f0f921"
             ]
            ],
            "type": "surface"
           }
          ],
          "table": [
           {
            "cells": {
             "fill": {
              "color": "#EBF0F8"
             },
             "line": {
              "color": "white"
             }
            },
            "header": {
             "fill": {
              "color": "#C8D4E3"
             },
             "line": {
              "color": "white"
             }
            },
            "type": "table"
           }
          ]
         },
         "layout": {
          "annotationdefaults": {
           "arrowcolor": "#2a3f5f",
           "arrowhead": 0,
           "arrowwidth": 1
          },
          "autotypenumbers": "strict",
          "coloraxis": {
           "colorbar": {
            "outlinewidth": 0,
            "ticks": ""
           }
          },
          "colorscale": {
           "diverging": [
            [
             0,
             "#8e0152"
            ],
            [
             0.1,
             "#c51b7d"
            ],
            [
             0.2,
             "#de77ae"
            ],
            [
             0.3,
             "#f1b6da"
            ],
            [
             0.4,
             "#fde0ef"
            ],
            [
             0.5,
             "#f7f7f7"
            ],
            [
             0.6,
             "#e6f5d0"
            ],
            [
             0.7,
             "#b8e186"
            ],
            [
             0.8,
             "#7fbc41"
            ],
            [
             0.9,
             "#4d9221"
            ],
            [
             1,
             "#276419"
            ]
           ],
           "sequential": [
            [
             0,
             "#0d0887"
            ],
            [
             0.1111111111111111,
             "#46039f"
            ],
            [
             0.2222222222222222,
             "#7201a8"
            ],
            [
             0.3333333333333333,
             "#9c179e"
            ],
            [
             0.4444444444444444,
             "#bd3786"
            ],
            [
             0.5555555555555556,
             "#d8576b"
            ],
            [
             0.6666666666666666,
             "#ed7953"
            ],
            [
             0.7777777777777778,
             "#fb9f3a"
            ],
            [
             0.8888888888888888,
             "#fdca26"
            ],
            [
             1,
             "#f0f921"
            ]
           ],
           "sequentialminus": [
            [
             0,
             "#0d0887"
            ],
            [
             0.1111111111111111,
             "#46039f"
            ],
            [
             0.2222222222222222,
             "#7201a8"
            ],
            [
             0.3333333333333333,
             "#9c179e"
            ],
            [
             0.4444444444444444,
             "#bd3786"
            ],
            [
             0.5555555555555556,
             "#d8576b"
            ],
            [
             0.6666666666666666,
             "#ed7953"
            ],
            [
             0.7777777777777778,
             "#fb9f3a"
            ],
            [
             0.8888888888888888,
             "#fdca26"
            ],
            [
             1,
             "#f0f921"
            ]
           ]
          },
          "colorway": [
           "#636efa",
           "#EF553B",
           "#00cc96",
           "#ab63fa",
           "#FFA15A",
           "#19d3f3",
           "#FF6692",
           "#B6E880",
           "#FF97FF",
           "#FECB52"
          ],
          "font": {
           "color": "#2a3f5f"
          },
          "geo": {
           "bgcolor": "white",
           "lakecolor": "white",
           "landcolor": "#E5ECF6",
           "showlakes": true,
           "showland": true,
           "subunitcolor": "white"
          },
          "hoverlabel": {
           "align": "left"
          },
          "hovermode": "closest",
          "mapbox": {
           "style": "light"
          },
          "paper_bgcolor": "white",
          "plot_bgcolor": "#E5ECF6",
          "polar": {
           "angularaxis": {
            "gridcolor": "white",
            "linecolor": "white",
            "ticks": ""
           },
           "bgcolor": "#E5ECF6",
           "radialaxis": {
            "gridcolor": "white",
            "linecolor": "white",
            "ticks": ""
           }
          },
          "scene": {
           "xaxis": {
            "backgroundcolor": "#E5ECF6",
            "gridcolor": "white",
            "gridwidth": 2,
            "linecolor": "white",
            "showbackground": true,
            "ticks": "",
            "zerolinecolor": "white"
           },
           "yaxis": {
            "backgroundcolor": "#E5ECF6",
            "gridcolor": "white",
            "gridwidth": 2,
            "linecolor": "white",
            "showbackground": true,
            "ticks": "",
            "zerolinecolor": "white"
           },
           "zaxis": {
            "backgroundcolor": "#E5ECF6",
            "gridcolor": "white",
            "gridwidth": 2,
            "linecolor": "white",
            "showbackground": true,
            "ticks": "",
            "zerolinecolor": "white"
           }
          },
          "shapedefaults": {
           "line": {
            "color": "#2a3f5f"
           }
          },
          "ternary": {
           "aaxis": {
            "gridcolor": "white",
            "linecolor": "white",
            "ticks": ""
           },
           "baxis": {
            "gridcolor": "white",
            "linecolor": "white",
            "ticks": ""
           },
           "bgcolor": "#E5ECF6",
           "caxis": {
            "gridcolor": "white",
            "linecolor": "white",
            "ticks": ""
           }
          },
          "title": {
           "x": 0.05
          },
          "xaxis": {
           "automargin": true,
           "gridcolor": "white",
           "linecolor": "white",
           "ticks": "",
           "title": {
            "standoff": 15
           },
           "zerolinecolor": "white",
           "zerolinewidth": 2
          },
          "yaxis": {
           "automargin": true,
           "gridcolor": "white",
           "linecolor": "white",
           "ticks": "",
           "title": {
            "standoff": 15
           },
           "zerolinecolor": "white",
           "zerolinewidth": 2
          }
         }
        },
        "title": {
         "text": "Different Models"
        },
        "width": 1000,
        "xaxis": {
         "anchor": "y",
         "domain": [
          0,
          0.2125
         ],
         "linecolor": "black",
         "linewidth": 2,
         "showline": true,
         "title": {
          "text": "Offset (Hz)"
         },
         "type": "log"
        },
        "xaxis2": {
         "anchor": "y2",
         "domain": [
          0.2625,
          0.475
         ],
         "linecolor": "black",
         "linewidth": 2,
         "showline": true,
         "title": {
          "text": "Offset (Hz)"
         },
         "type": "log"
        },
        "xaxis3": {
         "anchor": "y3",
         "domain": [
          0.525,
          0.7375
         ],
         "linecolor": "black",
         "linewidth": 2,
         "showline": true,
         "title": {
          "text": "Offset (Hz)"
         },
         "type": "log"
        },
        "xaxis4": {
         "anchor": "y4",
         "domain": [
          0.7875,
          1
         ],
         "linecolor": "black",
         "linewidth": 2,
         "showline": true,
         "title": {
          "text": "Offset (Hz)"
         },
         "type": "log"
        },
        "yaxis": {
         "anchor": "x",
         "domain": [
          0,
          1
         ],
         "linecolor": "black",
         "linewidth": 2,
         "showline": true,
         "title": {
          "text": "Magnetization |M<sub>z</sub>|"
         }
        },
        "yaxis2": {
         "anchor": "x2",
         "domain": [
          0,
          1
         ],
         "linecolor": "black",
         "linewidth": 2,
         "matches": "y",
         "showline": true,
         "showticklabels": false,
         "title": {
          "text": "Magnetization |M<sub>z</sub>|"
         }
        },
        "yaxis3": {
         "anchor": "x3",
         "domain": [
          0,
          1
         ],
         "linecolor": "black",
         "linewidth": 2,
         "matches": "y",
         "showline": true,
         "showticklabels": false,
         "title": {
          "text": "Magnetization |M<sub>z</sub>|"
         }
        },
        "yaxis4": {
         "anchor": "x4",
         "domain": [
          0,
          1
         ],
         "linecolor": "black",
         "linewidth": 2,
         "matches": "y",
         "showline": true,
         "showticklabels": false,
         "title": {
          "text": "Magnetization |M<sub>z</sub>|"
         }
        }
       }
      },
      "text/html": [
       "<div>                            <div id=\"090afead-f80c-4764-a572-e739dd043bbe\" class=\"plotly-graph-div\" style=\"height:500px; width:1000px;\"></div>            <script type=\"text/javascript\">                require([\"plotly\"], function(Plotly) {                    window.PLOTLYENV=window.PLOTLYENV || {};                                    if (document.getElementById(\"090afead-f80c-4764-a572-e739dd043bbe\")) {                    Plotly.newPlot(                        \"090afead-f80c-4764-a572-e739dd043bbe\",                        [{\"line\":{\"color\":\"firebrick\"},\"mode\":\"lines\",\"name\":\"Fitted curve (angle = 142)\",\"showlegend\":true,\"x\":[100.0,221.5,343.0,443.0,543.0,765.5,988.0,1088.0,1188.0,1910.0,2632.0,2732.0,2832.0,4797.0,6762.0,6862.0,6962.0,12048.5,17135.0,17235.0,17335.0,18235.0],\"y\":[0.00881317157378912,0.37343447696293,0.661093832791793,0.7199791813876734,0.7513422491545599,0.7848775988223742,0.8008618470814187,0.8058661167918404,0.8101648968950066,0.8402396812975224,0.8654618143512635,0.8684397778290472,0.8713245011501123,0.9154428410110407,0.9451162224085932,0.9463530645742487,0.9475664457718909,0.9850523284164834,0.9958130106911827,0.9959113654427721,0.9960071879172009,0.9967669377695489],\"type\":\"scatter\",\"xaxis\":\"x\",\"yaxis\":\"y\"},{\"line\":{\"color\":\"royalblue\"},\"mode\":\"lines\",\"name\":\"Fitted curve (angle = 426)\",\"showlegend\":true,\"x\":[100.0,221.5,343.0,443.0,543.0,765.5,988.0,1088.0,1188.0,1910.0,2632.0,2732.0,2832.0,4797.0,6762.0,6862.0,6962.0,12048.5,17135.0,17235.0,17335.0,18235.0],\"y\":[0.020724017434756725,0.07952152832234823,0.23644933763967949,0.2857238014331286,0.31597055609919034,0.3602312030534838,0.3862028714386338,0.39468173792556244,0.4019228529613284,0.4468384153232748,0.4863311930946852,0.4914033651237524,0.4964183734614287,0.5904553952943927,0.6828354780660443,0.687461943956143,0.6920741297852071,0.8831708108463052,0.9638436961666133,0.9646591982284621,0.9654552200993833,0.9718197157507424],\"type\":\"scatter\",\"xaxis\":\"x\",\"yaxis\":\"y\"},{\"line\":{\"color\":\"darkslategray\"},\"mode\":\"markers\",\"name\":\"Raw data\",\"showlegend\":true,\"x\":[443.0,443.0,1088.0,1088.0,2732.0,2732.0,6862.0,6862.0,17235.0,17235.0],\"y\":[0.7193028341120516,0.28359808550219123,0.8059932089967744,0.3957139370981158,0.8671854164676123,0.4924385692378729,0.9461110081909453,0.6879894231813575,0.9980606091113726,0.9637390450466796],\"type\":\"scatter\",\"xaxis\":\"x\",\"yaxis\":\"y\"},{\"line\":{\"color\":\"firebrick\"},\"mode\":\"lines\",\"name\":\"Fitted curve (angle = 142)\",\"showlegend\":false,\"x\":[100.0,221.5,343.0,443.0,543.0,765.5,988.0,1088.0,1188.0,1910.0,2632.0,2732.0,2832.0,4797.0,6762.0,6862.0,6962.0,12048.5,17135.0,17235.0,17335.0,18235.0],\"y\":[0.007040123458171969,0.3221383986533747,0.6086483788509507,0.6721199455003459,0.7066565276805364,0.7441686856109154,0.7622704707412148,0.7679689449963991,0.7728763778977382,0.8075268442411685,0.8369750557763206,0.8404747851092085,0.8438695305219888,0.8963545379924961,0.932261760224768,0.9337692047957025,0.935248898991912,0.9813778640023979,0.9947703141000662,0.9948930385258922,0.9950126087582342,0.9959608413628062],\"type\":\"scatter\",\"xaxis\":\"x2\",\"yaxis\":\"y2\"},{\"line\":{\"color\":\"royalblue\"},\"mode\":\"lines\",\"name\":\"Fitted curve (angle = 426)\",\"showlegend\":false,\"x\":[100.0,221.5,343.0,443.0,543.0,765.5,988.0,1088.0,1188.0,1910.0,2632.0,2732.0,2832.0,4797.0,6762.0,6862.0,6962.0,12048.5,17135.0,17235.0,17335.0,18235.0],\"y\":[0.016575803156950845,0.06423464815976233,0.19618643498007676,0.2391302743778772,0.26588260870635066,0.3056292598230126,0.32936878629948907,0.3372114787263182,0.34395556139023953,0.38713243907076367,0.4262705865011783,0.43135033096237324,0.43638384106766726,0.5326945908994103,0.630939454423732,0.6359596072422903,0.6409740643939094,0.8578572473188554,0.9551784783524354,0.9561810100153884,0.9571599633070693,0.9650002205581601],\"type\":\"scatter\",\"xaxis\":\"x2\",\"yaxis\":\"y2\"},{\"line\":{\"color\":\"darkslategray\"},\"mode\":\"markers\",\"name\":\"Raw data\",\"showlegend\":false,\"x\":[443.0,443.0,1088.0,1088.0,2732.0,2732.0,6862.0,6862.0,17235.0,17235.0],\"y\":[0.6713386811277761,0.23951664131872208,0.7692092758277219,0.336690971025362,0.8406683272415019,0.43154274998147546,0.9362385419391418,0.6367368953731888,0.9966787450198095,0.9583222395534462],\"type\":\"scatter\",\"xaxis\":\"x2\",\"yaxis\":\"y2\"},{\"line\":{\"color\":\"firebrick\"},\"mode\":\"lines\",\"name\":\"Fitted curve (angle = 142)\",\"showlegend\":false,\"x\":[100.0,221.5,343.0,443.0,543.0,765.5,988.0,1088.0,1188.0,1910.0,2632.0,2732.0,2832.0,4797.0,6762.0,6862.0,6962.0,12048.5,17135.0,17235.0,17335.0,18235.0],\"y\":[0.22770164386395883,0.5328082099849126,0.6640942013805063,0.7148056915545503,0.7436113107549409,0.7759107592793816,0.791822879596021,0.7968771389209061,0.8012410637684023,0.8322115412695547,0.858414927186629,0.8615170371976821,0.8645233554913628,0.9106790403338656,0.9418982643054075,0.9432025252170212,0.9444822805050461,0.9841307685361347,0.9955521198452241,0.9956565897051481,0.9957583741131565,0.9965654272134625],\"type\":\"scatter\",\"xaxis\":\"x3\",\"yaxis\":\"y3\"},{\"line\":{\"color\":\"royalblue\"},\"mode\":\"lines\",\"name\":\"Fitted curve (angle = 426)\",\"showlegend\":false,\"x\":[100.0,221.5,343.0,443.0,543.0,765.5,988.0,1088.0,1188.0,1910.0,2632.0,2732.0,2832.0,4797.0,6762.0,6862.0,6962.0,12048.5,17135.0,17235.0,17335.0,18235.0],\"y\":[0.028525973897028004,0.11624905683608114,0.20149454776486928,0.2540029949339637,0.2920664885375103,0.34372524449344105,0.37191850530223863,0.38081669987457434,0.3883197065230992,0.4334956588456558,0.4728161707677683,0.47786823634616954,0.4828648158137132,0.5769570335984406,0.67036082305838,0.6750671892367218,0.679761856431717,0.8768713839883885,0.961678974009039,0.962541256676997,0.9633830520919551,0.9701168902099213],\"type\":\"scatter\",\"xaxis\":\"x3\",\"yaxis\":\"y3\"},{\"line\":{\"color\":\"darkslategray\"},\"mode\":\"markers\",\"name\":\"Raw data\",\"showlegend\":false,\"x\":[443.0,443.0,1088.0,1088.0,2732.0,2732.0,6862.0,6862.0,17235.0,17235.0],\"y\":[0.7129971292627528,0.25295397132926517,0.7949861798070519,0.3824370249699906,0.861871496680976,0.478079394469671,0.941010330143174,0.6747757057073556,0.9960073265104229,0.9621223315910872],\"type\":\"scatter\",\"xaxis\":\"x3\",\"yaxis\":\"y3\"},{\"line\":{\"color\":\"firebrick\"},\"mode\":\"lines\",\"name\":\"Fitted curve (angle = 142)\",\"showlegend\":false,\"x\":[100.0,221.5,343.0,443.0,543.0,765.5,988.0,1088.0,1188.0,1910.0,2632.0,2732.0,2832.0,4797.0,6762.0,6862.0,6962.0,12048.5,17135.0,17235.0,17335.0,18235.0],\"y\":[0.20227106468040543,0.49212110931150777,0.6263074575928456,0.6798023153298081,0.7106205939864615,0.7455667473235013,0.7629493179461126,0.7684971010067406,0.7732982676306092,0.8076656278724738,0.8370456673151423,0.840540300826295,0.8439302934886672,0.8963759266244584,0.9322728217885694,0.9337799641016945,0.9352593726045062,0.9813814946808445,0.9947721334093974,0.9948948347238261,0.9950143857885158,0.9959624463480716],\"type\":\"scatter\",\"xaxis\":\"x4\",\"yaxis\":\"y4\"},{\"line\":{\"color\":\"royalblue\"},\"mode\":\"lines\",\"name\":\"Fitted curve (angle = 426)\",\"showlegend\":false,\"x\":[100.0,221.5,343.0,443.0,543.0,765.5,988.0,1088.0,1188.0,1910.0,2632.0,2732.0,2832.0,4797.0,6762.0,6862.0,6962.0,12048.5,17135.0,17235.0,17335.0,18235.0],\"y\":[0.026888162342705895,0.10240751249176507,0.17639286028405426,0.22261997670081327,0.25647868316019495,0.3029821763847439,0.32873982649498507,0.3369589673348405,0.343936554929551,0.3874127114816009,0.426488968166669,0.43155985211363435,0.4365849162539252,0.5327951875946194,0.6310019581708595,0.6360209162665519,0.6410342300864859,0.8578850164884957,0.9551939397180722,0.9561963022571532,0.9571751051529718,0.9650140303214325],\"type\":\"scatter\",\"xaxis\":\"x4\",\"yaxis\":\"y4\"},{\"line\":{\"color\":\"darkslategray\"},\"mode\":\"markers\",\"name\":\"Raw data\",\"showlegend\":false,\"x\":[443.0,443.0,1088.0,1088.0,2732.0,2732.0,6862.0,6862.0,17235.0,17235.0],\"y\":[0.6795391925988596,0.2211143378547327,0.7682389719092402,0.3367208806326628,0.8399673404686225,0.43197436509931303,0.9331614248178208,0.6376378000201853,0.9932520385892715,0.9571861699634298],\"type\":\"scatter\",\"xaxis\":\"x4\",\"yaxis\":\"y4\"}],                        {\"template\":{\"data\":{\"bar\":[{\"error_x\":{\"color\":\"#2a3f5f\"},\"error_y\":{\"color\":\"#2a3f5f\"},\"marker\":{\"line\":{\"color\":\"#E5ECF6\",\"width\":0.5},\"pattern\":{\"fillmode\":\"overlay\",\"size\":10,\"solidity\":0.2}},\"type\":\"bar\"}],\"barpolar\":[{\"marker\":{\"line\":{\"color\":\"#E5ECF6\",\"width\":0.5},\"pattern\":{\"fillmode\":\"overlay\",\"size\":10,\"solidity\":0.2}},\"type\":\"barpolar\"}],\"carpet\":[{\"aaxis\":{\"endlinecolor\":\"#2a3f5f\",\"gridcolor\":\"white\",\"linecolor\":\"white\",\"minorgridcolor\":\"white\",\"startlinecolor\":\"#2a3f5f\"},\"baxis\":{\"endlinecolor\":\"#2a3f5f\",\"gridcolor\":\"white\",\"linecolor\":\"white\",\"minorgridcolor\":\"white\",\"startlinecolor\":\"#2a3f5f\"},\"type\":\"carpet\"}],\"choropleth\":[{\"colorbar\":{\"outlinewidth\":0,\"ticks\":\"\"},\"type\":\"choropleth\"}],\"contour\":[{\"colorbar\":{\"outlinewidth\":0,\"ticks\":\"\"},\"colorscale\":[[0.0,\"#0d0887\"],[0.1111111111111111,\"#46039f\"],[0.2222222222222222,\"#7201a8\"],[0.3333333333333333,\"#9c179e\"],[0.4444444444444444,\"#bd3786\"],[0.5555555555555556,\"#d8576b\"],[0.6666666666666666,\"#ed7953\"],[0.7777777777777778,\"#fb9f3a\"],[0.8888888888888888,\"#fdca26\"],[1.0,\"#f0f921\"]],\"type\":\"contour\"}],\"contourcarpet\":[{\"colorbar\":{\"outlinewidth\":0,\"ticks\":\"\"},\"type\":\"contourcarpet\"}],\"heatmap\":[{\"colorbar\":{\"outlinewidth\":0,\"ticks\":\"\"},\"colorscale\":[[0.0,\"#0d0887\"],[0.1111111111111111,\"#46039f\"],[0.2222222222222222,\"#7201a8\"],[0.3333333333333333,\"#9c179e\"],[0.4444444444444444,\"#bd3786\"],[0.5555555555555556,\"#d8576b\"],[0.6666666666666666,\"#ed7953\"],[0.7777777777777778,\"#fb9f3a\"],[0.8888888888888888,\"#fdca26\"],[1.0,\"#f0f921\"]],\"type\":\"heatmap\"}],\"heatmapgl\":[{\"colorbar\":{\"outlinewidth\":0,\"ticks\":\"\"},\"colorscale\":[[0.0,\"#0d0887\"],[0.1111111111111111,\"#46039f\"],[0.2222222222222222,\"#7201a8\"],[0.3333333333333333,\"#9c179e\"],[0.4444444444444444,\"#bd3786\"],[0.5555555555555556,\"#d8576b\"],[0.6666666666666666,\"#ed7953\"],[0.7777777777777778,\"#fb9f3a\"],[0.8888888888888888,\"#fdca26\"],[1.0,\"#f0f921\"]],\"type\":\"heatmapgl\"}],\"histogram\":[{\"marker\":{\"pattern\":{\"fillmode\":\"overlay\",\"size\":10,\"solidity\":0.2}},\"type\":\"histogram\"}],\"histogram2d\":[{\"colorbar\":{\"outlinewidth\":0,\"ticks\":\"\"},\"colorscale\":[[0.0,\"#0d0887\"],[0.1111111111111111,\"#46039f\"],[0.2222222222222222,\"#7201a8\"],[0.3333333333333333,\"#9c179e\"],[0.4444444444444444,\"#bd3786\"],[0.5555555555555556,\"#d8576b\"],[0.6666666666666666,\"#ed7953\"],[0.7777777777777778,\"#fb9f3a\"],[0.8888888888888888,\"#fdca26\"],[1.0,\"#f0f921\"]],\"type\":\"histogram2d\"}],\"histogram2dcontour\":[{\"colorbar\":{\"outlinewidth\":0,\"ticks\":\"\"},\"colorscale\":[[0.0,\"#0d0887\"],[0.1111111111111111,\"#46039f\"],[0.2222222222222222,\"#7201a8\"],[0.3333333333333333,\"#9c179e\"],[0.4444444444444444,\"#bd3786\"],[0.5555555555555556,\"#d8576b\"],[0.6666666666666666,\"#ed7953\"],[0.7777777777777778,\"#fb9f3a\"],[0.8888888888888888,\"#fdca26\"],[1.0,\"#f0f921\"]],\"type\":\"histogram2dcontour\"}],\"mesh3d\":[{\"colorbar\":{\"outlinewidth\":0,\"ticks\":\"\"},\"type\":\"mesh3d\"}],\"parcoords\":[{\"line\":{\"colorbar\":{\"outlinewidth\":0,\"ticks\":\"\"}},\"type\":\"parcoords\"}],\"pie\":[{\"automargin\":true,\"type\":\"pie\"}],\"scatter\":[{\"marker\":{\"colorbar\":{\"outlinewidth\":0,\"ticks\":\"\"}},\"type\":\"scatter\"}],\"scatter3d\":[{\"line\":{\"colorbar\":{\"outlinewidth\":0,\"ticks\":\"\"}},\"marker\":{\"colorbar\":{\"outlinewidth\":0,\"ticks\":\"\"}},\"type\":\"scatter3d\"}],\"scattercarpet\":[{\"marker\":{\"colorbar\":{\"outlinewidth\":0,\"ticks\":\"\"}},\"type\":\"scattercarpet\"}],\"scattergeo\":[{\"marker\":{\"colorbar\":{\"outlinewidth\":0,\"ticks\":\"\"}},\"type\":\"scattergeo\"}],\"scattergl\":[{\"marker\":{\"colorbar\":{\"outlinewidth\":0,\"ticks\":\"\"}},\"type\":\"scattergl\"}],\"scattermapbox\":[{\"marker\":{\"colorbar\":{\"outlinewidth\":0,\"ticks\":\"\"}},\"type\":\"scattermapbox\"}],\"scatterpolar\":[{\"marker\":{\"colorbar\":{\"outlinewidth\":0,\"ticks\":\"\"}},\"type\":\"scatterpolar\"}],\"scatterpolargl\":[{\"marker\":{\"colorbar\":{\"outlinewidth\":0,\"ticks\":\"\"}},\"type\":\"scatterpolargl\"}],\"scatterternary\":[{\"marker\":{\"colorbar\":{\"outlinewidth\":0,\"ticks\":\"\"}},\"type\":\"scatterternary\"}],\"surface\":[{\"colorbar\":{\"outlinewidth\":0,\"ticks\":\"\"},\"colorscale\":[[0.0,\"#0d0887\"],[0.1111111111111111,\"#46039f\"],[0.2222222222222222,\"#7201a8\"],[0.3333333333333333,\"#9c179e\"],[0.4444444444444444,\"#bd3786\"],[0.5555555555555556,\"#d8576b\"],[0.6666666666666666,\"#ed7953\"],[0.7777777777777778,\"#fb9f3a\"],[0.8888888888888888,\"#fdca26\"],[1.0,\"#f0f921\"]],\"type\":\"surface\"}],\"table\":[{\"cells\":{\"fill\":{\"color\":\"#EBF0F8\"},\"line\":{\"color\":\"white\"}},\"header\":{\"fill\":{\"color\":\"#C8D4E3\"},\"line\":{\"color\":\"white\"}},\"type\":\"table\"}]},\"layout\":{\"annotationdefaults\":{\"arrowcolor\":\"#2a3f5f\",\"arrowhead\":0,\"arrowwidth\":1},\"autotypenumbers\":\"strict\",\"coloraxis\":{\"colorbar\":{\"outlinewidth\":0,\"ticks\":\"\"}},\"colorscale\":{\"diverging\":[[0,\"#8e0152\"],[0.1,\"#c51b7d\"],[0.2,\"#de77ae\"],[0.3,\"#f1b6da\"],[0.4,\"#fde0ef\"],[0.5,\"#f7f7f7\"],[0.6,\"#e6f5d0\"],[0.7,\"#b8e186\"],[0.8,\"#7fbc41\"],[0.9,\"#4d9221\"],[1,\"#276419\"]],\"sequential\":[[0.0,\"#0d0887\"],[0.1111111111111111,\"#46039f\"],[0.2222222222222222,\"#7201a8\"],[0.3333333333333333,\"#9c179e\"],[0.4444444444444444,\"#bd3786\"],[0.5555555555555556,\"#d8576b\"],[0.6666666666666666,\"#ed7953\"],[0.7777777777777778,\"#fb9f3a\"],[0.8888888888888888,\"#fdca26\"],[1.0,\"#f0f921\"]],\"sequentialminus\":[[0.0,\"#0d0887\"],[0.1111111111111111,\"#46039f\"],[0.2222222222222222,\"#7201a8\"],[0.3333333333333333,\"#9c179e\"],[0.4444444444444444,\"#bd3786\"],[0.5555555555555556,\"#d8576b\"],[0.6666666666666666,\"#ed7953\"],[0.7777777777777778,\"#fb9f3a\"],[0.8888888888888888,\"#fdca26\"],[1.0,\"#f0f921\"]]},\"colorway\":[\"#636efa\",\"#EF553B\",\"#00cc96\",\"#ab63fa\",\"#FFA15A\",\"#19d3f3\",\"#FF6692\",\"#B6E880\",\"#FF97FF\",\"#FECB52\"],\"font\":{\"color\":\"#2a3f5f\"},\"geo\":{\"bgcolor\":\"white\",\"lakecolor\":\"white\",\"landcolor\":\"#E5ECF6\",\"showlakes\":true,\"showland\":true,\"subunitcolor\":\"white\"},\"hoverlabel\":{\"align\":\"left\"},\"hovermode\":\"closest\",\"mapbox\":{\"style\":\"light\"},\"paper_bgcolor\":\"white\",\"plot_bgcolor\":\"#E5ECF6\",\"polar\":{\"angularaxis\":{\"gridcolor\":\"white\",\"linecolor\":\"white\",\"ticks\":\"\"},\"bgcolor\":\"#E5ECF6\",\"radialaxis\":{\"gridcolor\":\"white\",\"linecolor\":\"white\",\"ticks\":\"\"}},\"scene\":{\"xaxis\":{\"backgroundcolor\":\"#E5ECF6\",\"gridcolor\":\"white\",\"gridwidth\":2,\"linecolor\":\"white\",\"showbackground\":true,\"ticks\":\"\",\"zerolinecolor\":\"white\"},\"yaxis\":{\"backgroundcolor\":\"#E5ECF6\",\"gridcolor\":\"white\",\"gridwidth\":2,\"linecolor\":\"white\",\"showbackground\":true,\"ticks\":\"\",\"zerolinecolor\":\"white\"},\"zaxis\":{\"backgroundcolor\":\"#E5ECF6\",\"gridcolor\":\"white\",\"gridwidth\":2,\"linecolor\":\"white\",\"showbackground\":true,\"ticks\":\"\",\"zerolinecolor\":\"white\"}},\"shapedefaults\":{\"line\":{\"color\":\"#2a3f5f\"}},\"ternary\":{\"aaxis\":{\"gridcolor\":\"white\",\"linecolor\":\"white\",\"ticks\":\"\"},\"baxis\":{\"gridcolor\":\"white\",\"linecolor\":\"white\",\"ticks\":\"\"},\"bgcolor\":\"#E5ECF6\",\"caxis\":{\"gridcolor\":\"white\",\"linecolor\":\"white\",\"ticks\":\"\"}},\"title\":{\"x\":0.05},\"xaxis\":{\"automargin\":true,\"gridcolor\":\"white\",\"linecolor\":\"white\",\"ticks\":\"\",\"title\":{\"standoff\":15},\"zerolinecolor\":\"white\",\"zerolinewidth\":2},\"yaxis\":{\"automargin\":true,\"gridcolor\":\"white\",\"linecolor\":\"white\",\"ticks\":\"\",\"title\":{\"standoff\":15},\"zerolinecolor\":\"white\",\"zerolinewidth\":2}}},\"xaxis\":{\"anchor\":\"y\",\"domain\":[0.0,0.2125],\"title\":{\"text\":\"Offset (Hz)\"},\"type\":\"log\",\"showline\":true,\"linewidth\":2,\"linecolor\":\"black\"},\"yaxis\":{\"anchor\":\"x\",\"domain\":[0.0,1.0],\"title\":{\"text\":\"Magnetization |M<sub>z</sub>|\"},\"showline\":true,\"linewidth\":2,\"linecolor\":\"black\"},\"xaxis2\":{\"anchor\":\"y2\",\"domain\":[0.2625,0.475],\"title\":{\"text\":\"Offset (Hz)\"},\"type\":\"log\",\"showline\":true,\"linewidth\":2,\"linecolor\":\"black\"},\"yaxis2\":{\"anchor\":\"x2\",\"domain\":[0.0,1.0],\"matches\":\"y\",\"showticklabels\":false,\"title\":{\"text\":\"Magnetization |M<sub>z</sub>|\"},\"showline\":true,\"linewidth\":2,\"linecolor\":\"black\"},\"xaxis3\":{\"anchor\":\"y3\",\"domain\":[0.525,0.7375],\"title\":{\"text\":\"Offset (Hz)\"},\"type\":\"log\",\"showline\":true,\"linewidth\":2,\"linecolor\":\"black\"},\"yaxis3\":{\"anchor\":\"x3\",\"domain\":[0.0,1.0],\"matches\":\"y\",\"showticklabels\":false,\"title\":{\"text\":\"Magnetization |M<sub>z</sub>|\"},\"showline\":true,\"linewidth\":2,\"linecolor\":\"black\"},\"xaxis4\":{\"anchor\":\"y4\",\"domain\":[0.7875,1.0],\"title\":{\"text\":\"Offset (Hz)\"},\"type\":\"log\",\"showline\":true,\"linewidth\":2,\"linecolor\":\"black\"},\"yaxis4\":{\"anchor\":\"x4\",\"domain\":[0.0,1.0],\"matches\":\"y\",\"showticklabels\":false,\"title\":{\"text\":\"Magnetization |M<sub>z</sub>|\"},\"showline\":true,\"linewidth\":2,\"linecolor\":\"black\"},\"annotations\":[{\"font\":{\"size\":16},\"showarrow\":false,\"text\":\"Sled Pike RP\",\"x\":0.10625,\"xanchor\":\"center\",\"xref\":\"paper\",\"y\":1.0,\"yanchor\":\"bottom\",\"yref\":\"paper\"},{\"font\":{\"size\":16},\"showarrow\":false,\"text\":\"Sled Pike CW\",\"x\":0.36875,\"xanchor\":\"center\",\"xref\":\"paper\",\"y\":1.0,\"yanchor\":\"bottom\",\"yref\":\"paper\"},{\"font\":{\"size\":16},\"showarrow\":false,\"text\":\"Yarnykh\",\"x\":0.6312500000000001,\"xanchor\":\"center\",\"xref\":\"paper\",\"y\":1.0,\"yanchor\":\"bottom\",\"yref\":\"paper\"},{\"font\":{\"size\":16},\"showarrow\":false,\"text\":\"Ramani\",\"x\":0.89375,\"xanchor\":\"center\",\"xref\":\"paper\",\"y\":1.0,\"yanchor\":\"bottom\",\"yref\":\"paper\"}],\"title\":{\"text\":\"Different Models\"},\"height\":500,\"width\":1000,\"plot_bgcolor\":\"rgba(0,0,0,0)\",\"legend\":{\"orientation\":\"h\",\"yanchor\":\"bottom\",\"y\":1.1,\"xanchor\":\"center\",\"x\":0.5}},                        {\"responsive\": true}                    ).then(function(){\n",
       "                            \n",
       "var gd = document.getElementById('090afead-f80c-4764-a572-e739dd043bbe');\n",
       "var x = new MutationObserver(function (mutations, observer) {{\n",
       "        var display = window.getComputedStyle(gd).display;\n",
       "        if (!display || display === 'none') {{\n",
       "            console.log([gd, 'removed!']);\n",
       "            Plotly.purge(gd);\n",
       "            observer.disconnect();\n",
       "        }}\n",
       "}});\n",
       "\n",
       "// Listen for the removal of the full notebook cells\n",
       "var notebookContainer = gd.closest('#notebook-container');\n",
       "if (notebookContainer) {{\n",
       "    x.observe(notebookContainer, {childList: true});\n",
       "}}\n",
       "\n",
       "// Listen for the clearing of the current output cell\n",
       "var outputEl = gd.closest('.output');\n",
       "if (outputEl) {{\n",
       "    x.observe(outputEl, {childList: true});\n",
       "}}\n",
       "\n",
       "                        })                };                });            </script>        </div>"
      ]
     },
     "metadata": {},
     "output_type": "display_data"
    }
   ],
   "source": [
    "# PYTHON CODE\n",
    "labelLeg = [\"Fitted curve (angle = 142)\", \"Fitted curve (angle = 426)\", \"Raw data\"]\n",
    "fig = make_subplots(rows=1, cols=4, shared_yaxes=True,\n",
    "                    subplot_titles=(\"Sled Pike RP\", \"Sled Pike CW\", \"Yarnykh\", \"Ramani\"))\n",
    "\n",
    "for i in [1,2,3,4]:\n",
    "    if i == 1:\n",
    "        showlegend=True\n",
    "    else:\n",
    "        showlegend=False\n",
    "    \n",
    "    fig.add_trace(\n",
    "        go.Scatter(x=dataSim_model[:,0,0], y=dataSim_model[:,1,i-1],\n",
    "                   mode='lines', line=dict(color=\"firebrick\"), name=labelLeg[0], showlegend=showlegend),\n",
    "        row=1, col=i\n",
    "    )\n",
    "    \n",
    "    fig.update_xaxes(title_text=\"Offset (Hz)\", type=\"log\", row=1, col=i, showline=True, linewidth=2, linecolor='black')\n",
    "    fig.update_yaxes(title_text=\"Magnetization |M<sub>z</sub>|\", row=1, col=i, showline=True, linewidth=2, linecolor='black')\n",
    "    \n",
    "    fig.add_trace(\n",
    "        go.Scatter(x=dataSim_model[:,0,0], y=dataSim_model[:,2,i-1],\n",
    "                   mode='lines', line=dict(color=\"royalblue\"), name=labelLeg[1], showlegend=showlegend),\n",
    "        row=1, col=i\n",
    "    )\n",
    "    \n",
    "    fig.add_trace(\n",
    "        go.Scatter(x=dataRaw_model[:,0,0], y=dataRaw_model[:,1,i-1],\n",
    "                   mode='markers', line=dict(color=\"darkslategray\"), name=labelLeg[2], showlegend=showlegend),\n",
    "        row=1, col=i\n",
    "    )\n",
    "\n",
    "fig.update_layout(height=500, width=1000, title_text=\"Different Models\", plot_bgcolor='rgba(0,0,0,0)')\n",
    "fig.update_layout(legend=dict(orientation=\"h\", yanchor=\"bottom\", y=1.1, xanchor=\"center\", x=0.5))\n",
    "fig.show()"
   ]
  },
  {
   "cell_type": "markdown",
   "metadata": {},
   "source": [
    "### Varying Lineshape"
   ]
  },
  {
   "cell_type": "code",
   "execution_count": null,
   "metadata": {},
   "outputs": [],
   "source": [
    "tag = HTML('''<script>\n",
    "code_show=true; \n",
    "function code_toggle() {\n",
    "    if (code_show){\n",
    "        $('div.cell.code_cell.rendered.selected div.input').hide();\n",
    "    } else {\n",
    "        $('div.cell.code_cell.rendered.selected div.input').show();\n",
    "    }\n",
    "    code_show = !code_show\n",
    "} \n",
    "$( document ).ready(code_toggle);\n",
    "</script>\n",
    "Click <a href=\"javascript:code_toggle()\">here</a> to show/hide this cell's raw code containing the function octave.sim_lineshape to run the simulation.''')\n",
    "display(tag)\n",
    "\n",
    "# Run simulation (functions are in the folder fun). NOTE: There are default simulations saved in the folder results.\n",
    "dataSim_lineshape, dataRaw_lineshape = octave.sim_lineshape(nout=2)"
   ]
  },
  {
   "cell_type": "code",
   "execution_count": null,
   "metadata": {},
   "outputs": [],
   "source": [
    "# Simulations have been performed and the results have been saved in the folder results.\n",
    "lineshape = [\"Super Lorentzian\", \"Lorentzian\", \"Gaussian\"]\n",
    "\n",
    "dataSim_lineshape_mat = scipy.io.loadmat('../results/dataSim_lineshape.mat')\n",
    "dataRaw_lineshape_mat = scipy.io.loadmat('../results/dataRaw_lineshape.mat')\n",
    "dataSim_lineshape = np.array(dataSim_lineshape_mat[\"dataSim_lineshape\"])\n",
    "dataRaw_lineshape = np.array(dataRaw_lineshape_mat[\"dataRaw_lineshape\"])"
   ]
  },
  {
   "cell_type": "code",
   "execution_count": 30,
   "metadata": {},
   "outputs": [
    {
     "data": {
      "application/vnd.plotly.v1+json": {
       "config": {
        "plotlyServerURL": "https://plot.ly"
       },
       "data": [
        {
         "line": {
          "color": "firebrick"
         },
         "mode": "lines",
         "name": "Fitted curve (angle = 142)",
         "showlegend": true,
         "type": "scatter",
         "x": [
          [
           100,
           100,
           0,
           0,
           0,
           0,
           0,
           0,
           0,
           0
          ],
          [
           221.5,
           221.5,
           0,
           0,
           0,
           0,
           0,
           0,
           0,
           0
          ],
          [
           343,
           343,
           0,
           0,
           0,
           0,
           0,
           0,
           0,
           0
          ],
          [
           443,
           443,
           0,
           0,
           0,
           0,
           0,
           0,
           0,
           0
          ],
          [
           543,
           543,
           0,
           0,
           0,
           0,
           0,
           0,
           0,
           0
          ],
          [
           765.5,
           765.5,
           0,
           0,
           0,
           0,
           0,
           0,
           0,
           0
          ],
          [
           988,
           988,
           0,
           0,
           0,
           0,
           0,
           0,
           0,
           0
          ],
          [
           1088,
           1088,
           0,
           0,
           0,
           0,
           0,
           0,
           0,
           0
          ],
          [
           1188,
           1188,
           0,
           0,
           0,
           0,
           0,
           0,
           0,
           0
          ],
          [
           1910,
           1910,
           0,
           0,
           0,
           0,
           0,
           0,
           0,
           0
          ],
          [
           2632,
           2632,
           0,
           0,
           0,
           0,
           0,
           0,
           0,
           0
          ],
          [
           2732,
           2732,
           0,
           0,
           0,
           0,
           0,
           0,
           0,
           0
          ],
          [
           2832,
           2832,
           0,
           0,
           0,
           0,
           0,
           0,
           0,
           0
          ],
          [
           4797,
           4797,
           0,
           0,
           0,
           0,
           0,
           0,
           0,
           0
          ],
          [
           6762,
           6762,
           0,
           0,
           0,
           0,
           0,
           0,
           0,
           0
          ],
          [
           6862,
           6862,
           0,
           0,
           0,
           0,
           0,
           0,
           0,
           0
          ],
          [
           6962,
           6962,
           0,
           0,
           0,
           0,
           0,
           0,
           0,
           0
          ],
          [
           12048.5,
           12048.5,
           0,
           0,
           0,
           0,
           0,
           0,
           0,
           0
          ],
          [
           17135,
           17135,
           0,
           0,
           0,
           0,
           0,
           0,
           0,
           0
          ],
          [
           17235,
           17235,
           0,
           0,
           0,
           0,
           0,
           0,
           0,
           0
          ],
          [
           17335,
           17335,
           0,
           0,
           0,
           0,
           0,
           0,
           0,
           0
          ],
          [
           18235,
           18235,
           0,
           0,
           0,
           0,
           0,
           0,
           0,
           0
          ]
         ],
         "xaxis": "x",
         "y": [
          [
           0.00881317157378912,
           0.00881317157378912,
           0.00881317157378912,
           0.00881317157378912,
           0.00881317157378912,
           0.00881317157378912,
           0.00881317157378912,
           0.00881317157378912,
           0.00881317157378912,
           0.00881317157378912
          ],
          [
           0.37343447696293,
           0.37343447696293,
           0.37343447696293,
           0.37343447696293,
           0.37343447696293,
           0.37343447696293,
           0.37343447696293,
           0.37343447696293,
           0.37343447696293,
           0.37343447696293
          ],
          [
           0.661093832791793,
           0.661093832791793,
           0.661093832791793,
           0.661093832791793,
           0.661093832791793,
           0.661093832791793,
           0.661093832791793,
           0.661093832791793,
           0.661093832791793,
           0.661093832791793
          ],
          [
           0.7199791813876734,
           0.7199791813876734,
           0.7199791813876734,
           0.7199791813876734,
           0.7199791813876734,
           0.7199791813876734,
           0.7199791813876734,
           0.7199791813876734,
           0.7199791813876734,
           0.7199791813876734
          ],
          [
           0.7513422491545599,
           0.7513422491545599,
           0.7513422491545599,
           0.7513422491545599,
           0.7513422491545599,
           0.7513422491545599,
           0.7513422491545599,
           0.7513422491545599,
           0.7513422491545599,
           0.7513422491545599
          ],
          [
           0.7848775988223742,
           0.7848775988223742,
           0.7848775988223742,
           0.7848775988223742,
           0.7848775988223742,
           0.7848775988223742,
           0.7848775988223742,
           0.7848775988223742,
           0.7848775988223742,
           0.7848775988223742
          ],
          [
           0.8008618470814187,
           0.8008618470814187,
           0.8008618470814187,
           0.8008618470814187,
           0.8008618470814187,
           0.8008618470814187,
           0.8008618470814187,
           0.8008618470814187,
           0.8008618470814187,
           0.8008618470814187
          ],
          [
           0.8058661167918404,
           0.8058661167918404,
           0.8058661167918404,
           0.8058661167918404,
           0.8058661167918404,
           0.8058661167918404,
           0.8058661167918404,
           0.8058661167918404,
           0.8058661167918404,
           0.8058661167918404
          ],
          [
           0.8101648968950066,
           0.8101648968950066,
           0.8101648968950066,
           0.8101648968950066,
           0.8101648968950066,
           0.8101648968950066,
           0.8101648968950066,
           0.8101648968950066,
           0.8101648968950066,
           0.8101648968950066
          ],
          [
           0.8402396812975224,
           0.8402396812975224,
           0.8402396812975224,
           0.8402396812975224,
           0.8402396812975224,
           0.8402396812975224,
           0.8402396812975224,
           0.8402396812975224,
           0.8402396812975224,
           0.8402396812975224
          ],
          [
           0.8654618143512635,
           0.8654618143512635,
           0.8654618143512635,
           0.8654618143512635,
           0.8654618143512635,
           0.8654618143512635,
           0.8654618143512635,
           0.8654618143512635,
           0.8654618143512635,
           0.8654618143512635
          ],
          [
           0.8684397778290472,
           0.8684397778290472,
           0.8684397778290472,
           0.8684397778290472,
           0.8684397778290472,
           0.8684397778290472,
           0.8684397778290472,
           0.8684397778290472,
           0.8684397778290472,
           0.8684397778290472
          ],
          [
           0.8713245011501123,
           0.8713245011501123,
           0.8713245011501123,
           0.8713245011501123,
           0.8713245011501123,
           0.8713245011501123,
           0.8713245011501123,
           0.8713245011501123,
           0.8713245011501123,
           0.8713245011501123
          ],
          [
           0.9154428410110407,
           0.9154428410110407,
           0.9154428410110407,
           0.9154428410110407,
           0.9154428410110407,
           0.9154428410110407,
           0.9154428410110407,
           0.9154428410110407,
           0.9154428410110407,
           0.9154428410110407
          ],
          [
           0.9451162224085932,
           0.9451162224085932,
           0.9451162224085932,
           0.9451162224085932,
           0.9451162224085932,
           0.9451162224085932,
           0.9451162224085932,
           0.9451162224085932,
           0.9451162224085932,
           0.9451162224085932
          ],
          [
           0.9463530645742487,
           0.9463530645742487,
           0.9463530645742487,
           0.9463530645742487,
           0.9463530645742487,
           0.9463530645742487,
           0.9463530645742487,
           0.9463530645742487,
           0.9463530645742487,
           0.9463530645742487
          ],
          [
           0.9475664457718909,
           0.9475664457718909,
           0.9475664457718909,
           0.9475664457718909,
           0.9475664457718909,
           0.9475664457718909,
           0.9475664457718909,
           0.9475664457718909,
           0.9475664457718909,
           0.9475664457718909
          ],
          [
           0.9850523284164834,
           0.9850523284164834,
           0.9850523284164834,
           0.9850523284164834,
           0.9850523284164834,
           0.9850523284164834,
           0.9850523284164834,
           0.9850523284164834,
           0.9850523284164834,
           0.9850523284164834
          ],
          [
           0.9958130106911827,
           0.9958130106911827,
           0.9958130106911827,
           0.9958130106911827,
           0.9958130106911827,
           0.9958130106911827,
           0.9958130106911827,
           0.9958130106911827,
           0.9958130106911827,
           0.9958130106911827
          ],
          [
           0.9959113654427721,
           0.9959113654427721,
           0.9959113654427721,
           0.9959113654427721,
           0.9959113654427721,
           0.9959113654427721,
           0.9959113654427721,
           0.9959113654427721,
           0.9959113654427721,
           0.9959113654427721
          ],
          [
           0.9960071879172009,
           0.9960071879172009,
           0.9960071879172009,
           0.9960071879172009,
           0.9960071879172009,
           0.9960071879172009,
           0.9960071879172009,
           0.9960071879172009,
           0.9960071879172009,
           0.9960071879172009
          ],
          [
           0.9967669377695489,
           0.9967669377695489,
           0.9967669377695489,
           0.9967669377695489,
           0.9967669377695489,
           0.9967669377695489,
           0.9967669377695489,
           0.9967669377695489,
           0.9967669377695489,
           0.9967669377695489
          ]
         ],
         "yaxis": "y"
        },
        {
         "line": {
          "color": "royalblue"
         },
         "mode": "lines",
         "name": "Fitted curve (angle = 426)",
         "showlegend": true,
         "type": "scatter",
         "x": [
          [
           100,
           100,
           0,
           0,
           0,
           0,
           0,
           0,
           0,
           0
          ],
          [
           221.5,
           221.5,
           0,
           0,
           0,
           0,
           0,
           0,
           0,
           0
          ],
          [
           343,
           343,
           0,
           0,
           0,
           0,
           0,
           0,
           0,
           0
          ],
          [
           443,
           443,
           0,
           0,
           0,
           0,
           0,
           0,
           0,
           0
          ],
          [
           543,
           543,
           0,
           0,
           0,
           0,
           0,
           0,
           0,
           0
          ],
          [
           765.5,
           765.5,
           0,
           0,
           0,
           0,
           0,
           0,
           0,
           0
          ],
          [
           988,
           988,
           0,
           0,
           0,
           0,
           0,
           0,
           0,
           0
          ],
          [
           1088,
           1088,
           0,
           0,
           0,
           0,
           0,
           0,
           0,
           0
          ],
          [
           1188,
           1188,
           0,
           0,
           0,
           0,
           0,
           0,
           0,
           0
          ],
          [
           1910,
           1910,
           0,
           0,
           0,
           0,
           0,
           0,
           0,
           0
          ],
          [
           2632,
           2632,
           0,
           0,
           0,
           0,
           0,
           0,
           0,
           0
          ],
          [
           2732,
           2732,
           0,
           0,
           0,
           0,
           0,
           0,
           0,
           0
          ],
          [
           2832,
           2832,
           0,
           0,
           0,
           0,
           0,
           0,
           0,
           0
          ],
          [
           4797,
           4797,
           0,
           0,
           0,
           0,
           0,
           0,
           0,
           0
          ],
          [
           6762,
           6762,
           0,
           0,
           0,
           0,
           0,
           0,
           0,
           0
          ],
          [
           6862,
           6862,
           0,
           0,
           0,
           0,
           0,
           0,
           0,
           0
          ],
          [
           6962,
           6962,
           0,
           0,
           0,
           0,
           0,
           0,
           0,
           0
          ],
          [
           12048.5,
           12048.5,
           0,
           0,
           0,
           0,
           0,
           0,
           0,
           0
          ],
          [
           17135,
           17135,
           0,
           0,
           0,
           0,
           0,
           0,
           0,
           0
          ],
          [
           17235,
           17235,
           0,
           0,
           0,
           0,
           0,
           0,
           0,
           0
          ],
          [
           17335,
           17335,
           0,
           0,
           0,
           0,
           0,
           0,
           0,
           0
          ],
          [
           18235,
           18235,
           0,
           0,
           0,
           0,
           0,
           0,
           0,
           0
          ]
         ],
         "xaxis": "x",
         "y": [
          [
           0.020724017434756725,
           0.020724017434756725,
           0.020724017434756725,
           0.020724017434756725,
           0.020724017434756725,
           0.020724017434756725,
           0.020724017434756725,
           0.020724017434756725,
           0.020724017434756725,
           0.020724017434756725
          ],
          [
           0.07952152832234823,
           0.07952152832234823,
           0.07952152832234823,
           0.07952152832234823,
           0.07952152832234823,
           0.07952152832234823,
           0.07952152832234823,
           0.07952152832234823,
           0.07952152832234823,
           0.07952152832234823
          ],
          [
           0.23644933763967949,
           0.23644933763967949,
           0.23644933763967949,
           0.23644933763967949,
           0.23644933763967949,
           0.23644933763967949,
           0.23644933763967949,
           0.23644933763967949,
           0.23644933763967949,
           0.23644933763967949
          ],
          [
           0.2857238014331286,
           0.2857238014331286,
           0.2857238014331286,
           0.2857238014331286,
           0.2857238014331286,
           0.2857238014331286,
           0.2857238014331286,
           0.2857238014331286,
           0.2857238014331286,
           0.2857238014331286
          ],
          [
           0.31597055609919034,
           0.31597055609919034,
           0.31597055609919034,
           0.31597055609919034,
           0.31597055609919034,
           0.31597055609919034,
           0.31597055609919034,
           0.31597055609919034,
           0.31597055609919034,
           0.31597055609919034
          ],
          [
           0.3602312030534838,
           0.3602312030534838,
           0.3602312030534838,
           0.3602312030534838,
           0.3602312030534838,
           0.3602312030534838,
           0.3602312030534838,
           0.3602312030534838,
           0.3602312030534838,
           0.3602312030534838
          ],
          [
           0.3862028714386338,
           0.3862028714386338,
           0.3862028714386338,
           0.3862028714386338,
           0.3862028714386338,
           0.3862028714386338,
           0.3862028714386338,
           0.3862028714386338,
           0.3862028714386338,
           0.3862028714386338
          ],
          [
           0.39468173792556244,
           0.39468173792556244,
           0.39468173792556244,
           0.39468173792556244,
           0.39468173792556244,
           0.39468173792556244,
           0.39468173792556244,
           0.39468173792556244,
           0.39468173792556244,
           0.39468173792556244
          ],
          [
           0.4019228529613284,
           0.4019228529613284,
           0.4019228529613284,
           0.4019228529613284,
           0.4019228529613284,
           0.4019228529613284,
           0.4019228529613284,
           0.4019228529613284,
           0.4019228529613284,
           0.4019228529613284
          ],
          [
           0.4468384153232748,
           0.4468384153232748,
           0.4468384153232748,
           0.4468384153232748,
           0.4468384153232748,
           0.4468384153232748,
           0.4468384153232748,
           0.4468384153232748,
           0.4468384153232748,
           0.4468384153232748
          ],
          [
           0.4863311930946852,
           0.4863311930946852,
           0.4863311930946852,
           0.4863311930946852,
           0.4863311930946852,
           0.4863311930946852,
           0.4863311930946852,
           0.4863311930946852,
           0.4863311930946852,
           0.4863311930946852
          ],
          [
           0.4914033651237524,
           0.4914033651237524,
           0.4914033651237524,
           0.4914033651237524,
           0.4914033651237524,
           0.4914033651237524,
           0.4914033651237524,
           0.4914033651237524,
           0.4914033651237524,
           0.4914033651237524
          ],
          [
           0.4964183734614287,
           0.4964183734614287,
           0.4964183734614287,
           0.4964183734614287,
           0.4964183734614287,
           0.4964183734614287,
           0.4964183734614287,
           0.4964183734614287,
           0.4964183734614287,
           0.4964183734614287
          ],
          [
           0.5904553952943927,
           0.5904553952943927,
           0.5904553952943927,
           0.5904553952943927,
           0.5904553952943927,
           0.5904553952943927,
           0.5904553952943927,
           0.5904553952943927,
           0.5904553952943927,
           0.5904553952943927
          ],
          [
           0.6828354780660443,
           0.6828354780660443,
           0.6828354780660443,
           0.6828354780660443,
           0.6828354780660443,
           0.6828354780660443,
           0.6828354780660443,
           0.6828354780660443,
           0.6828354780660443,
           0.6828354780660443
          ],
          [
           0.687461943956143,
           0.687461943956143,
           0.687461943956143,
           0.687461943956143,
           0.687461943956143,
           0.687461943956143,
           0.687461943956143,
           0.687461943956143,
           0.687461943956143,
           0.687461943956143
          ],
          [
           0.6920741297852071,
           0.6920741297852071,
           0.6920741297852071,
           0.6920741297852071,
           0.6920741297852071,
           0.6920741297852071,
           0.6920741297852071,
           0.6920741297852071,
           0.6920741297852071,
           0.6920741297852071
          ],
          [
           0.8831708108463052,
           0.8831708108463052,
           0.8831708108463052,
           0.8831708108463052,
           0.8831708108463052,
           0.8831708108463052,
           0.8831708108463052,
           0.8831708108463052,
           0.8831708108463052,
           0.8831708108463052
          ],
          [
           0.9638436961666133,
           0.9638436961666133,
           0.9638436961666133,
           0.9638436961666133,
           0.9638436961666133,
           0.9638436961666133,
           0.9638436961666133,
           0.9638436961666133,
           0.9638436961666133,
           0.9638436961666133
          ],
          [
           0.9646591982284621,
           0.9646591982284621,
           0.9646591982284621,
           0.9646591982284621,
           0.9646591982284621,
           0.9646591982284621,
           0.9646591982284621,
           0.9646591982284621,
           0.9646591982284621,
           0.9646591982284621
          ],
          [
           0.9654552200993833,
           0.9654552200993833,
           0.9654552200993833,
           0.9654552200993833,
           0.9654552200993833,
           0.9654552200993833,
           0.9654552200993833,
           0.9654552200993833,
           0.9654552200993833,
           0.9654552200993833
          ],
          [
           0.9718197157507424,
           0.9718197157507424,
           0.9718197157507424,
           0.9718197157507424,
           0.9718197157507424,
           0.9718197157507424,
           0.9718197157507424,
           0.9718197157507424,
           0.9718197157507424,
           0.9718197157507424
          ]
         ],
         "yaxis": "y"
        },
        {
         "line": {
          "color": "darkslategray"
         },
         "mode": "markers",
         "name": "Raw data",
         "showlegend": true,
         "type": "scatter",
         "x": [
          [
           443,
           443,
           443,
           443,
           443,
           443,
           443,
           443,
           443,
           443
          ],
          [
           443,
           443,
           443,
           443,
           443,
           443,
           443,
           443,
           443,
           443
          ],
          [
           1088,
           1088,
           1088,
           1088,
           1088,
           1088,
           1088,
           1088,
           1088,
           1088
          ],
          [
           1088,
           1088,
           1088,
           1088,
           1088,
           1088,
           1088,
           1088,
           1088,
           1088
          ],
          [
           2732,
           2732,
           2732,
           2732,
           2732,
           2732,
           2732,
           2732,
           2732,
           2732
          ],
          [
           2732,
           2732,
           2732,
           2732,
           2732,
           2732,
           2732,
           2732,
           2732,
           2732
          ],
          [
           6862,
           6862,
           6862,
           6862,
           6862,
           6862,
           6862,
           6862,
           6862,
           6862
          ],
          [
           6862,
           6862,
           6862,
           6862,
           6862,
           6862,
           6862,
           6862,
           6862,
           6862
          ],
          [
           17235,
           17235,
           17235,
           17235,
           17235,
           17235,
           17235,
           17235,
           17235,
           17235
          ],
          [
           17235,
           17235,
           17235,
           17235,
           17235,
           17235,
           17235,
           17235,
           17235,
           17235
          ]
         ],
         "xaxis": "x",
         "y": [
          [
           0.716892660630495,
           0.7192805618570383,
           0.7211904666488743,
           0.7185503387895616,
           0.7225221764246001,
           0.7203289856366688,
           0.7213293463579212,
           0.7211597693057854,
           0.7200689663429899,
           0.7184372261597043
          ],
          [
           0.2842908101372165,
           0.2877018129649017,
           0.28481875113832794,
           0.28521067056467486,
           0.2855554351733584,
           0.2855164213176345,
           0.2855766296499296,
           0.2867932299332051,
           0.2837598907404316,
           0.2852786382837097
          ],
          [
           0.8017865905214857,
           0.8046514530683343,
           0.8055819404612042,
           0.8056679066498728,
           0.8081949355921693,
           0.8046259181992821,
           0.808746799935293,
           0.8073173455178995,
           0.8043601630172643,
           0.8040107259031289
          ],
          [
           0.3937712852029139,
           0.3954751741764419,
           0.39498994869690124,
           0.3946107239438221,
           0.39322231806933794,
           0.39425769514646447,
           0.39473747322113406,
           0.39562115880535936,
           0.3928286528844927,
           0.39328291610173344
          ],
          [
           0.8662236392507131,
           0.8703306421163571,
           0.8693919599369259,
           0.8683809129444915,
           0.8695715391103983,
           0.8659324057971527,
           0.8688222394443309,
           0.8693370809352552,
           0.8649236882003685,
           0.8682430872245527
          ],
          [
           0.49087873965709333,
           0.491317751659061,
           0.4910619561918841,
           0.4916090442316249,
           0.4916094863260407,
           0.4917432057540164,
           0.49103077098323195,
           0.49065680461456757,
           0.4892940677454531,
           0.4901446118120786
          ],
          [
           0.9427881271354385,
           0.9459128910535239,
           0.9474005391293858,
           0.9474151882660609,
           0.946848310628144,
           0.946456234922154,
           0.9471185107523695,
           0.9467413912945468,
           0.9444976053550412,
           0.9436703687301443
          ],
          [
           0.68597695412329,
           0.685406182505612,
           0.6880421095569149,
           0.6877465728830423,
           0.6867544898476309,
           0.6884437688041259,
           0.6874374348744168,
           0.6885317033355067,
           0.6856816710735466,
           0.6848182225371022
          ],
          [
           0.9931777278867979,
           0.9952047262681374,
           0.9971825740669058,
           0.9952372076806363,
           0.9953429495155965,
           0.9960393351791201,
           0.9993398994509402,
           0.994774322967077,
           0.9930290785356607,
           0.9928037095928193
          ],
          [
           0.9635469962316954,
           0.9633251082552773,
           0.9671304785610894,
           0.9651323568018466,
           0.9638850579867899,
           0.9640223109257814,
           0.9663244791123784,
           0.9646725893139658,
           0.9612803042337482,
           0.962729476444869
          ]
         ],
         "yaxis": "y"
        },
        {
         "line": {
          "color": "firebrick"
         },
         "mode": "lines",
         "name": "Fitted curve (angle = 142)",
         "showlegend": false,
         "type": "scatter",
         "x": [
          [
           100,
           100,
           0,
           0,
           0,
           0,
           0,
           0,
           0,
           0
          ],
          [
           221.5,
           221.5,
           0,
           0,
           0,
           0,
           0,
           0,
           0,
           0
          ],
          [
           343,
           343,
           0,
           0,
           0,
           0,
           0,
           0,
           0,
           0
          ],
          [
           443,
           443,
           0,
           0,
           0,
           0,
           0,
           0,
           0,
           0
          ],
          [
           543,
           543,
           0,
           0,
           0,
           0,
           0,
           0,
           0,
           0
          ],
          [
           765.5,
           765.5,
           0,
           0,
           0,
           0,
           0,
           0,
           0,
           0
          ],
          [
           988,
           988,
           0,
           0,
           0,
           0,
           0,
           0,
           0,
           0
          ],
          [
           1088,
           1088,
           0,
           0,
           0,
           0,
           0,
           0,
           0,
           0
          ],
          [
           1188,
           1188,
           0,
           0,
           0,
           0,
           0,
           0,
           0,
           0
          ],
          [
           1910,
           1910,
           0,
           0,
           0,
           0,
           0,
           0,
           0,
           0
          ],
          [
           2632,
           2632,
           0,
           0,
           0,
           0,
           0,
           0,
           0,
           0
          ],
          [
           2732,
           2732,
           0,
           0,
           0,
           0,
           0,
           0,
           0,
           0
          ],
          [
           2832,
           2832,
           0,
           0,
           0,
           0,
           0,
           0,
           0,
           0
          ],
          [
           4797,
           4797,
           0,
           0,
           0,
           0,
           0,
           0,
           0,
           0
          ],
          [
           6762,
           6762,
           0,
           0,
           0,
           0,
           0,
           0,
           0,
           0
          ],
          [
           6862,
           6862,
           0,
           0,
           0,
           0,
           0,
           0,
           0,
           0
          ],
          [
           6962,
           6962,
           0,
           0,
           0,
           0,
           0,
           0,
           0,
           0
          ],
          [
           12048.5,
           12048.5,
           0,
           0,
           0,
           0,
           0,
           0,
           0,
           0
          ],
          [
           17135,
           17135,
           0,
           0,
           0,
           0,
           0,
           0,
           0,
           0
          ],
          [
           17235,
           17235,
           0,
           0,
           0,
           0,
           0,
           0,
           0,
           0
          ],
          [
           17335,
           17335,
           0,
           0,
           0,
           0,
           0,
           0,
           0,
           0
          ],
          [
           18235,
           18235,
           0,
           0,
           0,
           0,
           0,
           0,
           0,
           0
          ]
         ],
         "xaxis": "x2",
         "y": [
          [
           0.008910344031055197,
           0.008910344031055197,
           0.008910344031055197,
           0.008910344031055197,
           0.008910344031055197,
           0.008910344031055197,
           0.008910344031055197,
           0.008910344031055197,
           0.008910344031055197,
           0.008910344031055197
          ],
          [
           0.39952474773930297,
           0.39952474773930297,
           0.39952474773930297,
           0.39952474773930297,
           0.39952474773930297,
           0.39952474773930297,
           0.39952474773930297,
           0.39952474773930297,
           0.39952474773930297,
           0.39952474773930297
          ],
          [
           0.740923989425739,
           0.740923989425739,
           0.740923989425739,
           0.740923989425739,
           0.740923989425739,
           0.740923989425739,
           0.740923989425739,
           0.740923989425739,
           0.740923989425739,
           0.740923989425739
          ],
          [
           0.8142956636422287,
           0.8142956636422287,
           0.8142956636422287,
           0.8142956636422287,
           0.8142956636422287,
           0.8142956636422287,
           0.8142956636422287,
           0.8142956636422287,
           0.8142956636422287,
           0.8142956636422287
          ],
          [
           0.8534032633603176,
           0.8534032633603176,
           0.8534032633603176,
           0.8534032633603176,
           0.8534032633603176,
           0.8534032633603176,
           0.8534032633603176,
           0.8534032633603176,
           0.8534032633603176,
           0.8534032633603176
          ],
          [
           0.8938425779022299,
           0.8938425779022299,
           0.8938425779022299,
           0.8938425779022299,
           0.8938425779022299,
           0.8938425779022299,
           0.8938425779022299,
           0.8938425779022299,
           0.8938425779022299,
           0.8938425779022299
          ],
          [
           0.9108822333560113,
           0.9108822333560113,
           0.9108822333560113,
           0.9108822333560113,
           0.9108822333560113,
           0.9108822333560113,
           0.9108822333560113,
           0.9108822333560113,
           0.9108822333560113,
           0.9108822333560113
          ],
          [
           0.9154619835076695,
           0.9154619835076695,
           0.9154619835076695,
           0.9154619835076695,
           0.9154619835076695,
           0.9154619835076695,
           0.9154619835076695,
           0.9154619835076695,
           0.9154619835076695,
           0.9154619835076695
          ],
          [
           0.9189795352448057,
           0.9189795352448057,
           0.9189795352448057,
           0.9189795352448057,
           0.9189795352448057,
           0.9189795352448057,
           0.9189795352448057,
           0.9189795352448057,
           0.9189795352448057,
           0.9189795352448057
          ],
          [
           0.930861059467747,
           0.930861059467747,
           0.930861059467747,
           0.930861059467747,
           0.930861059467747,
           0.930861059467747,
           0.930861059467747,
           0.930861059467747,
           0.930861059467747,
           0.930861059467747
          ],
          [
           0.935383995099634,
           0.935383995099634,
           0.935383995099634,
           0.935383995099634,
           0.935383995099634,
           0.935383995099634,
           0.935383995099634,
           0.935383995099634,
           0.935383995099634,
           0.935383995099634
          ],
          [
           0.9358418686741232,
           0.9358418686741232,
           0.9358418686741232,
           0.9358418686741232,
           0.9358418686741232,
           0.9358418686741232,
           0.9358418686741232,
           0.9358418686741232,
           0.9358418686741232,
           0.9358418686741232
          ],
          [
           0.936278190920552,
           0.936278190920552,
           0.936278190920552,
           0.936278190920552,
           0.936278190920552,
           0.936278190920552,
           0.936278190920552,
           0.936278190920552,
           0.936278190920552,
           0.936278190920552
          ],
          [
           0.9432424515815226,
           0.9432424515815226,
           0.9432424515815226,
           0.9432424515815226,
           0.9432424515815226,
           0.9432424515815226,
           0.9432424515815226,
           0.9432424515815226,
           0.9432424515815226,
           0.9432424515815226
          ],
          [
           0.9498507701989616,
           0.9498507701989616,
           0.9498507701989616,
           0.9498507701989616,
           0.9498507701989616,
           0.9498507701989616,
           0.9498507701989616,
           0.9498507701989616,
           0.9498507701989616,
           0.9498507701989616
          ],
          [
           0.9501885105307016,
           0.9501885105307016,
           0.9501885105307016,
           0.9501885105307016,
           0.9501885105307016,
           0.9501885105307016,
           0.9501885105307016,
           0.9501885105307016,
           0.9501885105307016,
           0.9501885105307016
          ],
          [
           0.9505260372756262,
           0.9505260372756262,
           0.9505260372756262,
           0.9505260372756262,
           0.9505260372756262,
           0.9505260372756262,
           0.9505260372756262,
           0.9505260372756262,
           0.9505260372756262,
           0.9505260372756262
          ],
          [
           0.966233470187302,
           0.966233470187302,
           0.966233470187302,
           0.966233470187302,
           0.966233470187302,
           0.966233470187302,
           0.966233470187302,
           0.966233470187302,
           0.966233470187302,
           0.966233470187302
          ],
          [
           0.9772410312632481,
           0.9772410312632481,
           0.9772410312632481,
           0.9772410312632481,
           0.9772410312632481,
           0.9772410312632481,
           0.9772410312632481,
           0.9772410312632481,
           0.9772410312632481,
           0.9772410312632481
          ],
          [
           0.977411396560667,
           0.977411396560667,
           0.977411396560667,
           0.977411396560667,
           0.977411396560667,
           0.977411396560667,
           0.977411396560667,
           0.977411396560667,
           0.977411396560667,
           0.977411396560667
          ],
          [
           0.9775801939466913,
           0.9775801939466913,
           0.9775801939466913,
           0.9775801939466913,
           0.9775801939466913,
           0.9775801939466913,
           0.9775801939466913,
           0.9775801939466913,
           0.9775801939466913,
           0.9775801939466913
          ],
          [
           0.9790311277326633,
           0.9790311277326633,
           0.9790311277326633,
           0.9790311277326633,
           0.9790311277326633,
           0.9790311277326633,
           0.9790311277326633,
           0.9790311277326633,
           0.9790311277326633,
           0.9790311277326633
          ]
         ],
         "yaxis": "y2"
        },
        {
         "line": {
          "color": "royalblue"
         },
         "mode": "lines",
         "name": "Fitted curve (angle = 426)",
         "showlegend": false,
         "type": "scatter",
         "x": [
          [
           100,
           100,
           0,
           0,
           0,
           0,
           0,
           0,
           0,
           0
          ],
          [
           221.5,
           221.5,
           0,
           0,
           0,
           0,
           0,
           0,
           0,
           0
          ],
          [
           343,
           343,
           0,
           0,
           0,
           0,
           0,
           0,
           0,
           0
          ],
          [
           443,
           443,
           0,
           0,
           0,
           0,
           0,
           0,
           0,
           0
          ],
          [
           543,
           543,
           0,
           0,
           0,
           0,
           0,
           0,
           0,
           0
          ],
          [
           765.5,
           765.5,
           0,
           0,
           0,
           0,
           0,
           0,
           0,
           0
          ],
          [
           988,
           988,
           0,
           0,
           0,
           0,
           0,
           0,
           0,
           0
          ],
          [
           1088,
           1088,
           0,
           0,
           0,
           0,
           0,
           0,
           0,
           0
          ],
          [
           1188,
           1188,
           0,
           0,
           0,
           0,
           0,
           0,
           0,
           0
          ],
          [
           1910,
           1910,
           0,
           0,
           0,
           0,
           0,
           0,
           0,
           0
          ],
          [
           2632,
           2632,
           0,
           0,
           0,
           0,
           0,
           0,
           0,
           0
          ],
          [
           2732,
           2732,
           0,
           0,
           0,
           0,
           0,
           0,
           0,
           0
          ],
          [
           2832,
           2832,
           0,
           0,
           0,
           0,
           0,
           0,
           0,
           0
          ],
          [
           4797,
           4797,
           0,
           0,
           0,
           0,
           0,
           0,
           0,
           0
          ],
          [
           6762,
           6762,
           0,
           0,
           0,
           0,
           0,
           0,
           0,
           0
          ],
          [
           6862,
           6862,
           0,
           0,
           0,
           0,
           0,
           0,
           0,
           0
          ],
          [
           6962,
           6962,
           0,
           0,
           0,
           0,
           0,
           0,
           0,
           0
          ],
          [
           12048.5,
           12048.5,
           0,
           0,
           0,
           0,
           0,
           0,
           0,
           0
          ],
          [
           17135,
           17135,
           0,
           0,
           0,
           0,
           0,
           0,
           0,
           0
          ],
          [
           17235,
           17235,
           0,
           0,
           0,
           0,
           0,
           0,
           0,
           0
          ],
          [
           17335,
           17335,
           0,
           0,
           0,
           0,
           0,
           0,
           0,
           0
          ],
          [
           18235,
           18235,
           0,
           0,
           0,
           0,
           0,
           0,
           0,
           0
          ]
         ],
         "xaxis": "x2",
         "y": [
          [
           0.022067980270933187,
           0.022067980270933187,
           0.022067980270933187,
           0.022067980270933187,
           0.022067980270933187,
           0.022067980270933187,
           0.022067980270933187,
           0.022067980270933187,
           0.022067980270933187,
           0.022067980270933187
          ],
          [
           0.0886303119319465,
           0.0886303119319465,
           0.0886303119319465,
           0.0886303119319465,
           0.0886303119319465,
           0.0886303119319465,
           0.0886303119319465,
           0.0886303119319465,
           0.0886303119319465,
           0.0886303119319465
          ],
          [
           0.3011169779924676,
           0.3011169779924676,
           0.3011169779924676,
           0.3011169779924676,
           0.3011169779924676,
           0.3011169779924676,
           0.3011169779924676,
           0.3011169779924676,
           0.3011169779924676,
           0.3011169779924676
          ],
          [
           0.3804698007800068,
           0.3804698007800068,
           0.3804698007800068,
           0.3804698007800068,
           0.3804698007800068,
           0.3804698007800068,
           0.3804698007800068,
           0.3804698007800068,
           0.3804698007800068,
           0.3804698007800068
          ],
          [
           0.43237455488484927,
           0.43237455488484927,
           0.43237455488484927,
           0.43237455488484927,
           0.43237455488484927,
           0.43237455488484927,
           0.43237455488484927,
           0.43237455488484927,
           0.43237455488484927,
           0.43237455488484927
          ],
          [
           0.511817896412041,
           0.511817896412041,
           0.511817896412041,
           0.511817896412041,
           0.511817896412041,
           0.511817896412041,
           0.511817896412041,
           0.511817896412041,
           0.511817896412041,
           0.511817896412041
          ],
          [
           0.5582334701217915,
           0.5582334701217915,
           0.5582334701217915,
           0.5582334701217915,
           0.5582334701217915,
           0.5582334701217915,
           0.5582334701217915,
           0.5582334701217915,
           0.5582334701217915,
           0.5582334701217915
          ],
          [
           0.5725978048037554,
           0.5725978048037554,
           0.5725978048037554,
           0.5725978048037554,
           0.5725978048037554,
           0.5725978048037554,
           0.5725978048037554,
           0.5725978048037554,
           0.5725978048037554,
           0.5725978048037554
          ],
          [
           0.5842341057169589,
           0.5842341057169589,
           0.5842341057169589,
           0.5842341057169589,
           0.5842341057169589,
           0.5842341057169589,
           0.5842341057169589,
           0.5842341057169589,
           0.5842341057169589,
           0.5842341057169589
          ],
          [
           0.6277815936465256,
           0.6277815936465256,
           0.6277815936465256,
           0.6277815936465256,
           0.6277815936465256,
           0.6277815936465256,
           0.6277815936465256,
           0.6277815936465256,
           0.6277815936465256,
           0.6277815936465256
          ],
          [
           0.6455427974656768,
           0.6455427974656768,
           0.6455427974656768,
           0.6455427974656768,
           0.6455427974656768,
           0.6455427974656768,
           0.6455427974656768,
           0.6455427974656768,
           0.6455427974656768,
           0.6455427974656768
          ],
          [
           0.6473279301391167,
           0.6473279301391167,
           0.6473279301391167,
           0.6473279301391167,
           0.6473279301391167,
           0.6473279301391167,
           0.6473279301391167,
           0.6473279301391167,
           0.6473279301391167,
           0.6473279301391167
          ],
          [
           0.6490216993769391,
           0.6490216993769391,
           0.6490216993769391,
           0.6490216993769391,
           0.6490216993769391,
           0.6490216993769391,
           0.6490216993769391,
           0.6490216993769391,
           0.6490216993769391,
           0.6490216993769391
          ],
          [
           0.6753716128768255,
           0.6753716128768255,
           0.6753716128768255,
           0.6753716128768255,
           0.6753716128768255,
           0.6753716128768255,
           0.6753716128768255,
           0.6753716128768255,
           0.6753716128768255,
           0.6753716128768255
          ],
          [
           0.7008953692877322,
           0.7008953692877322,
           0.7008953692877322,
           0.7008953692877322,
           0.7008953692877322,
           0.7008953692877322,
           0.7008953692877322,
           0.7008953692877322,
           0.7008953692877322,
           0.7008953692877322
          ],
          [
           0.7022458542897784,
           0.7022458542897784,
           0.7022458542897784,
           0.7022458542897784,
           0.7022458542897784,
           0.7022458542897784,
           0.7022458542897784,
           0.7022458542897784,
           0.7022458542897784,
           0.7022458542897784
          ],
          [
           0.7036008103410345,
           0.7036008103410345,
           0.7036008103410345,
           0.7036008103410345,
           0.7036008103410345,
           0.7036008103410345,
           0.7036008103410345,
           0.7036008103410345,
           0.7036008103410345,
           0.7036008103410345
          ],
          [
           0.7738260053701282,
           0.7738260053701282,
           0.7738260053701282,
           0.7738260053701282,
           0.7738260053701282,
           0.7738260053701282,
           0.7738260053701282,
           0.7738260053701282,
           0.7738260053701282,
           0.7738260053701282
          ],
          [
           0.833704071158692,
           0.833704071158692,
           0.833704071158692,
           0.833704071158692,
           0.833704071158692,
           0.833704071158692,
           0.833704071158692,
           0.833704071158692,
           0.833704071158692,
           0.833704071158692
          ],
          [
           0.8347162429063602,
           0.8347162429063602,
           0.8347162429063602,
           0.8347162429063602,
           0.8347162429063602,
           0.8347162429063602,
           0.8347162429063602,
           0.8347162429063602,
           0.8347162429063602,
           0.8347162429063602
          ],
          [
           0.8357219201412154,
           0.8357219201412154,
           0.8357219201412154,
           0.8357219201412154,
           0.8357219201412154,
           0.8357219201412154,
           0.8357219201412154,
           0.8357219201412154,
           0.8357219201412154,
           0.8357219201412154
          ],
          [
           0.8444837014327558,
           0.8444837014327558,
           0.8444837014327558,
           0.8444837014327558,
           0.8444837014327558,
           0.8444837014327558,
           0.8444837014327558,
           0.8444837014327558,
           0.8444837014327558,
           0.8444837014327558
          ]
         ],
         "yaxis": "y2"
        },
        {
         "line": {
          "color": "darkslategray"
         },
         "mode": "markers",
         "name": "Raw data",
         "showlegend": false,
         "type": "scatter",
         "x": [
          [
           443,
           443,
           443,
           443,
           443,
           443,
           443,
           443,
           443,
           443
          ],
          [
           443,
           443,
           443,
           443,
           443,
           443,
           443,
           443,
           443,
           443
          ],
          [
           1088,
           1088,
           1088,
           1088,
           1088,
           1088,
           1088,
           1088,
           1088,
           1088
          ],
          [
           1088,
           1088,
           1088,
           1088,
           1088,
           1088,
           1088,
           1088,
           1088,
           1088
          ],
          [
           2732,
           2732,
           2732,
           2732,
           2732,
           2732,
           2732,
           2732,
           2732,
           2732
          ],
          [
           2732,
           2732,
           2732,
           2732,
           2732,
           2732,
           2732,
           2732,
           2732,
           2732
          ],
          [
           6862,
           6862,
           6862,
           6862,
           6862,
           6862,
           6862,
           6862,
           6862,
           6862
          ],
          [
           6862,
           6862,
           6862,
           6862,
           6862,
           6862,
           6862,
           6862,
           6862,
           6862
          ],
          [
           17235,
           17235,
           17235,
           17235,
           17235,
           17235,
           17235,
           17235,
           17235,
           17235
          ],
          [
           17235,
           17235,
           17235,
           17235,
           17235,
           17235,
           17235,
           17235,
           17235,
           17235
          ]
         ],
         "xaxis": "x2",
         "y": [
          [
           0.814406856442155,
           0.8144587218675607,
           0.814739706023034,
           0.8156007871643267,
           0.8141392492496606,
           0.8143072498885852,
           0.8140252033393153,
           0.8131632147025697,
           0.8158902459254971,
           0.8131278106344564
          ],
          [
           0.38157714512016966,
           0.3799997842155066,
           0.38127925993684986,
           0.3810731625587459,
           0.3798025469937012,
           0.3800222518169744,
           0.3801297693569311,
           0.3801500213173376,
           0.38078417390075087,
           0.38041173921903954
          ],
          [
           0.9140033439013611,
           0.9118170775093608,
           0.916204339734921,
           0.9176026172904547,
           0.9144597535592066,
           0.9158599592701712,
           0.9158908067190173,
           0.9166390652034454,
           0.9163596941533888,
           0.9135532607236145
          ],
          [
           0.5713654135779482,
           0.5712554465691141,
           0.5732070988076313,
           0.5741179219018512,
           0.5708243509130542,
           0.5733627961712839,
           0.5720345240357089,
           0.5727539819162715,
           0.5725258393293285,
           0.5721649271664665
          ],
          [
           0.9362724483428599,
           0.9341101501740927,
           0.9366067562128658,
           0.9367370092934492,
           0.9346022649723149,
           0.9368741511861984,
           0.9366947621770054,
           0.9340059714832998,
           0.9371940972169484,
           0.9350487092783779
          ],
          [
           0.6461445531521959,
           0.6481879518042982,
           0.6477745501648373,
           0.6484988883445363,
           0.648901599575252,
           0.6476468749367108,
           0.6474787346933769,
           0.6450331891795923,
           0.6456442408259396,
           0.6453151108069212
          ],
          [
           0.9502242924663723,
           0.9485691224671795,
           0.9521683343177307,
           0.9506269409743442,
           0.9501480684423536,
           0.9509716249975334,
           0.9498146734134217,
           0.9500822628457419,
           0.9492789313296475,
           0.9476442773801443
          ],
          [
           0.7026645995757915,
           0.7022206163009317,
           0.7020428524415115,
           0.7027952565100508,
           0.7016318103201166,
           0.7033989852654673,
           0.7034809893472577,
           0.7025691027711441,
           0.7031494996698072,
           0.6990038656328091
          ],
          [
           0.9763400931912468,
           0.9748787015522036,
           0.9781733653982304,
           0.9794674391223007,
           0.9792087367421831,
           0.979258028221583,
           0.9761438690233275,
           0.9773043094931175,
           0.9790103025466438,
           0.9728168361607287
          ],
          [
           0.8330286871093086,
           0.8324514458552448,
           0.8351952467899054,
           0.836332594038374,
           0.8358486147423992,
           0.8358638372326427,
           0.8351887113257708,
           0.834497551498678,
           0.8370533199689743,
           0.8327395963420098
          ]
         ],
         "yaxis": "y2"
        },
        {
         "line": {
          "color": "firebrick"
         },
         "mode": "lines",
         "name": "Fitted curve (angle = 142)",
         "showlegend": false,
         "type": "scatter",
         "x": [
          [
           100,
           100,
           0,
           0,
           0,
           0,
           0,
           0,
           0,
           0
          ],
          [
           221.5,
           221.5,
           0,
           0,
           0,
           0,
           0,
           0,
           0,
           0
          ],
          [
           343,
           343,
           0,
           0,
           0,
           0,
           0,
           0,
           0,
           0
          ],
          [
           443,
           443,
           0,
           0,
           0,
           0,
           0,
           0,
           0,
           0
          ],
          [
           543,
           543,
           0,
           0,
           0,
           0,
           0,
           0,
           0,
           0
          ],
          [
           765.5,
           765.5,
           0,
           0,
           0,
           0,
           0,
           0,
           0,
           0
          ],
          [
           988,
           988,
           0,
           0,
           0,
           0,
           0,
           0,
           0,
           0
          ],
          [
           1088,
           1088,
           0,
           0,
           0,
           0,
           0,
           0,
           0,
           0
          ],
          [
           1188,
           1188,
           0,
           0,
           0,
           0,
           0,
           0,
           0,
           0
          ],
          [
           1910,
           1910,
           0,
           0,
           0,
           0,
           0,
           0,
           0,
           0
          ],
          [
           2632,
           2632,
           0,
           0,
           0,
           0,
           0,
           0,
           0,
           0
          ],
          [
           2732,
           2732,
           0,
           0,
           0,
           0,
           0,
           0,
           0,
           0
          ],
          [
           2832,
           2832,
           0,
           0,
           0,
           0,
           0,
           0,
           0,
           0
          ],
          [
           4797,
           4797,
           0,
           0,
           0,
           0,
           0,
           0,
           0,
           0
          ],
          [
           6762,
           6762,
           0,
           0,
           0,
           0,
           0,
           0,
           0,
           0
          ],
          [
           6862,
           6862,
           0,
           0,
           0,
           0,
           0,
           0,
           0,
           0
          ],
          [
           6962,
           6962,
           0,
           0,
           0,
           0,
           0,
           0,
           0,
           0
          ],
          [
           12048.5,
           12048.5,
           0,
           0,
           0,
           0,
           0,
           0,
           0,
           0
          ],
          [
           17135,
           17135,
           0,
           0,
           0,
           0,
           0,
           0,
           0,
           0
          ],
          [
           17235,
           17235,
           0,
           0,
           0,
           0,
           0,
           0,
           0,
           0
          ],
          [
           17335,
           17335,
           0,
           0,
           0,
           0,
           0,
           0,
           0,
           0
          ],
          [
           18235,
           18235,
           0,
           0,
           0,
           0,
           0,
           0,
           0,
           0
          ]
         ],
         "xaxis": "x3",
         "y": [
          [
           0.008900218837712465,
           0.008900218837712465,
           0.008900218837712465,
           0.008900218837712465,
           0.008900218837712465,
           0.008900218837712465,
           0.008900218837712465,
           0.008900218837712465,
           0.008900218837712465,
           0.008900218837712465
          ],
          [
           0.3966393458303231,
           0.3966393458303231,
           0.3966393458303231,
           0.3966393458303231,
           0.3966393458303231,
           0.3966393458303231,
           0.3966393458303231,
           0.3966393458303231,
           0.3966393458303231,
           0.3966393458303231
          ],
          [
           0.7316707736604603,
           0.7316707736604603,
           0.7316707736604603,
           0.7316707736604603,
           0.7316707736604603,
           0.7316707736604603,
           0.7316707736604603,
           0.7316707736604603,
           0.7316707736604603,
           0.7316707736604603
          ],
          [
           0.8032026284464534,
           0.8032026284464534,
           0.8032026284464534,
           0.8032026284464534,
           0.8032026284464534,
           0.8032026284464534,
           0.8032026284464534,
           0.8032026284464534,
           0.8032026284464534,
           0.8032026284464534
          ],
          [
           0.8412551420163545,
           0.8412551420163545,
           0.8412551420163545,
           0.8412551420163545,
           0.8412551420163545,
           0.8412551420163545,
           0.8412551420163545,
           0.8412551420163545,
           0.8412551420163545,
           0.8412551420163545
          ],
          [
           0.8805282783628192,
           0.8805282783628192,
           0.8805282783628192,
           0.8805282783628192,
           0.8805282783628192,
           0.8805282783628192,
           0.8805282783628192,
           0.8805282783628192,
           0.8805282783628192,
           0.8805282783628192
          ],
          [
           0.8970244273018919,
           0.8970244273018919,
           0.8970244273018919,
           0.8970244273018919,
           0.8970244273018919,
           0.8970244273018919,
           0.8970244273018919,
           0.8970244273018919,
           0.8970244273018919,
           0.8970244273018919
          ],
          [
           0.9014424299621312,
           0.9014424299621312,
           0.9014424299621312,
           0.9014424299621312,
           0.9014424299621312,
           0.9014424299621312,
           0.9014424299621312,
           0.9014424299621312,
           0.9014424299621312,
           0.9014424299621312
          ],
          [
           0.9048260243125209,
           0.9048260243125209,
           0.9048260243125209,
           0.9048260243125209,
           0.9048260243125209,
           0.9048260243125209,
           0.9048260243125209,
           0.9048260243125209,
           0.9048260243125209,
           0.9048260243125209
          ],
          [
           0.9160597309029939,
           0.9160597309029939,
           0.9160597309029939,
           0.9160597309029939,
           0.9160597309029939,
           0.9160597309029939,
           0.9160597309029939,
           0.9160597309029939,
           0.9160597309029939,
           0.9160597309029939
          ],
          [
           0.9200437992083288,
           0.9200437992083288,
           0.9200437992083288,
           0.9200437992083288,
           0.9200437992083288,
           0.9200437992083288,
           0.9200437992083288,
           0.9200437992083288,
           0.9200437992083288,
           0.9200437992083288
          ],
          [
           0.9204254668206429,
           0.9204254668206429,
           0.9204254668206429,
           0.9204254668206429,
           0.9204254668206429,
           0.9204254668206429,
           0.9204254668206429,
           0.9204254668206429,
           0.9204254668206429,
           0.9204254668206429
          ],
          [
           0.9207849264992746,
           0.9207849264992746,
           0.9207849264992746,
           0.9207849264992746,
           0.9207849264992746,
           0.9207849264992746,
           0.9207849264992746,
           0.9207849264992746,
           0.9207849264992746,
           0.9207849264992746
          ],
          [
           0.9261801755219778,
           0.9261801755219778,
           0.9261801755219778,
           0.9261801755219778,
           0.9261801755219778,
           0.9261801755219778,
           0.9261801755219778,
           0.9261801755219778,
           0.9261801755219778,
           0.9261801755219778
          ],
          [
           0.9315674579377615,
           0.9315674579377615,
           0.9315674579377615,
           0.9315674579377615,
           0.9315674579377615,
           0.9315674579377615,
           0.9315674579377615,
           0.9315674579377615,
           0.9315674579377615,
           0.9315674579377615
          ],
          [
           0.9318645511215865,
           0.9318645511215865,
           0.9318645511215865,
           0.9318645511215865,
           0.9318645511215865,
           0.9318645511215865,
           0.9318645511215865,
           0.9318645511215865,
           0.9318645511215865,
           0.9318645511215865
          ],
          [
           0.9321640143685208,
           0.9321640143685208,
           0.9321640143685208,
           0.9321640143685208,
           0.9321640143685208,
           0.9321640143685208,
           0.9321640143685208,
           0.9321640143685208,
           0.9321640143685208,
           0.9321640143685208
          ],
          [
           0.9498857295611761,
           0.9498857295611761,
           0.9498857295611761,
           0.9498857295611761,
           0.9498857295611761,
           0.9498857295611761,
           0.9498857295611761,
           0.9498857295611761,
           0.9498857295611761,
           0.9498857295611761
          ],
          [
           0.9686993523130479,
           0.9686993523130479,
           0.9686993523130479,
           0.9686993523130479,
           0.9686993523130479,
           0.9686993523130479,
           0.9686993523130479,
           0.9686993523130479,
           0.9686993523130479,
           0.9686993523130479
          ],
          [
           0.9690421393014385,
           0.9690421393014385,
           0.9690421393014385,
           0.9690421393014385,
           0.9690421393014385,
           0.9690421393014385,
           0.9690421393014385,
           0.9690421393014385,
           0.9690421393014385,
           0.9690421393014385
          ],
          [
           0.9693832728482424,
           0.9693832728482424,
           0.9693832728482424,
           0.9693832728482424,
           0.9693832728482424,
           0.9693832728482424,
           0.9693832728482424,
           0.9693832728482424,
           0.9693832728482424,
           0.9693832728482424
          ],
          [
           0.972374885054667,
           0.972374885054667,
           0.972374885054667,
           0.972374885054667,
           0.972374885054667,
           0.972374885054667,
           0.972374885054667,
           0.972374885054667,
           0.972374885054667,
           0.972374885054667
          ]
         ],
         "yaxis": "y3"
        },
        {
         "line": {
          "color": "royalblue"
         },
         "mode": "lines",
         "name": "Fitted curve (angle = 426)",
         "showlegend": false,
         "type": "scatter",
         "x": [
          [
           100,
           100,
           0,
           0,
           0,
           0,
           0,
           0,
           0,
           0
          ],
          [
           221.5,
           221.5,
           0,
           0,
           0,
           0,
           0,
           0,
           0,
           0
          ],
          [
           343,
           343,
           0,
           0,
           0,
           0,
           0,
           0,
           0,
           0
          ],
          [
           443,
           443,
           0,
           0,
           0,
           0,
           0,
           0,
           0,
           0
          ],
          [
           543,
           543,
           0,
           0,
           0,
           0,
           0,
           0,
           0,
           0
          ],
          [
           765.5,
           765.5,
           0,
           0,
           0,
           0,
           0,
           0,
           0,
           0
          ],
          [
           988,
           988,
           0,
           0,
           0,
           0,
           0,
           0,
           0,
           0
          ],
          [
           1088,
           1088,
           0,
           0,
           0,
           0,
           0,
           0,
           0,
           0
          ],
          [
           1188,
           1188,
           0,
           0,
           0,
           0,
           0,
           0,
           0,
           0
          ],
          [
           1910,
           1910,
           0,
           0,
           0,
           0,
           0,
           0,
           0,
           0
          ],
          [
           2632,
           2632,
           0,
           0,
           0,
           0,
           0,
           0,
           0,
           0
          ],
          [
           2732,
           2732,
           0,
           0,
           0,
           0,
           0,
           0,
           0,
           0
          ],
          [
           2832,
           2832,
           0,
           0,
           0,
           0,
           0,
           0,
           0,
           0
          ],
          [
           4797,
           4797,
           0,
           0,
           0,
           0,
           0,
           0,
           0,
           0
          ],
          [
           6762,
           6762,
           0,
           0,
           0,
           0,
           0,
           0,
           0,
           0
          ],
          [
           6862,
           6862,
           0,
           0,
           0,
           0,
           0,
           0,
           0,
           0
          ],
          [
           6962,
           6962,
           0,
           0,
           0,
           0,
           0,
           0,
           0,
           0
          ],
          [
           12048.5,
           12048.5,
           0,
           0,
           0,
           0,
           0,
           0,
           0,
           0
          ],
          [
           17135,
           17135,
           0,
           0,
           0,
           0,
           0,
           0,
           0,
           0
          ],
          [
           17235,
           17235,
           0,
           0,
           0,
           0,
           0,
           0,
           0,
           0
          ],
          [
           17335,
           17335,
           0,
           0,
           0,
           0,
           0,
           0,
           0,
           0
          ],
          [
           18235,
           18235,
           0,
           0,
           0,
           0,
           0,
           0,
           0,
           0
          ]
         ],
         "xaxis": "x3",
         "y": [
          [
           0.021879751048764405,
           0.021879751048764405,
           0.021879751048764405,
           0.021879751048764405,
           0.021879751048764405,
           0.021879751048764405,
           0.021879751048764405,
           0.021879751048764405,
           0.021879751048764405,
           0.021879751048764405
          ],
          [
           0.08729472168293215,
           0.08729472168293215,
           0.08729472168293215,
           0.08729472168293215,
           0.08729472168293215,
           0.08729472168293215,
           0.08729472168293215,
           0.08729472168293215,
           0.08729472168293215,
           0.08729472168293215
          ],
          [
           0.29045862600728856,
           0.29045862600728856,
           0.29045862600728856,
           0.29045862600728856,
           0.29045862600728856,
           0.29045862600728856,
           0.29045862600728856,
           0.29045862600728856,
           0.29045862600728856,
           0.29045862600728856
          ],
          [
           0.36418319505413593,
           0.36418319505413593,
           0.36418319505413593,
           0.36418319505413593,
           0.36418319505413593,
           0.36418319505413593,
           0.36418319505413593,
           0.36418319505413593,
           0.36418319505413593,
           0.36418319505413593
          ],
          [
           0.4117830684431007,
           0.4117830684431007,
           0.4117830684431007,
           0.4117830684431007,
           0.4117830684431007,
           0.4117830684431007,
           0.4117830684431007,
           0.4117830684431007,
           0.4117830684431007,
           0.4117830684431007
          ],
          [
           0.4836638278053209,
           0.4836638278053209,
           0.4836638278053209,
           0.4836638278053209,
           0.4836638278053209,
           0.4836638278053209,
           0.4836638278053209,
           0.4836638278053209,
           0.4836638278053209,
           0.4836638278053209
          ],
          [
           0.5250582312474835,
           0.5250582312474835,
           0.5250582312474835,
           0.5250582312474835,
           0.5250582312474835,
           0.5250582312474835,
           0.5250582312474835,
           0.5250582312474835,
           0.5250582312474835,
           0.5250582312474835
          ],
          [
           0.5377546158995306,
           0.5377546158995306,
           0.5377546158995306,
           0.5377546158995306,
           0.5377546158995306,
           0.5377546158995306,
           0.5377546158995306,
           0.5377546158995306,
           0.5377546158995306,
           0.5377546158995306
          ],
          [
           0.5479870089661866,
           0.5479870089661866,
           0.5479870089661866,
           0.5479870089661866,
           0.5479870089661866,
           0.5479870089661866,
           0.5479870089661866,
           0.5479870089661866,
           0.5479870089661866,
           0.5479870089661866
          ],
          [
           0.585457779750473,
           0.585457779750473,
           0.585457779750473,
           0.585457779750473,
           0.585457779750473,
           0.585457779750473,
           0.585457779750473,
           0.585457779750473,
           0.585457779750473,
           0.585457779750473
          ],
          [
           0.5996460087568634,
           0.5996460087568634,
           0.5996460087568634,
           0.5996460087568634,
           0.5996460087568634,
           0.5996460087568634,
           0.5996460087568634,
           0.5996460087568634,
           0.5996460087568634,
           0.5996460087568634
          ],
          [
           0.6009878333997619,
           0.6009878333997619,
           0.6009878333997619,
           0.6009878333997619,
           0.6009878333997619,
           0.6009878333997619,
           0.6009878333997619,
           0.6009878333997619,
           0.6009878333997619,
           0.6009878333997619
          ],
          [
           0.6022430841335383,
           0.6022430841335383,
           0.6022430841335383,
           0.6022430841335383,
           0.6022430841335383,
           0.6022430841335383,
           0.6022430841335383,
           0.6022430841335383,
           0.6022430841335383,
           0.6022430841335383
          ],
          [
           0.6199597089724157,
           0.6199597089724157,
           0.6199597089724157,
           0.6199597089724157,
           0.6199597089724157,
           0.6199597089724157,
           0.6199597089724157,
           0.6199597089724157,
           0.6199597089724157,
           0.6199597089724157
          ],
          [
           0.6368723241165033,
           0.6368723241165033,
           0.6368723241165033,
           0.6368723241165033,
           0.6368723241165033,
           0.6368723241165033,
           0.6368723241165033,
           0.6368723241165033,
           0.6368723241165033,
           0.6368723241165033
          ],
          [
           0.637818528062186,
           0.637818528062186,
           0.637818528062186,
           0.637818528062186,
           0.637818528062186,
           0.637818528062186,
           0.637818528062186,
           0.637818528062186,
           0.637818528062186,
           0.637818528062186
          ],
          [
           0.6387746622721134,
           0.6387746622721134,
           0.6387746622721134,
           0.6387746622721134,
           0.6387746622721134,
           0.6387746622721134,
           0.6387746622721134,
           0.6387746622721134,
           0.6387746622721134,
           0.6387746622721134
          ],
          [
           0.7014564646968556,
           0.7014564646968556,
           0.7014564646968556,
           0.7014564646968556,
           0.7014564646968556,
           0.7014564646968556,
           0.7014564646968556,
           0.7014564646968556,
           0.7014564646968556,
           0.7014564646968556
          ],
          [
           0.7864177801942828,
           0.7864177801942828,
           0.7864177801942828,
           0.7864177801942828,
           0.7864177801942828,
           0.7864177801942828,
           0.7864177801942828,
           0.7864177801942828,
           0.7864177801942828,
           0.7864177801942828
          ],
          [
           0.7881953984176874,
           0.7881953984176874,
           0.7881953984176874,
           0.7881953984176874,
           0.7881953984176874,
           0.7881953984176874,
           0.7881953984176874,
           0.7881953984176874,
           0.7881953984176874,
           0.7881953984176874
          ],
          [
           0.7899738532849225,
           0.7899738532849225,
           0.7899738532849225,
           0.7899738532849225,
           0.7899738532849225,
           0.7899738532849225,
           0.7899738532849225,
           0.7899738532849225,
           0.7899738532849225,
           0.7899738532849225
          ],
          [
           0.8059839633054416,
           0.8059839633054416,
           0.8059839633054416,
           0.8059839633054416,
           0.8059839633054416,
           0.8059839633054416,
           0.8059839633054416,
           0.8059839633054416,
           0.8059839633054416,
           0.8059839633054416
          ]
         ],
         "yaxis": "y3"
        },
        {
         "line": {
          "color": "darkslategray"
         },
         "mode": "markers",
         "name": "Raw data",
         "showlegend": false,
         "type": "scatter",
         "x": [
          [
           443,
           443,
           443,
           443,
           443,
           443,
           443,
           443,
           443,
           443
          ],
          [
           443,
           443,
           443,
           443,
           443,
           443,
           443,
           443,
           443,
           443
          ],
          [
           1088,
           1088,
           1088,
           1088,
           1088,
           1088,
           1088,
           1088,
           1088,
           1088
          ],
          [
           1088,
           1088,
           1088,
           1088,
           1088,
           1088,
           1088,
           1088,
           1088,
           1088
          ],
          [
           2732,
           2732,
           2732,
           2732,
           2732,
           2732,
           2732,
           2732,
           2732,
           2732
          ],
          [
           2732,
           2732,
           2732,
           2732,
           2732,
           2732,
           2732,
           2732,
           2732,
           2732
          ],
          [
           6862,
           6862,
           6862,
           6862,
           6862,
           6862,
           6862,
           6862,
           6862,
           6862
          ],
          [
           6862,
           6862,
           6862,
           6862,
           6862,
           6862,
           6862,
           6862,
           6862,
           6862
          ],
          [
           17235,
           17235,
           17235,
           17235,
           17235,
           17235,
           17235,
           17235,
           17235,
           17235
          ],
          [
           17235,
           17235,
           17235,
           17235,
           17235,
           17235,
           17235,
           17235,
           17235,
           17235
          ]
         ],
         "xaxis": "x3",
         "y": [
          [
           0.8026629207571213,
           0.8007493389494558,
           0.804315257621698,
           0.8025608807999964,
           0.8042036501054773,
           0.8037481485750225,
           0.8017613728158385,
           0.8039846479274637,
           0.8037603330920172,
           0.8020990012165478
          ],
          [
           0.364451095328648,
           0.36480111591416997,
           0.36546336249162864,
           0.3657516046879219,
           0.36398087821256137,
           0.3658481487103874,
           0.3627089744106021,
           0.364070780839064,
           0.36492925528074316,
           0.36403136867797187
          ],
          [
           0.901057199341219,
           0.899296836398757,
           0.9020909047119169,
           0.9027119091460666,
           0.9019900215233823,
           0.9022250804338691,
           0.9010363725900563,
           0.9023219680364857,
           0.9021830384637576,
           0.9008539254531203
          ],
          [
           0.5384891337050048,
           0.534929675346901,
           0.538251225479239,
           0.5386678929594664,
           0.5374256456451084,
           0.5383216008087258,
           0.5378515993794998,
           0.5377709946871019,
           0.5384109729500199,
           0.5375958420479213
          ],
          [
           0.9213468145575675,
           0.919067095354873,
           0.9196402482077873,
           0.9211645637023241,
           0.918939494368284,
           0.9207540762381551,
           0.9207235689772287,
           0.9205797504103708,
           0.9203705773608972,
           0.9202861303149984
          ],
          [
           0.6013441310254722,
           0.5972957962980667,
           0.5991430456310034,
           0.6023725128409488,
           0.6009560035905195,
           0.6029366083403184,
           0.6018345420122916,
           0.6023618896223834,
           0.5997266522127542,
           0.6022578009554521
          ],
          [
           0.932235060645979,
           0.9317064476672746,
           0.9307580880695848,
           0.9339948188874717,
           0.9319191235913296,
           0.9333110821195284,
           0.9302109470631285,
           0.9325263478043626,
           0.9331260337686839,
           0.9315965271641139
          ],
          [
           0.6377510359753712,
           0.6373203826260087,
           0.6391177472624068,
           0.6382958505572616,
           0.6383326044732154,
           0.6379604043247128,
           0.6366754115060083,
           0.6388768476389817,
           0.6378619716774253,
           0.638378301753997
          ],
          [
           0.9691882940799511,
           0.9669514313552483,
           0.9690487702325307,
           0.9701983051988978,
           0.9677203880909842,
           0.9694541647924794,
           0.9679344196457889,
           0.9700937503823288,
           0.9709416145737441,
           0.9692425730217782
          ],
          [
           0.7880593016395517,
           0.787742212613876,
           0.7899649973671758,
           0.7907698581362935,
           0.788937869627274,
           0.7881335569813539,
           0.7882765682756862,
           0.7876935857026538,
           0.7892292828341505,
           0.7881656537463534
          ]
         ],
         "yaxis": "y3"
        }
       ],
       "layout": {
        "annotations": [
         {
          "font": {
           "size": 16
          },
          "showarrow": false,
          "text": "Super Lorentzian",
          "x": 0.14444444444444446,
          "xanchor": "center",
          "xref": "paper",
          "y": 1,
          "yanchor": "bottom",
          "yref": "paper"
         },
         {
          "font": {
           "size": 16
          },
          "showarrow": false,
          "text": "Lorentzian",
          "x": 0.5,
          "xanchor": "center",
          "xref": "paper",
          "y": 1,
          "yanchor": "bottom",
          "yref": "paper"
         },
         {
          "font": {
           "size": 16
          },
          "showarrow": false,
          "text": "Gaussian",
          "x": 0.8555555555555556,
          "xanchor": "center",
          "xref": "paper",
          "y": 1,
          "yanchor": "bottom",
          "yref": "paper"
         }
        ],
        "height": 450,
        "legend": {
         "orientation": "h",
         "x": 0.5,
         "xanchor": "center",
         "y": 1.1,
         "yanchor": "bottom"
        },
        "plot_bgcolor": "rgba(0,0,0,0)",
        "template": {
         "data": {
          "bar": [
           {
            "error_x": {
             "color": "#2a3f5f"
            },
            "error_y": {
             "color": "#2a3f5f"
            },
            "marker": {
             "line": {
              "color": "#E5ECF6",
              "width": 0.5
             },
             "pattern": {
              "fillmode": "overlay",
              "size": 10,
              "solidity": 0.2
             }
            },
            "type": "bar"
           }
          ],
          "barpolar": [
           {
            "marker": {
             "line": {
              "color": "#E5ECF6",
              "width": 0.5
             },
             "pattern": {
              "fillmode": "overlay",
              "size": 10,
              "solidity": 0.2
             }
            },
            "type": "barpolar"
           }
          ],
          "carpet": [
           {
            "aaxis": {
             "endlinecolor": "#2a3f5f",
             "gridcolor": "white",
             "linecolor": "white",
             "minorgridcolor": "white",
             "startlinecolor": "#2a3f5f"
            },
            "baxis": {
             "endlinecolor": "#2a3f5f",
             "gridcolor": "white",
             "linecolor": "white",
             "minorgridcolor": "white",
             "startlinecolor": "#2a3f5f"
            },
            "type": "carpet"
           }
          ],
          "choropleth": [
           {
            "colorbar": {
             "outlinewidth": 0,
             "ticks": ""
            },
            "type": "choropleth"
           }
          ],
          "contour": [
           {
            "colorbar": {
             "outlinewidth": 0,
             "ticks": ""
            },
            "colorscale": [
             [
              0,
              "#0d0887"
             ],
             [
              0.1111111111111111,
              "#46039f"
             ],
             [
              0.2222222222222222,
              "#7201a8"
             ],
             [
              0.3333333333333333,
              "#9c179e"
             ],
             [
              0.4444444444444444,
              "#bd3786"
             ],
             [
              0.5555555555555556,
              "#d8576b"
             ],
             [
              0.6666666666666666,
              "#ed7953"
             ],
             [
              0.7777777777777778,
              "#fb9f3a"
             ],
             [
              0.8888888888888888,
              "#fdca26"
             ],
             [
              1,
              "#f0f921"
             ]
            ],
            "type": "contour"
           }
          ],
          "contourcarpet": [
           {
            "colorbar": {
             "outlinewidth": 0,
             "ticks": ""
            },
            "type": "contourcarpet"
           }
          ],
          "heatmap": [
           {
            "colorbar": {
             "outlinewidth": 0,
             "ticks": ""
            },
            "colorscale": [
             [
              0,
              "#0d0887"
             ],
             [
              0.1111111111111111,
              "#46039f"
             ],
             [
              0.2222222222222222,
              "#7201a8"
             ],
             [
              0.3333333333333333,
              "#9c179e"
             ],
             [
              0.4444444444444444,
              "#bd3786"
             ],
             [
              0.5555555555555556,
              "#d8576b"
             ],
             [
              0.6666666666666666,
              "#ed7953"
             ],
             [
              0.7777777777777778,
              "#fb9f3a"
             ],
             [
              0.8888888888888888,
              "#fdca26"
             ],
             [
              1,
              "#f0f921"
             ]
            ],
            "type": "heatmap"
           }
          ],
          "heatmapgl": [
           {
            "colorbar": {
             "outlinewidth": 0,
             "ticks": ""
            },
            "colorscale": [
             [
              0,
              "#0d0887"
             ],
             [
              0.1111111111111111,
              "#46039f"
             ],
             [
              0.2222222222222222,
              "#7201a8"
             ],
             [
              0.3333333333333333,
              "#9c179e"
             ],
             [
              0.4444444444444444,
              "#bd3786"
             ],
             [
              0.5555555555555556,
              "#d8576b"
             ],
             [
              0.6666666666666666,
              "#ed7953"
             ],
             [
              0.7777777777777778,
              "#fb9f3a"
             ],
             [
              0.8888888888888888,
              "#fdca26"
             ],
             [
              1,
              "#f0f921"
             ]
            ],
            "type": "heatmapgl"
           }
          ],
          "histogram": [
           {
            "marker": {
             "pattern": {
              "fillmode": "overlay",
              "size": 10,
              "solidity": 0.2
             }
            },
            "type": "histogram"
           }
          ],
          "histogram2d": [
           {
            "colorbar": {
             "outlinewidth": 0,
             "ticks": ""
            },
            "colorscale": [
             [
              0,
              "#0d0887"
             ],
             [
              0.1111111111111111,
              "#46039f"
             ],
             [
              0.2222222222222222,
              "#7201a8"
             ],
             [
              0.3333333333333333,
              "#9c179e"
             ],
             [
              0.4444444444444444,
              "#bd3786"
             ],
             [
              0.5555555555555556,
              "#d8576b"
             ],
             [
              0.6666666666666666,
              "#ed7953"
             ],
             [
              0.7777777777777778,
              "#fb9f3a"
             ],
             [
              0.8888888888888888,
              "#fdca26"
             ],
             [
              1,
              "#f0f921"
             ]
            ],
            "type": "histogram2d"
           }
          ],
          "histogram2dcontour": [
           {
            "colorbar": {
             "outlinewidth": 0,
             "ticks": ""
            },
            "colorscale": [
             [
              0,
              "#0d0887"
             ],
             [
              0.1111111111111111,
              "#46039f"
             ],
             [
              0.2222222222222222,
              "#7201a8"
             ],
             [
              0.3333333333333333,
              "#9c179e"
             ],
             [
              0.4444444444444444,
              "#bd3786"
             ],
             [
              0.5555555555555556,
              "#d8576b"
             ],
             [
              0.6666666666666666,
              "#ed7953"
             ],
             [
              0.7777777777777778,
              "#fb9f3a"
             ],
             [
              0.8888888888888888,
              "#fdca26"
             ],
             [
              1,
              "#f0f921"
             ]
            ],
            "type": "histogram2dcontour"
           }
          ],
          "mesh3d": [
           {
            "colorbar": {
             "outlinewidth": 0,
             "ticks": ""
            },
            "type": "mesh3d"
           }
          ],
          "parcoords": [
           {
            "line": {
             "colorbar": {
              "outlinewidth": 0,
              "ticks": ""
             }
            },
            "type": "parcoords"
           }
          ],
          "pie": [
           {
            "automargin": true,
            "type": "pie"
           }
          ],
          "scatter": [
           {
            "marker": {
             "colorbar": {
              "outlinewidth": 0,
              "ticks": ""
             }
            },
            "type": "scatter"
           }
          ],
          "scatter3d": [
           {
            "line": {
             "colorbar": {
              "outlinewidth": 0,
              "ticks": ""
             }
            },
            "marker": {
             "colorbar": {
              "outlinewidth": 0,
              "ticks": ""
             }
            },
            "type": "scatter3d"
           }
          ],
          "scattercarpet": [
           {
            "marker": {
             "colorbar": {
              "outlinewidth": 0,
              "ticks": ""
             }
            },
            "type": "scattercarpet"
           }
          ],
          "scattergeo": [
           {
            "marker": {
             "colorbar": {
              "outlinewidth": 0,
              "ticks": ""
             }
            },
            "type": "scattergeo"
           }
          ],
          "scattergl": [
           {
            "marker": {
             "colorbar": {
              "outlinewidth": 0,
              "ticks": ""
             }
            },
            "type": "scattergl"
           }
          ],
          "scattermapbox": [
           {
            "marker": {
             "colorbar": {
              "outlinewidth": 0,
              "ticks": ""
             }
            },
            "type": "scattermapbox"
           }
          ],
          "scatterpolar": [
           {
            "marker": {
             "colorbar": {
              "outlinewidth": 0,
              "ticks": ""
             }
            },
            "type": "scatterpolar"
           }
          ],
          "scatterpolargl": [
           {
            "marker": {
             "colorbar": {
              "outlinewidth": 0,
              "ticks": ""
             }
            },
            "type": "scatterpolargl"
           }
          ],
          "scatterternary": [
           {
            "marker": {
             "colorbar": {
              "outlinewidth": 0,
              "ticks": ""
             }
            },
            "type": "scatterternary"
           }
          ],
          "surface": [
           {
            "colorbar": {
             "outlinewidth": 0,
             "ticks": ""
            },
            "colorscale": [
             [
              0,
              "#0d0887"
             ],
             [
              0.1111111111111111,
              "#46039f"
             ],
             [
              0.2222222222222222,
              "#7201a8"
             ],
             [
              0.3333333333333333,
              "#9c179e"
             ],
             [
              0.4444444444444444,
              "#bd3786"
             ],
             [
              0.5555555555555556,
              "#d8576b"
             ],
             [
              0.6666666666666666,
              "#ed7953"
             ],
             [
              0.7777777777777778,
              "#fb9f3a"
             ],
             [
              0.8888888888888888,
              "#fdca26"
             ],
             [
              1,
              "#f0f921"
             ]
            ],
            "type": "surface"
           }
          ],
          "table": [
           {
            "cells": {
             "fill": {
              "color": "#EBF0F8"
             },
             "line": {
              "color": "white"
             }
            },
            "header": {
             "fill": {
              "color": "#C8D4E3"
             },
             "line": {
              "color": "white"
             }
            },
            "type": "table"
           }
          ]
         },
         "layout": {
          "annotationdefaults": {
           "arrowcolor": "#2a3f5f",
           "arrowhead": 0,
           "arrowwidth": 1
          },
          "autotypenumbers": "strict",
          "coloraxis": {
           "colorbar": {
            "outlinewidth": 0,
            "ticks": ""
           }
          },
          "colorscale": {
           "diverging": [
            [
             0,
             "#8e0152"
            ],
            [
             0.1,
             "#c51b7d"
            ],
            [
             0.2,
             "#de77ae"
            ],
            [
             0.3,
             "#f1b6da"
            ],
            [
             0.4,
             "#fde0ef"
            ],
            [
             0.5,
             "#f7f7f7"
            ],
            [
             0.6,
             "#e6f5d0"
            ],
            [
             0.7,
             "#b8e186"
            ],
            [
             0.8,
             "#7fbc41"
            ],
            [
             0.9,
             "#4d9221"
            ],
            [
             1,
             "#276419"
            ]
           ],
           "sequential": [
            [
             0,
             "#0d0887"
            ],
            [
             0.1111111111111111,
             "#46039f"
            ],
            [
             0.2222222222222222,
             "#7201a8"
            ],
            [
             0.3333333333333333,
             "#9c179e"
            ],
            [
             0.4444444444444444,
             "#bd3786"
            ],
            [
             0.5555555555555556,
             "#d8576b"
            ],
            [
             0.6666666666666666,
             "#ed7953"
            ],
            [
             0.7777777777777778,
             "#fb9f3a"
            ],
            [
             0.8888888888888888,
             "#fdca26"
            ],
            [
             1,
             "#f0f921"
            ]
           ],
           "sequentialminus": [
            [
             0,
             "#0d0887"
            ],
            [
             0.1111111111111111,
             "#46039f"
            ],
            [
             0.2222222222222222,
             "#7201a8"
            ],
            [
             0.3333333333333333,
             "#9c179e"
            ],
            [
             0.4444444444444444,
             "#bd3786"
            ],
            [
             0.5555555555555556,
             "#d8576b"
            ],
            [
             0.6666666666666666,
             "#ed7953"
            ],
            [
             0.7777777777777778,
             "#fb9f3a"
            ],
            [
             0.8888888888888888,
             "#fdca26"
            ],
            [
             1,
             "#f0f921"
            ]
           ]
          },
          "colorway": [
           "#636efa",
           "#EF553B",
           "#00cc96",
           "#ab63fa",
           "#FFA15A",
           "#19d3f3",
           "#FF6692",
           "#B6E880",
           "#FF97FF",
           "#FECB52"
          ],
          "font": {
           "color": "#2a3f5f"
          },
          "geo": {
           "bgcolor": "white",
           "lakecolor": "white",
           "landcolor": "#E5ECF6",
           "showlakes": true,
           "showland": true,
           "subunitcolor": "white"
          },
          "hoverlabel": {
           "align": "left"
          },
          "hovermode": "closest",
          "mapbox": {
           "style": "light"
          },
          "paper_bgcolor": "white",
          "plot_bgcolor": "#E5ECF6",
          "polar": {
           "angularaxis": {
            "gridcolor": "white",
            "linecolor": "white",
            "ticks": ""
           },
           "bgcolor": "#E5ECF6",
           "radialaxis": {
            "gridcolor": "white",
            "linecolor": "white",
            "ticks": ""
           }
          },
          "scene": {
           "xaxis": {
            "backgroundcolor": "#E5ECF6",
            "gridcolor": "white",
            "gridwidth": 2,
            "linecolor": "white",
            "showbackground": true,
            "ticks": "",
            "zerolinecolor": "white"
           },
           "yaxis": {
            "backgroundcolor": "#E5ECF6",
            "gridcolor": "white",
            "gridwidth": 2,
            "linecolor": "white",
            "showbackground": true,
            "ticks": "",
            "zerolinecolor": "white"
           },
           "zaxis": {
            "backgroundcolor": "#E5ECF6",
            "gridcolor": "white",
            "gridwidth": 2,
            "linecolor": "white",
            "showbackground": true,
            "ticks": "",
            "zerolinecolor": "white"
           }
          },
          "shapedefaults": {
           "line": {
            "color": "#2a3f5f"
           }
          },
          "ternary": {
           "aaxis": {
            "gridcolor": "white",
            "linecolor": "white",
            "ticks": ""
           },
           "baxis": {
            "gridcolor": "white",
            "linecolor": "white",
            "ticks": ""
           },
           "bgcolor": "#E5ECF6",
           "caxis": {
            "gridcolor": "white",
            "linecolor": "white",
            "ticks": ""
           }
          },
          "title": {
           "x": 0.05
          },
          "xaxis": {
           "automargin": true,
           "gridcolor": "white",
           "linecolor": "white",
           "ticks": "",
           "title": {
            "standoff": 15
           },
           "zerolinecolor": "white",
           "zerolinewidth": 2
          },
          "yaxis": {
           "automargin": true,
           "gridcolor": "white",
           "linecolor": "white",
           "ticks": "",
           "title": {
            "standoff": 15
           },
           "zerolinecolor": "white",
           "zerolinewidth": 2
          }
         }
        },
        "title": {
         "text": "Different absorption lineshapes"
        },
        "width": 900,
        "xaxis": {
         "anchor": "y",
         "domain": [
          0,
          0.2888888888888889
         ],
         "linecolor": "black",
         "linewidth": 2,
         "showline": true,
         "title": {
          "text": "Offset (Hz)"
         },
         "type": "log"
        },
        "xaxis2": {
         "anchor": "y2",
         "domain": [
          0.35555555555555557,
          0.6444444444444445
         ],
         "linecolor": "black",
         "linewidth": 2,
         "showline": true,
         "title": {
          "text": "Offset (Hz)"
         },
         "type": "log"
        },
        "xaxis3": {
         "anchor": "y3",
         "domain": [
          0.7111111111111111,
          1
         ],
         "linecolor": "black",
         "linewidth": 2,
         "showline": true,
         "title": {
          "text": "Offset (Hz)"
         },
         "type": "log"
        },
        "yaxis": {
         "anchor": "x",
         "domain": [
          0,
          1
         ],
         "linecolor": "black",
         "linewidth": 2,
         "showline": true,
         "title": {
          "text": "Magnetization |M<sub>z</sub>|"
         }
        },
        "yaxis2": {
         "anchor": "x2",
         "domain": [
          0,
          1
         ],
         "linecolor": "black",
         "linewidth": 2,
         "matches": "y",
         "showline": true,
         "showticklabels": false,
         "title": {
          "text": "Magnetization |M<sub>z</sub>|"
         }
        },
        "yaxis3": {
         "anchor": "x3",
         "domain": [
          0,
          1
         ],
         "linecolor": "black",
         "linewidth": 2,
         "matches": "y",
         "showline": true,
         "showticklabels": false,
         "title": {
          "text": "Magnetization |M<sub>z</sub>|"
         }
        }
       }
      },
      "text/html": [
       "<div>                            <div id=\"ed74540c-62c2-43f9-9c60-6a431412e03f\" class=\"plotly-graph-div\" style=\"height:450px; width:900px;\"></div>            <script type=\"text/javascript\">                require([\"plotly\"], function(Plotly) {                    window.PLOTLYENV=window.PLOTLYENV || {};                                    if (document.getElementById(\"ed74540c-62c2-43f9-9c60-6a431412e03f\")) {                    Plotly.newPlot(                        \"ed74540c-62c2-43f9-9c60-6a431412e03f\",                        [{\"line\":{\"color\":\"firebrick\"},\"mode\":\"lines\",\"name\":\"Fitted curve (angle = 142)\",\"showlegend\":true,\"x\":[[100.0,100.0,0.0,0.0,0.0,0.0,0.0,0.0,0.0,0.0],[221.5,221.5,0.0,0.0,0.0,0.0,0.0,0.0,0.0,0.0],[343.0,343.0,0.0,0.0,0.0,0.0,0.0,0.0,0.0,0.0],[443.0,443.0,0.0,0.0,0.0,0.0,0.0,0.0,0.0,0.0],[543.0,543.0,0.0,0.0,0.0,0.0,0.0,0.0,0.0,0.0],[765.5,765.5,0.0,0.0,0.0,0.0,0.0,0.0,0.0,0.0],[988.0,988.0,0.0,0.0,0.0,0.0,0.0,0.0,0.0,0.0],[1088.0,1088.0,0.0,0.0,0.0,0.0,0.0,0.0,0.0,0.0],[1188.0,1188.0,0.0,0.0,0.0,0.0,0.0,0.0,0.0,0.0],[1910.0,1910.0,0.0,0.0,0.0,0.0,0.0,0.0,0.0,0.0],[2632.0,2632.0,0.0,0.0,0.0,0.0,0.0,0.0,0.0,0.0],[2732.0,2732.0,0.0,0.0,0.0,0.0,0.0,0.0,0.0,0.0],[2832.0,2832.0,0.0,0.0,0.0,0.0,0.0,0.0,0.0,0.0],[4797.0,4797.0,0.0,0.0,0.0,0.0,0.0,0.0,0.0,0.0],[6762.0,6762.0,0.0,0.0,0.0,0.0,0.0,0.0,0.0,0.0],[6862.0,6862.0,0.0,0.0,0.0,0.0,0.0,0.0,0.0,0.0],[6962.0,6962.0,0.0,0.0,0.0,0.0,0.0,0.0,0.0,0.0],[12048.5,12048.5,0.0,0.0,0.0,0.0,0.0,0.0,0.0,0.0],[17135.0,17135.0,0.0,0.0,0.0,0.0,0.0,0.0,0.0,0.0],[17235.0,17235.0,0.0,0.0,0.0,0.0,0.0,0.0,0.0,0.0],[17335.0,17335.0,0.0,0.0,0.0,0.0,0.0,0.0,0.0,0.0],[18235.0,18235.0,0.0,0.0,0.0,0.0,0.0,0.0,0.0,0.0]],\"y\":[[0.00881317157378912,0.00881317157378912,0.00881317157378912,0.00881317157378912,0.00881317157378912,0.00881317157378912,0.00881317157378912,0.00881317157378912,0.00881317157378912,0.00881317157378912],[0.37343447696293,0.37343447696293,0.37343447696293,0.37343447696293,0.37343447696293,0.37343447696293,0.37343447696293,0.37343447696293,0.37343447696293,0.37343447696293],[0.661093832791793,0.661093832791793,0.661093832791793,0.661093832791793,0.661093832791793,0.661093832791793,0.661093832791793,0.661093832791793,0.661093832791793,0.661093832791793],[0.7199791813876734,0.7199791813876734,0.7199791813876734,0.7199791813876734,0.7199791813876734,0.7199791813876734,0.7199791813876734,0.7199791813876734,0.7199791813876734,0.7199791813876734],[0.7513422491545599,0.7513422491545599,0.7513422491545599,0.7513422491545599,0.7513422491545599,0.7513422491545599,0.7513422491545599,0.7513422491545599,0.7513422491545599,0.7513422491545599],[0.7848775988223742,0.7848775988223742,0.7848775988223742,0.7848775988223742,0.7848775988223742,0.7848775988223742,0.7848775988223742,0.7848775988223742,0.7848775988223742,0.7848775988223742],[0.8008618470814187,0.8008618470814187,0.8008618470814187,0.8008618470814187,0.8008618470814187,0.8008618470814187,0.8008618470814187,0.8008618470814187,0.8008618470814187,0.8008618470814187],[0.8058661167918404,0.8058661167918404,0.8058661167918404,0.8058661167918404,0.8058661167918404,0.8058661167918404,0.8058661167918404,0.8058661167918404,0.8058661167918404,0.8058661167918404],[0.8101648968950066,0.8101648968950066,0.8101648968950066,0.8101648968950066,0.8101648968950066,0.8101648968950066,0.8101648968950066,0.8101648968950066,0.8101648968950066,0.8101648968950066],[0.8402396812975224,0.8402396812975224,0.8402396812975224,0.8402396812975224,0.8402396812975224,0.8402396812975224,0.8402396812975224,0.8402396812975224,0.8402396812975224,0.8402396812975224],[0.8654618143512635,0.8654618143512635,0.8654618143512635,0.8654618143512635,0.8654618143512635,0.8654618143512635,0.8654618143512635,0.8654618143512635,0.8654618143512635,0.8654618143512635],[0.8684397778290472,0.8684397778290472,0.8684397778290472,0.8684397778290472,0.8684397778290472,0.8684397778290472,0.8684397778290472,0.8684397778290472,0.8684397778290472,0.8684397778290472],[0.8713245011501123,0.8713245011501123,0.8713245011501123,0.8713245011501123,0.8713245011501123,0.8713245011501123,0.8713245011501123,0.8713245011501123,0.8713245011501123,0.8713245011501123],[0.9154428410110407,0.9154428410110407,0.9154428410110407,0.9154428410110407,0.9154428410110407,0.9154428410110407,0.9154428410110407,0.9154428410110407,0.9154428410110407,0.9154428410110407],[0.9451162224085932,0.9451162224085932,0.9451162224085932,0.9451162224085932,0.9451162224085932,0.9451162224085932,0.9451162224085932,0.9451162224085932,0.9451162224085932,0.9451162224085932],[0.9463530645742487,0.9463530645742487,0.9463530645742487,0.9463530645742487,0.9463530645742487,0.9463530645742487,0.9463530645742487,0.9463530645742487,0.9463530645742487,0.9463530645742487],[0.9475664457718909,0.9475664457718909,0.9475664457718909,0.9475664457718909,0.9475664457718909,0.9475664457718909,0.9475664457718909,0.9475664457718909,0.9475664457718909,0.9475664457718909],[0.9850523284164834,0.9850523284164834,0.9850523284164834,0.9850523284164834,0.9850523284164834,0.9850523284164834,0.9850523284164834,0.9850523284164834,0.9850523284164834,0.9850523284164834],[0.9958130106911827,0.9958130106911827,0.9958130106911827,0.9958130106911827,0.9958130106911827,0.9958130106911827,0.9958130106911827,0.9958130106911827,0.9958130106911827,0.9958130106911827],[0.9959113654427721,0.9959113654427721,0.9959113654427721,0.9959113654427721,0.9959113654427721,0.9959113654427721,0.9959113654427721,0.9959113654427721,0.9959113654427721,0.9959113654427721],[0.9960071879172009,0.9960071879172009,0.9960071879172009,0.9960071879172009,0.9960071879172009,0.9960071879172009,0.9960071879172009,0.9960071879172009,0.9960071879172009,0.9960071879172009],[0.9967669377695489,0.9967669377695489,0.9967669377695489,0.9967669377695489,0.9967669377695489,0.9967669377695489,0.9967669377695489,0.9967669377695489,0.9967669377695489,0.9967669377695489]],\"type\":\"scatter\",\"xaxis\":\"x\",\"yaxis\":\"y\"},{\"line\":{\"color\":\"royalblue\"},\"mode\":\"lines\",\"name\":\"Fitted curve (angle = 426)\",\"showlegend\":true,\"x\":[[100.0,100.0,0.0,0.0,0.0,0.0,0.0,0.0,0.0,0.0],[221.5,221.5,0.0,0.0,0.0,0.0,0.0,0.0,0.0,0.0],[343.0,343.0,0.0,0.0,0.0,0.0,0.0,0.0,0.0,0.0],[443.0,443.0,0.0,0.0,0.0,0.0,0.0,0.0,0.0,0.0],[543.0,543.0,0.0,0.0,0.0,0.0,0.0,0.0,0.0,0.0],[765.5,765.5,0.0,0.0,0.0,0.0,0.0,0.0,0.0,0.0],[988.0,988.0,0.0,0.0,0.0,0.0,0.0,0.0,0.0,0.0],[1088.0,1088.0,0.0,0.0,0.0,0.0,0.0,0.0,0.0,0.0],[1188.0,1188.0,0.0,0.0,0.0,0.0,0.0,0.0,0.0,0.0],[1910.0,1910.0,0.0,0.0,0.0,0.0,0.0,0.0,0.0,0.0],[2632.0,2632.0,0.0,0.0,0.0,0.0,0.0,0.0,0.0,0.0],[2732.0,2732.0,0.0,0.0,0.0,0.0,0.0,0.0,0.0,0.0],[2832.0,2832.0,0.0,0.0,0.0,0.0,0.0,0.0,0.0,0.0],[4797.0,4797.0,0.0,0.0,0.0,0.0,0.0,0.0,0.0,0.0],[6762.0,6762.0,0.0,0.0,0.0,0.0,0.0,0.0,0.0,0.0],[6862.0,6862.0,0.0,0.0,0.0,0.0,0.0,0.0,0.0,0.0],[6962.0,6962.0,0.0,0.0,0.0,0.0,0.0,0.0,0.0,0.0],[12048.5,12048.5,0.0,0.0,0.0,0.0,0.0,0.0,0.0,0.0],[17135.0,17135.0,0.0,0.0,0.0,0.0,0.0,0.0,0.0,0.0],[17235.0,17235.0,0.0,0.0,0.0,0.0,0.0,0.0,0.0,0.0],[17335.0,17335.0,0.0,0.0,0.0,0.0,0.0,0.0,0.0,0.0],[18235.0,18235.0,0.0,0.0,0.0,0.0,0.0,0.0,0.0,0.0]],\"y\":[[0.020724017434756725,0.020724017434756725,0.020724017434756725,0.020724017434756725,0.020724017434756725,0.020724017434756725,0.020724017434756725,0.020724017434756725,0.020724017434756725,0.020724017434756725],[0.07952152832234823,0.07952152832234823,0.07952152832234823,0.07952152832234823,0.07952152832234823,0.07952152832234823,0.07952152832234823,0.07952152832234823,0.07952152832234823,0.07952152832234823],[0.23644933763967949,0.23644933763967949,0.23644933763967949,0.23644933763967949,0.23644933763967949,0.23644933763967949,0.23644933763967949,0.23644933763967949,0.23644933763967949,0.23644933763967949],[0.2857238014331286,0.2857238014331286,0.2857238014331286,0.2857238014331286,0.2857238014331286,0.2857238014331286,0.2857238014331286,0.2857238014331286,0.2857238014331286,0.2857238014331286],[0.31597055609919034,0.31597055609919034,0.31597055609919034,0.31597055609919034,0.31597055609919034,0.31597055609919034,0.31597055609919034,0.31597055609919034,0.31597055609919034,0.31597055609919034],[0.3602312030534838,0.3602312030534838,0.3602312030534838,0.3602312030534838,0.3602312030534838,0.3602312030534838,0.3602312030534838,0.3602312030534838,0.3602312030534838,0.3602312030534838],[0.3862028714386338,0.3862028714386338,0.3862028714386338,0.3862028714386338,0.3862028714386338,0.3862028714386338,0.3862028714386338,0.3862028714386338,0.3862028714386338,0.3862028714386338],[0.39468173792556244,0.39468173792556244,0.39468173792556244,0.39468173792556244,0.39468173792556244,0.39468173792556244,0.39468173792556244,0.39468173792556244,0.39468173792556244,0.39468173792556244],[0.4019228529613284,0.4019228529613284,0.4019228529613284,0.4019228529613284,0.4019228529613284,0.4019228529613284,0.4019228529613284,0.4019228529613284,0.4019228529613284,0.4019228529613284],[0.4468384153232748,0.4468384153232748,0.4468384153232748,0.4468384153232748,0.4468384153232748,0.4468384153232748,0.4468384153232748,0.4468384153232748,0.4468384153232748,0.4468384153232748],[0.4863311930946852,0.4863311930946852,0.4863311930946852,0.4863311930946852,0.4863311930946852,0.4863311930946852,0.4863311930946852,0.4863311930946852,0.4863311930946852,0.4863311930946852],[0.4914033651237524,0.4914033651237524,0.4914033651237524,0.4914033651237524,0.4914033651237524,0.4914033651237524,0.4914033651237524,0.4914033651237524,0.4914033651237524,0.4914033651237524],[0.4964183734614287,0.4964183734614287,0.4964183734614287,0.4964183734614287,0.4964183734614287,0.4964183734614287,0.4964183734614287,0.4964183734614287,0.4964183734614287,0.4964183734614287],[0.5904553952943927,0.5904553952943927,0.5904553952943927,0.5904553952943927,0.5904553952943927,0.5904553952943927,0.5904553952943927,0.5904553952943927,0.5904553952943927,0.5904553952943927],[0.6828354780660443,0.6828354780660443,0.6828354780660443,0.6828354780660443,0.6828354780660443,0.6828354780660443,0.6828354780660443,0.6828354780660443,0.6828354780660443,0.6828354780660443],[0.687461943956143,0.687461943956143,0.687461943956143,0.687461943956143,0.687461943956143,0.687461943956143,0.687461943956143,0.687461943956143,0.687461943956143,0.687461943956143],[0.6920741297852071,0.6920741297852071,0.6920741297852071,0.6920741297852071,0.6920741297852071,0.6920741297852071,0.6920741297852071,0.6920741297852071,0.6920741297852071,0.6920741297852071],[0.8831708108463052,0.8831708108463052,0.8831708108463052,0.8831708108463052,0.8831708108463052,0.8831708108463052,0.8831708108463052,0.8831708108463052,0.8831708108463052,0.8831708108463052],[0.9638436961666133,0.9638436961666133,0.9638436961666133,0.9638436961666133,0.9638436961666133,0.9638436961666133,0.9638436961666133,0.9638436961666133,0.9638436961666133,0.9638436961666133],[0.9646591982284621,0.9646591982284621,0.9646591982284621,0.9646591982284621,0.9646591982284621,0.9646591982284621,0.9646591982284621,0.9646591982284621,0.9646591982284621,0.9646591982284621],[0.9654552200993833,0.9654552200993833,0.9654552200993833,0.9654552200993833,0.9654552200993833,0.9654552200993833,0.9654552200993833,0.9654552200993833,0.9654552200993833,0.9654552200993833],[0.9718197157507424,0.9718197157507424,0.9718197157507424,0.9718197157507424,0.9718197157507424,0.9718197157507424,0.9718197157507424,0.9718197157507424,0.9718197157507424,0.9718197157507424]],\"type\":\"scatter\",\"xaxis\":\"x\",\"yaxis\":\"y\"},{\"line\":{\"color\":\"darkslategray\"},\"mode\":\"markers\",\"name\":\"Raw data\",\"showlegend\":true,\"x\":[[443.0,443.0,443.0,443.0,443.0,443.0,443.0,443.0,443.0,443.0],[443.0,443.0,443.0,443.0,443.0,443.0,443.0,443.0,443.0,443.0],[1088.0,1088.0,1088.0,1088.0,1088.0,1088.0,1088.0,1088.0,1088.0,1088.0],[1088.0,1088.0,1088.0,1088.0,1088.0,1088.0,1088.0,1088.0,1088.0,1088.0],[2732.0,2732.0,2732.0,2732.0,2732.0,2732.0,2732.0,2732.0,2732.0,2732.0],[2732.0,2732.0,2732.0,2732.0,2732.0,2732.0,2732.0,2732.0,2732.0,2732.0],[6862.0,6862.0,6862.0,6862.0,6862.0,6862.0,6862.0,6862.0,6862.0,6862.0],[6862.0,6862.0,6862.0,6862.0,6862.0,6862.0,6862.0,6862.0,6862.0,6862.0],[17235.0,17235.0,17235.0,17235.0,17235.0,17235.0,17235.0,17235.0,17235.0,17235.0],[17235.0,17235.0,17235.0,17235.0,17235.0,17235.0,17235.0,17235.0,17235.0,17235.0]],\"y\":[[0.716892660630495,0.7192805618570383,0.7211904666488743,0.7185503387895616,0.7225221764246001,0.7203289856366688,0.7213293463579212,0.7211597693057854,0.7200689663429899,0.7184372261597043],[0.2842908101372165,0.2877018129649017,0.28481875113832794,0.28521067056467486,0.2855554351733584,0.2855164213176345,0.2855766296499296,0.2867932299332051,0.2837598907404316,0.2852786382837097],[0.8017865905214857,0.8046514530683343,0.8055819404612042,0.8056679066498728,0.8081949355921693,0.8046259181992821,0.808746799935293,0.8073173455178995,0.8043601630172643,0.8040107259031289],[0.3937712852029139,0.3954751741764419,0.39498994869690124,0.3946107239438221,0.39322231806933794,0.39425769514646447,0.39473747322113406,0.39562115880535936,0.3928286528844927,0.39328291610173344],[0.8662236392507131,0.8703306421163571,0.8693919599369259,0.8683809129444915,0.8695715391103983,0.8659324057971527,0.8688222394443309,0.8693370809352552,0.8649236882003685,0.8682430872245527],[0.49087873965709333,0.491317751659061,0.4910619561918841,0.4916090442316249,0.4916094863260407,0.4917432057540164,0.49103077098323195,0.49065680461456757,0.4892940677454531,0.4901446118120786],[0.9427881271354385,0.9459128910535239,0.9474005391293858,0.9474151882660609,0.946848310628144,0.946456234922154,0.9471185107523695,0.9467413912945468,0.9444976053550412,0.9436703687301443],[0.68597695412329,0.685406182505612,0.6880421095569149,0.6877465728830423,0.6867544898476309,0.6884437688041259,0.6874374348744168,0.6885317033355067,0.6856816710735466,0.6848182225371022],[0.9931777278867979,0.9952047262681374,0.9971825740669058,0.9952372076806363,0.9953429495155965,0.9960393351791201,0.9993398994509402,0.994774322967077,0.9930290785356607,0.9928037095928193],[0.9635469962316954,0.9633251082552773,0.9671304785610894,0.9651323568018466,0.9638850579867899,0.9640223109257814,0.9663244791123784,0.9646725893139658,0.9612803042337482,0.962729476444869]],\"type\":\"scatter\",\"xaxis\":\"x\",\"yaxis\":\"y\"},{\"line\":{\"color\":\"firebrick\"},\"mode\":\"lines\",\"name\":\"Fitted curve (angle = 142)\",\"showlegend\":false,\"x\":[[100.0,100.0,0.0,0.0,0.0,0.0,0.0,0.0,0.0,0.0],[221.5,221.5,0.0,0.0,0.0,0.0,0.0,0.0,0.0,0.0],[343.0,343.0,0.0,0.0,0.0,0.0,0.0,0.0,0.0,0.0],[443.0,443.0,0.0,0.0,0.0,0.0,0.0,0.0,0.0,0.0],[543.0,543.0,0.0,0.0,0.0,0.0,0.0,0.0,0.0,0.0],[765.5,765.5,0.0,0.0,0.0,0.0,0.0,0.0,0.0,0.0],[988.0,988.0,0.0,0.0,0.0,0.0,0.0,0.0,0.0,0.0],[1088.0,1088.0,0.0,0.0,0.0,0.0,0.0,0.0,0.0,0.0],[1188.0,1188.0,0.0,0.0,0.0,0.0,0.0,0.0,0.0,0.0],[1910.0,1910.0,0.0,0.0,0.0,0.0,0.0,0.0,0.0,0.0],[2632.0,2632.0,0.0,0.0,0.0,0.0,0.0,0.0,0.0,0.0],[2732.0,2732.0,0.0,0.0,0.0,0.0,0.0,0.0,0.0,0.0],[2832.0,2832.0,0.0,0.0,0.0,0.0,0.0,0.0,0.0,0.0],[4797.0,4797.0,0.0,0.0,0.0,0.0,0.0,0.0,0.0,0.0],[6762.0,6762.0,0.0,0.0,0.0,0.0,0.0,0.0,0.0,0.0],[6862.0,6862.0,0.0,0.0,0.0,0.0,0.0,0.0,0.0,0.0],[6962.0,6962.0,0.0,0.0,0.0,0.0,0.0,0.0,0.0,0.0],[12048.5,12048.5,0.0,0.0,0.0,0.0,0.0,0.0,0.0,0.0],[17135.0,17135.0,0.0,0.0,0.0,0.0,0.0,0.0,0.0,0.0],[17235.0,17235.0,0.0,0.0,0.0,0.0,0.0,0.0,0.0,0.0],[17335.0,17335.0,0.0,0.0,0.0,0.0,0.0,0.0,0.0,0.0],[18235.0,18235.0,0.0,0.0,0.0,0.0,0.0,0.0,0.0,0.0]],\"y\":[[0.008910344031055197,0.008910344031055197,0.008910344031055197,0.008910344031055197,0.008910344031055197,0.008910344031055197,0.008910344031055197,0.008910344031055197,0.008910344031055197,0.008910344031055197],[0.39952474773930297,0.39952474773930297,0.39952474773930297,0.39952474773930297,0.39952474773930297,0.39952474773930297,0.39952474773930297,0.39952474773930297,0.39952474773930297,0.39952474773930297],[0.740923989425739,0.740923989425739,0.740923989425739,0.740923989425739,0.740923989425739,0.740923989425739,0.740923989425739,0.740923989425739,0.740923989425739,0.740923989425739],[0.8142956636422287,0.8142956636422287,0.8142956636422287,0.8142956636422287,0.8142956636422287,0.8142956636422287,0.8142956636422287,0.8142956636422287,0.8142956636422287,0.8142956636422287],[0.8534032633603176,0.8534032633603176,0.8534032633603176,0.8534032633603176,0.8534032633603176,0.8534032633603176,0.8534032633603176,0.8534032633603176,0.8534032633603176,0.8534032633603176],[0.8938425779022299,0.8938425779022299,0.8938425779022299,0.8938425779022299,0.8938425779022299,0.8938425779022299,0.8938425779022299,0.8938425779022299,0.8938425779022299,0.8938425779022299],[0.9108822333560113,0.9108822333560113,0.9108822333560113,0.9108822333560113,0.9108822333560113,0.9108822333560113,0.9108822333560113,0.9108822333560113,0.9108822333560113,0.9108822333560113],[0.9154619835076695,0.9154619835076695,0.9154619835076695,0.9154619835076695,0.9154619835076695,0.9154619835076695,0.9154619835076695,0.9154619835076695,0.9154619835076695,0.9154619835076695],[0.9189795352448057,0.9189795352448057,0.9189795352448057,0.9189795352448057,0.9189795352448057,0.9189795352448057,0.9189795352448057,0.9189795352448057,0.9189795352448057,0.9189795352448057],[0.930861059467747,0.930861059467747,0.930861059467747,0.930861059467747,0.930861059467747,0.930861059467747,0.930861059467747,0.930861059467747,0.930861059467747,0.930861059467747],[0.935383995099634,0.935383995099634,0.935383995099634,0.935383995099634,0.935383995099634,0.935383995099634,0.935383995099634,0.935383995099634,0.935383995099634,0.935383995099634],[0.9358418686741232,0.9358418686741232,0.9358418686741232,0.9358418686741232,0.9358418686741232,0.9358418686741232,0.9358418686741232,0.9358418686741232,0.9358418686741232,0.9358418686741232],[0.936278190920552,0.936278190920552,0.936278190920552,0.936278190920552,0.936278190920552,0.936278190920552,0.936278190920552,0.936278190920552,0.936278190920552,0.936278190920552],[0.9432424515815226,0.9432424515815226,0.9432424515815226,0.9432424515815226,0.9432424515815226,0.9432424515815226,0.9432424515815226,0.9432424515815226,0.9432424515815226,0.9432424515815226],[0.9498507701989616,0.9498507701989616,0.9498507701989616,0.9498507701989616,0.9498507701989616,0.9498507701989616,0.9498507701989616,0.9498507701989616,0.9498507701989616,0.9498507701989616],[0.9501885105307016,0.9501885105307016,0.9501885105307016,0.9501885105307016,0.9501885105307016,0.9501885105307016,0.9501885105307016,0.9501885105307016,0.9501885105307016,0.9501885105307016],[0.9505260372756262,0.9505260372756262,0.9505260372756262,0.9505260372756262,0.9505260372756262,0.9505260372756262,0.9505260372756262,0.9505260372756262,0.9505260372756262,0.9505260372756262],[0.966233470187302,0.966233470187302,0.966233470187302,0.966233470187302,0.966233470187302,0.966233470187302,0.966233470187302,0.966233470187302,0.966233470187302,0.966233470187302],[0.9772410312632481,0.9772410312632481,0.9772410312632481,0.9772410312632481,0.9772410312632481,0.9772410312632481,0.9772410312632481,0.9772410312632481,0.9772410312632481,0.9772410312632481],[0.977411396560667,0.977411396560667,0.977411396560667,0.977411396560667,0.977411396560667,0.977411396560667,0.977411396560667,0.977411396560667,0.977411396560667,0.977411396560667],[0.9775801939466913,0.9775801939466913,0.9775801939466913,0.9775801939466913,0.9775801939466913,0.9775801939466913,0.9775801939466913,0.9775801939466913,0.9775801939466913,0.9775801939466913],[0.9790311277326633,0.9790311277326633,0.9790311277326633,0.9790311277326633,0.9790311277326633,0.9790311277326633,0.9790311277326633,0.9790311277326633,0.9790311277326633,0.9790311277326633]],\"type\":\"scatter\",\"xaxis\":\"x2\",\"yaxis\":\"y2\"},{\"line\":{\"color\":\"royalblue\"},\"mode\":\"lines\",\"name\":\"Fitted curve (angle = 426)\",\"showlegend\":false,\"x\":[[100.0,100.0,0.0,0.0,0.0,0.0,0.0,0.0,0.0,0.0],[221.5,221.5,0.0,0.0,0.0,0.0,0.0,0.0,0.0,0.0],[343.0,343.0,0.0,0.0,0.0,0.0,0.0,0.0,0.0,0.0],[443.0,443.0,0.0,0.0,0.0,0.0,0.0,0.0,0.0,0.0],[543.0,543.0,0.0,0.0,0.0,0.0,0.0,0.0,0.0,0.0],[765.5,765.5,0.0,0.0,0.0,0.0,0.0,0.0,0.0,0.0],[988.0,988.0,0.0,0.0,0.0,0.0,0.0,0.0,0.0,0.0],[1088.0,1088.0,0.0,0.0,0.0,0.0,0.0,0.0,0.0,0.0],[1188.0,1188.0,0.0,0.0,0.0,0.0,0.0,0.0,0.0,0.0],[1910.0,1910.0,0.0,0.0,0.0,0.0,0.0,0.0,0.0,0.0],[2632.0,2632.0,0.0,0.0,0.0,0.0,0.0,0.0,0.0,0.0],[2732.0,2732.0,0.0,0.0,0.0,0.0,0.0,0.0,0.0,0.0],[2832.0,2832.0,0.0,0.0,0.0,0.0,0.0,0.0,0.0,0.0],[4797.0,4797.0,0.0,0.0,0.0,0.0,0.0,0.0,0.0,0.0],[6762.0,6762.0,0.0,0.0,0.0,0.0,0.0,0.0,0.0,0.0],[6862.0,6862.0,0.0,0.0,0.0,0.0,0.0,0.0,0.0,0.0],[6962.0,6962.0,0.0,0.0,0.0,0.0,0.0,0.0,0.0,0.0],[12048.5,12048.5,0.0,0.0,0.0,0.0,0.0,0.0,0.0,0.0],[17135.0,17135.0,0.0,0.0,0.0,0.0,0.0,0.0,0.0,0.0],[17235.0,17235.0,0.0,0.0,0.0,0.0,0.0,0.0,0.0,0.0],[17335.0,17335.0,0.0,0.0,0.0,0.0,0.0,0.0,0.0,0.0],[18235.0,18235.0,0.0,0.0,0.0,0.0,0.0,0.0,0.0,0.0]],\"y\":[[0.022067980270933187,0.022067980270933187,0.022067980270933187,0.022067980270933187,0.022067980270933187,0.022067980270933187,0.022067980270933187,0.022067980270933187,0.022067980270933187,0.022067980270933187],[0.0886303119319465,0.0886303119319465,0.0886303119319465,0.0886303119319465,0.0886303119319465,0.0886303119319465,0.0886303119319465,0.0886303119319465,0.0886303119319465,0.0886303119319465],[0.3011169779924676,0.3011169779924676,0.3011169779924676,0.3011169779924676,0.3011169779924676,0.3011169779924676,0.3011169779924676,0.3011169779924676,0.3011169779924676,0.3011169779924676],[0.3804698007800068,0.3804698007800068,0.3804698007800068,0.3804698007800068,0.3804698007800068,0.3804698007800068,0.3804698007800068,0.3804698007800068,0.3804698007800068,0.3804698007800068],[0.43237455488484927,0.43237455488484927,0.43237455488484927,0.43237455488484927,0.43237455488484927,0.43237455488484927,0.43237455488484927,0.43237455488484927,0.43237455488484927,0.43237455488484927],[0.511817896412041,0.511817896412041,0.511817896412041,0.511817896412041,0.511817896412041,0.511817896412041,0.511817896412041,0.511817896412041,0.511817896412041,0.511817896412041],[0.5582334701217915,0.5582334701217915,0.5582334701217915,0.5582334701217915,0.5582334701217915,0.5582334701217915,0.5582334701217915,0.5582334701217915,0.5582334701217915,0.5582334701217915],[0.5725978048037554,0.5725978048037554,0.5725978048037554,0.5725978048037554,0.5725978048037554,0.5725978048037554,0.5725978048037554,0.5725978048037554,0.5725978048037554,0.5725978048037554],[0.5842341057169589,0.5842341057169589,0.5842341057169589,0.5842341057169589,0.5842341057169589,0.5842341057169589,0.5842341057169589,0.5842341057169589,0.5842341057169589,0.5842341057169589],[0.6277815936465256,0.6277815936465256,0.6277815936465256,0.6277815936465256,0.6277815936465256,0.6277815936465256,0.6277815936465256,0.6277815936465256,0.6277815936465256,0.6277815936465256],[0.6455427974656768,0.6455427974656768,0.6455427974656768,0.6455427974656768,0.6455427974656768,0.6455427974656768,0.6455427974656768,0.6455427974656768,0.6455427974656768,0.6455427974656768],[0.6473279301391167,0.6473279301391167,0.6473279301391167,0.6473279301391167,0.6473279301391167,0.6473279301391167,0.6473279301391167,0.6473279301391167,0.6473279301391167,0.6473279301391167],[0.6490216993769391,0.6490216993769391,0.6490216993769391,0.6490216993769391,0.6490216993769391,0.6490216993769391,0.6490216993769391,0.6490216993769391,0.6490216993769391,0.6490216993769391],[0.6753716128768255,0.6753716128768255,0.6753716128768255,0.6753716128768255,0.6753716128768255,0.6753716128768255,0.6753716128768255,0.6753716128768255,0.6753716128768255,0.6753716128768255],[0.7008953692877322,0.7008953692877322,0.7008953692877322,0.7008953692877322,0.7008953692877322,0.7008953692877322,0.7008953692877322,0.7008953692877322,0.7008953692877322,0.7008953692877322],[0.7022458542897784,0.7022458542897784,0.7022458542897784,0.7022458542897784,0.7022458542897784,0.7022458542897784,0.7022458542897784,0.7022458542897784,0.7022458542897784,0.7022458542897784],[0.7036008103410345,0.7036008103410345,0.7036008103410345,0.7036008103410345,0.7036008103410345,0.7036008103410345,0.7036008103410345,0.7036008103410345,0.7036008103410345,0.7036008103410345],[0.7738260053701282,0.7738260053701282,0.7738260053701282,0.7738260053701282,0.7738260053701282,0.7738260053701282,0.7738260053701282,0.7738260053701282,0.7738260053701282,0.7738260053701282],[0.833704071158692,0.833704071158692,0.833704071158692,0.833704071158692,0.833704071158692,0.833704071158692,0.833704071158692,0.833704071158692,0.833704071158692,0.833704071158692],[0.8347162429063602,0.8347162429063602,0.8347162429063602,0.8347162429063602,0.8347162429063602,0.8347162429063602,0.8347162429063602,0.8347162429063602,0.8347162429063602,0.8347162429063602],[0.8357219201412154,0.8357219201412154,0.8357219201412154,0.8357219201412154,0.8357219201412154,0.8357219201412154,0.8357219201412154,0.8357219201412154,0.8357219201412154,0.8357219201412154],[0.8444837014327558,0.8444837014327558,0.8444837014327558,0.8444837014327558,0.8444837014327558,0.8444837014327558,0.8444837014327558,0.8444837014327558,0.8444837014327558,0.8444837014327558]],\"type\":\"scatter\",\"xaxis\":\"x2\",\"yaxis\":\"y2\"},{\"line\":{\"color\":\"darkslategray\"},\"mode\":\"markers\",\"name\":\"Raw data\",\"showlegend\":false,\"x\":[[443.0,443.0,443.0,443.0,443.0,443.0,443.0,443.0,443.0,443.0],[443.0,443.0,443.0,443.0,443.0,443.0,443.0,443.0,443.0,443.0],[1088.0,1088.0,1088.0,1088.0,1088.0,1088.0,1088.0,1088.0,1088.0,1088.0],[1088.0,1088.0,1088.0,1088.0,1088.0,1088.0,1088.0,1088.0,1088.0,1088.0],[2732.0,2732.0,2732.0,2732.0,2732.0,2732.0,2732.0,2732.0,2732.0,2732.0],[2732.0,2732.0,2732.0,2732.0,2732.0,2732.0,2732.0,2732.0,2732.0,2732.0],[6862.0,6862.0,6862.0,6862.0,6862.0,6862.0,6862.0,6862.0,6862.0,6862.0],[6862.0,6862.0,6862.0,6862.0,6862.0,6862.0,6862.0,6862.0,6862.0,6862.0],[17235.0,17235.0,17235.0,17235.0,17235.0,17235.0,17235.0,17235.0,17235.0,17235.0],[17235.0,17235.0,17235.0,17235.0,17235.0,17235.0,17235.0,17235.0,17235.0,17235.0]],\"y\":[[0.814406856442155,0.8144587218675607,0.814739706023034,0.8156007871643267,0.8141392492496606,0.8143072498885852,0.8140252033393153,0.8131632147025697,0.8158902459254971,0.8131278106344564],[0.38157714512016966,0.3799997842155066,0.38127925993684986,0.3810731625587459,0.3798025469937012,0.3800222518169744,0.3801297693569311,0.3801500213173376,0.38078417390075087,0.38041173921903954],[0.9140033439013611,0.9118170775093608,0.916204339734921,0.9176026172904547,0.9144597535592066,0.9158599592701712,0.9158908067190173,0.9166390652034454,0.9163596941533888,0.9135532607236145],[0.5713654135779482,0.5712554465691141,0.5732070988076313,0.5741179219018512,0.5708243509130542,0.5733627961712839,0.5720345240357089,0.5727539819162715,0.5725258393293285,0.5721649271664665],[0.9362724483428599,0.9341101501740927,0.9366067562128658,0.9367370092934492,0.9346022649723149,0.9368741511861984,0.9366947621770054,0.9340059714832998,0.9371940972169484,0.9350487092783779],[0.6461445531521959,0.6481879518042982,0.6477745501648373,0.6484988883445363,0.648901599575252,0.6476468749367108,0.6474787346933769,0.6450331891795923,0.6456442408259396,0.6453151108069212],[0.9502242924663723,0.9485691224671795,0.9521683343177307,0.9506269409743442,0.9501480684423536,0.9509716249975334,0.9498146734134217,0.9500822628457419,0.9492789313296475,0.9476442773801443],[0.7026645995757915,0.7022206163009317,0.7020428524415115,0.7027952565100508,0.7016318103201166,0.7033989852654673,0.7034809893472577,0.7025691027711441,0.7031494996698072,0.6990038656328091],[0.9763400931912468,0.9748787015522036,0.9781733653982304,0.9794674391223007,0.9792087367421831,0.979258028221583,0.9761438690233275,0.9773043094931175,0.9790103025466438,0.9728168361607287],[0.8330286871093086,0.8324514458552448,0.8351952467899054,0.836332594038374,0.8358486147423992,0.8358638372326427,0.8351887113257708,0.834497551498678,0.8370533199689743,0.8327395963420098]],\"type\":\"scatter\",\"xaxis\":\"x2\",\"yaxis\":\"y2\"},{\"line\":{\"color\":\"firebrick\"},\"mode\":\"lines\",\"name\":\"Fitted curve (angle = 142)\",\"showlegend\":false,\"x\":[[100.0,100.0,0.0,0.0,0.0,0.0,0.0,0.0,0.0,0.0],[221.5,221.5,0.0,0.0,0.0,0.0,0.0,0.0,0.0,0.0],[343.0,343.0,0.0,0.0,0.0,0.0,0.0,0.0,0.0,0.0],[443.0,443.0,0.0,0.0,0.0,0.0,0.0,0.0,0.0,0.0],[543.0,543.0,0.0,0.0,0.0,0.0,0.0,0.0,0.0,0.0],[765.5,765.5,0.0,0.0,0.0,0.0,0.0,0.0,0.0,0.0],[988.0,988.0,0.0,0.0,0.0,0.0,0.0,0.0,0.0,0.0],[1088.0,1088.0,0.0,0.0,0.0,0.0,0.0,0.0,0.0,0.0],[1188.0,1188.0,0.0,0.0,0.0,0.0,0.0,0.0,0.0,0.0],[1910.0,1910.0,0.0,0.0,0.0,0.0,0.0,0.0,0.0,0.0],[2632.0,2632.0,0.0,0.0,0.0,0.0,0.0,0.0,0.0,0.0],[2732.0,2732.0,0.0,0.0,0.0,0.0,0.0,0.0,0.0,0.0],[2832.0,2832.0,0.0,0.0,0.0,0.0,0.0,0.0,0.0,0.0],[4797.0,4797.0,0.0,0.0,0.0,0.0,0.0,0.0,0.0,0.0],[6762.0,6762.0,0.0,0.0,0.0,0.0,0.0,0.0,0.0,0.0],[6862.0,6862.0,0.0,0.0,0.0,0.0,0.0,0.0,0.0,0.0],[6962.0,6962.0,0.0,0.0,0.0,0.0,0.0,0.0,0.0,0.0],[12048.5,12048.5,0.0,0.0,0.0,0.0,0.0,0.0,0.0,0.0],[17135.0,17135.0,0.0,0.0,0.0,0.0,0.0,0.0,0.0,0.0],[17235.0,17235.0,0.0,0.0,0.0,0.0,0.0,0.0,0.0,0.0],[17335.0,17335.0,0.0,0.0,0.0,0.0,0.0,0.0,0.0,0.0],[18235.0,18235.0,0.0,0.0,0.0,0.0,0.0,0.0,0.0,0.0]],\"y\":[[0.008900218837712465,0.008900218837712465,0.008900218837712465,0.008900218837712465,0.008900218837712465,0.008900218837712465,0.008900218837712465,0.008900218837712465,0.008900218837712465,0.008900218837712465],[0.3966393458303231,0.3966393458303231,0.3966393458303231,0.3966393458303231,0.3966393458303231,0.3966393458303231,0.3966393458303231,0.3966393458303231,0.3966393458303231,0.3966393458303231],[0.7316707736604603,0.7316707736604603,0.7316707736604603,0.7316707736604603,0.7316707736604603,0.7316707736604603,0.7316707736604603,0.7316707736604603,0.7316707736604603,0.7316707736604603],[0.8032026284464534,0.8032026284464534,0.8032026284464534,0.8032026284464534,0.8032026284464534,0.8032026284464534,0.8032026284464534,0.8032026284464534,0.8032026284464534,0.8032026284464534],[0.8412551420163545,0.8412551420163545,0.8412551420163545,0.8412551420163545,0.8412551420163545,0.8412551420163545,0.8412551420163545,0.8412551420163545,0.8412551420163545,0.8412551420163545],[0.8805282783628192,0.8805282783628192,0.8805282783628192,0.8805282783628192,0.8805282783628192,0.8805282783628192,0.8805282783628192,0.8805282783628192,0.8805282783628192,0.8805282783628192],[0.8970244273018919,0.8970244273018919,0.8970244273018919,0.8970244273018919,0.8970244273018919,0.8970244273018919,0.8970244273018919,0.8970244273018919,0.8970244273018919,0.8970244273018919],[0.9014424299621312,0.9014424299621312,0.9014424299621312,0.9014424299621312,0.9014424299621312,0.9014424299621312,0.9014424299621312,0.9014424299621312,0.9014424299621312,0.9014424299621312],[0.9048260243125209,0.9048260243125209,0.9048260243125209,0.9048260243125209,0.9048260243125209,0.9048260243125209,0.9048260243125209,0.9048260243125209,0.9048260243125209,0.9048260243125209],[0.9160597309029939,0.9160597309029939,0.9160597309029939,0.9160597309029939,0.9160597309029939,0.9160597309029939,0.9160597309029939,0.9160597309029939,0.9160597309029939,0.9160597309029939],[0.9200437992083288,0.9200437992083288,0.9200437992083288,0.9200437992083288,0.9200437992083288,0.9200437992083288,0.9200437992083288,0.9200437992083288,0.9200437992083288,0.9200437992083288],[0.9204254668206429,0.9204254668206429,0.9204254668206429,0.9204254668206429,0.9204254668206429,0.9204254668206429,0.9204254668206429,0.9204254668206429,0.9204254668206429,0.9204254668206429],[0.9207849264992746,0.9207849264992746,0.9207849264992746,0.9207849264992746,0.9207849264992746,0.9207849264992746,0.9207849264992746,0.9207849264992746,0.9207849264992746,0.9207849264992746],[0.9261801755219778,0.9261801755219778,0.9261801755219778,0.9261801755219778,0.9261801755219778,0.9261801755219778,0.9261801755219778,0.9261801755219778,0.9261801755219778,0.9261801755219778],[0.9315674579377615,0.9315674579377615,0.9315674579377615,0.9315674579377615,0.9315674579377615,0.9315674579377615,0.9315674579377615,0.9315674579377615,0.9315674579377615,0.9315674579377615],[0.9318645511215865,0.9318645511215865,0.9318645511215865,0.9318645511215865,0.9318645511215865,0.9318645511215865,0.9318645511215865,0.9318645511215865,0.9318645511215865,0.9318645511215865],[0.9321640143685208,0.9321640143685208,0.9321640143685208,0.9321640143685208,0.9321640143685208,0.9321640143685208,0.9321640143685208,0.9321640143685208,0.9321640143685208,0.9321640143685208],[0.9498857295611761,0.9498857295611761,0.9498857295611761,0.9498857295611761,0.9498857295611761,0.9498857295611761,0.9498857295611761,0.9498857295611761,0.9498857295611761,0.9498857295611761],[0.9686993523130479,0.9686993523130479,0.9686993523130479,0.9686993523130479,0.9686993523130479,0.9686993523130479,0.9686993523130479,0.9686993523130479,0.9686993523130479,0.9686993523130479],[0.9690421393014385,0.9690421393014385,0.9690421393014385,0.9690421393014385,0.9690421393014385,0.9690421393014385,0.9690421393014385,0.9690421393014385,0.9690421393014385,0.9690421393014385],[0.9693832728482424,0.9693832728482424,0.9693832728482424,0.9693832728482424,0.9693832728482424,0.9693832728482424,0.9693832728482424,0.9693832728482424,0.9693832728482424,0.9693832728482424],[0.972374885054667,0.972374885054667,0.972374885054667,0.972374885054667,0.972374885054667,0.972374885054667,0.972374885054667,0.972374885054667,0.972374885054667,0.972374885054667]],\"type\":\"scatter\",\"xaxis\":\"x3\",\"yaxis\":\"y3\"},{\"line\":{\"color\":\"royalblue\"},\"mode\":\"lines\",\"name\":\"Fitted curve (angle = 426)\",\"showlegend\":false,\"x\":[[100.0,100.0,0.0,0.0,0.0,0.0,0.0,0.0,0.0,0.0],[221.5,221.5,0.0,0.0,0.0,0.0,0.0,0.0,0.0,0.0],[343.0,343.0,0.0,0.0,0.0,0.0,0.0,0.0,0.0,0.0],[443.0,443.0,0.0,0.0,0.0,0.0,0.0,0.0,0.0,0.0],[543.0,543.0,0.0,0.0,0.0,0.0,0.0,0.0,0.0,0.0],[765.5,765.5,0.0,0.0,0.0,0.0,0.0,0.0,0.0,0.0],[988.0,988.0,0.0,0.0,0.0,0.0,0.0,0.0,0.0,0.0],[1088.0,1088.0,0.0,0.0,0.0,0.0,0.0,0.0,0.0,0.0],[1188.0,1188.0,0.0,0.0,0.0,0.0,0.0,0.0,0.0,0.0],[1910.0,1910.0,0.0,0.0,0.0,0.0,0.0,0.0,0.0,0.0],[2632.0,2632.0,0.0,0.0,0.0,0.0,0.0,0.0,0.0,0.0],[2732.0,2732.0,0.0,0.0,0.0,0.0,0.0,0.0,0.0,0.0],[2832.0,2832.0,0.0,0.0,0.0,0.0,0.0,0.0,0.0,0.0],[4797.0,4797.0,0.0,0.0,0.0,0.0,0.0,0.0,0.0,0.0],[6762.0,6762.0,0.0,0.0,0.0,0.0,0.0,0.0,0.0,0.0],[6862.0,6862.0,0.0,0.0,0.0,0.0,0.0,0.0,0.0,0.0],[6962.0,6962.0,0.0,0.0,0.0,0.0,0.0,0.0,0.0,0.0],[12048.5,12048.5,0.0,0.0,0.0,0.0,0.0,0.0,0.0,0.0],[17135.0,17135.0,0.0,0.0,0.0,0.0,0.0,0.0,0.0,0.0],[17235.0,17235.0,0.0,0.0,0.0,0.0,0.0,0.0,0.0,0.0],[17335.0,17335.0,0.0,0.0,0.0,0.0,0.0,0.0,0.0,0.0],[18235.0,18235.0,0.0,0.0,0.0,0.0,0.0,0.0,0.0,0.0]],\"y\":[[0.021879751048764405,0.021879751048764405,0.021879751048764405,0.021879751048764405,0.021879751048764405,0.021879751048764405,0.021879751048764405,0.021879751048764405,0.021879751048764405,0.021879751048764405],[0.08729472168293215,0.08729472168293215,0.08729472168293215,0.08729472168293215,0.08729472168293215,0.08729472168293215,0.08729472168293215,0.08729472168293215,0.08729472168293215,0.08729472168293215],[0.29045862600728856,0.29045862600728856,0.29045862600728856,0.29045862600728856,0.29045862600728856,0.29045862600728856,0.29045862600728856,0.29045862600728856,0.29045862600728856,0.29045862600728856],[0.36418319505413593,0.36418319505413593,0.36418319505413593,0.36418319505413593,0.36418319505413593,0.36418319505413593,0.36418319505413593,0.36418319505413593,0.36418319505413593,0.36418319505413593],[0.4117830684431007,0.4117830684431007,0.4117830684431007,0.4117830684431007,0.4117830684431007,0.4117830684431007,0.4117830684431007,0.4117830684431007,0.4117830684431007,0.4117830684431007],[0.4836638278053209,0.4836638278053209,0.4836638278053209,0.4836638278053209,0.4836638278053209,0.4836638278053209,0.4836638278053209,0.4836638278053209,0.4836638278053209,0.4836638278053209],[0.5250582312474835,0.5250582312474835,0.5250582312474835,0.5250582312474835,0.5250582312474835,0.5250582312474835,0.5250582312474835,0.5250582312474835,0.5250582312474835,0.5250582312474835],[0.5377546158995306,0.5377546158995306,0.5377546158995306,0.5377546158995306,0.5377546158995306,0.5377546158995306,0.5377546158995306,0.5377546158995306,0.5377546158995306,0.5377546158995306],[0.5479870089661866,0.5479870089661866,0.5479870089661866,0.5479870089661866,0.5479870089661866,0.5479870089661866,0.5479870089661866,0.5479870089661866,0.5479870089661866,0.5479870089661866],[0.585457779750473,0.585457779750473,0.585457779750473,0.585457779750473,0.585457779750473,0.585457779750473,0.585457779750473,0.585457779750473,0.585457779750473,0.585457779750473],[0.5996460087568634,0.5996460087568634,0.5996460087568634,0.5996460087568634,0.5996460087568634,0.5996460087568634,0.5996460087568634,0.5996460087568634,0.5996460087568634,0.5996460087568634],[0.6009878333997619,0.6009878333997619,0.6009878333997619,0.6009878333997619,0.6009878333997619,0.6009878333997619,0.6009878333997619,0.6009878333997619,0.6009878333997619,0.6009878333997619],[0.6022430841335383,0.6022430841335383,0.6022430841335383,0.6022430841335383,0.6022430841335383,0.6022430841335383,0.6022430841335383,0.6022430841335383,0.6022430841335383,0.6022430841335383],[0.6199597089724157,0.6199597089724157,0.6199597089724157,0.6199597089724157,0.6199597089724157,0.6199597089724157,0.6199597089724157,0.6199597089724157,0.6199597089724157,0.6199597089724157],[0.6368723241165033,0.6368723241165033,0.6368723241165033,0.6368723241165033,0.6368723241165033,0.6368723241165033,0.6368723241165033,0.6368723241165033,0.6368723241165033,0.6368723241165033],[0.637818528062186,0.637818528062186,0.637818528062186,0.637818528062186,0.637818528062186,0.637818528062186,0.637818528062186,0.637818528062186,0.637818528062186,0.637818528062186],[0.6387746622721134,0.6387746622721134,0.6387746622721134,0.6387746622721134,0.6387746622721134,0.6387746622721134,0.6387746622721134,0.6387746622721134,0.6387746622721134,0.6387746622721134],[0.7014564646968556,0.7014564646968556,0.7014564646968556,0.7014564646968556,0.7014564646968556,0.7014564646968556,0.7014564646968556,0.7014564646968556,0.7014564646968556,0.7014564646968556],[0.7864177801942828,0.7864177801942828,0.7864177801942828,0.7864177801942828,0.7864177801942828,0.7864177801942828,0.7864177801942828,0.7864177801942828,0.7864177801942828,0.7864177801942828],[0.7881953984176874,0.7881953984176874,0.7881953984176874,0.7881953984176874,0.7881953984176874,0.7881953984176874,0.7881953984176874,0.7881953984176874,0.7881953984176874,0.7881953984176874],[0.7899738532849225,0.7899738532849225,0.7899738532849225,0.7899738532849225,0.7899738532849225,0.7899738532849225,0.7899738532849225,0.7899738532849225,0.7899738532849225,0.7899738532849225],[0.8059839633054416,0.8059839633054416,0.8059839633054416,0.8059839633054416,0.8059839633054416,0.8059839633054416,0.8059839633054416,0.8059839633054416,0.8059839633054416,0.8059839633054416]],\"type\":\"scatter\",\"xaxis\":\"x3\",\"yaxis\":\"y3\"},{\"line\":{\"color\":\"darkslategray\"},\"mode\":\"markers\",\"name\":\"Raw data\",\"showlegend\":false,\"x\":[[443.0,443.0,443.0,443.0,443.0,443.0,443.0,443.0,443.0,443.0],[443.0,443.0,443.0,443.0,443.0,443.0,443.0,443.0,443.0,443.0],[1088.0,1088.0,1088.0,1088.0,1088.0,1088.0,1088.0,1088.0,1088.0,1088.0],[1088.0,1088.0,1088.0,1088.0,1088.0,1088.0,1088.0,1088.0,1088.0,1088.0],[2732.0,2732.0,2732.0,2732.0,2732.0,2732.0,2732.0,2732.0,2732.0,2732.0],[2732.0,2732.0,2732.0,2732.0,2732.0,2732.0,2732.0,2732.0,2732.0,2732.0],[6862.0,6862.0,6862.0,6862.0,6862.0,6862.0,6862.0,6862.0,6862.0,6862.0],[6862.0,6862.0,6862.0,6862.0,6862.0,6862.0,6862.0,6862.0,6862.0,6862.0],[17235.0,17235.0,17235.0,17235.0,17235.0,17235.0,17235.0,17235.0,17235.0,17235.0],[17235.0,17235.0,17235.0,17235.0,17235.0,17235.0,17235.0,17235.0,17235.0,17235.0]],\"y\":[[0.8026629207571213,0.8007493389494558,0.804315257621698,0.8025608807999964,0.8042036501054773,0.8037481485750225,0.8017613728158385,0.8039846479274637,0.8037603330920172,0.8020990012165478],[0.364451095328648,0.36480111591416997,0.36546336249162864,0.3657516046879219,0.36398087821256137,0.3658481487103874,0.3627089744106021,0.364070780839064,0.36492925528074316,0.36403136867797187],[0.901057199341219,0.899296836398757,0.9020909047119169,0.9027119091460666,0.9019900215233823,0.9022250804338691,0.9010363725900563,0.9023219680364857,0.9021830384637576,0.9008539254531203],[0.5384891337050048,0.534929675346901,0.538251225479239,0.5386678929594664,0.5374256456451084,0.5383216008087258,0.5378515993794998,0.5377709946871019,0.5384109729500199,0.5375958420479213],[0.9213468145575675,0.919067095354873,0.9196402482077873,0.9211645637023241,0.918939494368284,0.9207540762381551,0.9207235689772287,0.9205797504103708,0.9203705773608972,0.9202861303149984],[0.6013441310254722,0.5972957962980667,0.5991430456310034,0.6023725128409488,0.6009560035905195,0.6029366083403184,0.6018345420122916,0.6023618896223834,0.5997266522127542,0.6022578009554521],[0.932235060645979,0.9317064476672746,0.9307580880695848,0.9339948188874717,0.9319191235913296,0.9333110821195284,0.9302109470631285,0.9325263478043626,0.9331260337686839,0.9315965271641139],[0.6377510359753712,0.6373203826260087,0.6391177472624068,0.6382958505572616,0.6383326044732154,0.6379604043247128,0.6366754115060083,0.6388768476389817,0.6378619716774253,0.638378301753997],[0.9691882940799511,0.9669514313552483,0.9690487702325307,0.9701983051988978,0.9677203880909842,0.9694541647924794,0.9679344196457889,0.9700937503823288,0.9709416145737441,0.9692425730217782],[0.7880593016395517,0.787742212613876,0.7899649973671758,0.7907698581362935,0.788937869627274,0.7881335569813539,0.7882765682756862,0.7876935857026538,0.7892292828341505,0.7881656537463534]],\"type\":\"scatter\",\"xaxis\":\"x3\",\"yaxis\":\"y3\"}],                        {\"template\":{\"data\":{\"bar\":[{\"error_x\":{\"color\":\"#2a3f5f\"},\"error_y\":{\"color\":\"#2a3f5f\"},\"marker\":{\"line\":{\"color\":\"#E5ECF6\",\"width\":0.5},\"pattern\":{\"fillmode\":\"overlay\",\"size\":10,\"solidity\":0.2}},\"type\":\"bar\"}],\"barpolar\":[{\"marker\":{\"line\":{\"color\":\"#E5ECF6\",\"width\":0.5},\"pattern\":{\"fillmode\":\"overlay\",\"size\":10,\"solidity\":0.2}},\"type\":\"barpolar\"}],\"carpet\":[{\"aaxis\":{\"endlinecolor\":\"#2a3f5f\",\"gridcolor\":\"white\",\"linecolor\":\"white\",\"minorgridcolor\":\"white\",\"startlinecolor\":\"#2a3f5f\"},\"baxis\":{\"endlinecolor\":\"#2a3f5f\",\"gridcolor\":\"white\",\"linecolor\":\"white\",\"minorgridcolor\":\"white\",\"startlinecolor\":\"#2a3f5f\"},\"type\":\"carpet\"}],\"choropleth\":[{\"colorbar\":{\"outlinewidth\":0,\"ticks\":\"\"},\"type\":\"choropleth\"}],\"contour\":[{\"colorbar\":{\"outlinewidth\":0,\"ticks\":\"\"},\"colorscale\":[[0.0,\"#0d0887\"],[0.1111111111111111,\"#46039f\"],[0.2222222222222222,\"#7201a8\"],[0.3333333333333333,\"#9c179e\"],[0.4444444444444444,\"#bd3786\"],[0.5555555555555556,\"#d8576b\"],[0.6666666666666666,\"#ed7953\"],[0.7777777777777778,\"#fb9f3a\"],[0.8888888888888888,\"#fdca26\"],[1.0,\"#f0f921\"]],\"type\":\"contour\"}],\"contourcarpet\":[{\"colorbar\":{\"outlinewidth\":0,\"ticks\":\"\"},\"type\":\"contourcarpet\"}],\"heatmap\":[{\"colorbar\":{\"outlinewidth\":0,\"ticks\":\"\"},\"colorscale\":[[0.0,\"#0d0887\"],[0.1111111111111111,\"#46039f\"],[0.2222222222222222,\"#7201a8\"],[0.3333333333333333,\"#9c179e\"],[0.4444444444444444,\"#bd3786\"],[0.5555555555555556,\"#d8576b\"],[0.6666666666666666,\"#ed7953\"],[0.7777777777777778,\"#fb9f3a\"],[0.8888888888888888,\"#fdca26\"],[1.0,\"#f0f921\"]],\"type\":\"heatmap\"}],\"heatmapgl\":[{\"colorbar\":{\"outlinewidth\":0,\"ticks\":\"\"},\"colorscale\":[[0.0,\"#0d0887\"],[0.1111111111111111,\"#46039f\"],[0.2222222222222222,\"#7201a8\"],[0.3333333333333333,\"#9c179e\"],[0.4444444444444444,\"#bd3786\"],[0.5555555555555556,\"#d8576b\"],[0.6666666666666666,\"#ed7953\"],[0.7777777777777778,\"#fb9f3a\"],[0.8888888888888888,\"#fdca26\"],[1.0,\"#f0f921\"]],\"type\":\"heatmapgl\"}],\"histogram\":[{\"marker\":{\"pattern\":{\"fillmode\":\"overlay\",\"size\":10,\"solidity\":0.2}},\"type\":\"histogram\"}],\"histogram2d\":[{\"colorbar\":{\"outlinewidth\":0,\"ticks\":\"\"},\"colorscale\":[[0.0,\"#0d0887\"],[0.1111111111111111,\"#46039f\"],[0.2222222222222222,\"#7201a8\"],[0.3333333333333333,\"#9c179e\"],[0.4444444444444444,\"#bd3786\"],[0.5555555555555556,\"#d8576b\"],[0.6666666666666666,\"#ed7953\"],[0.7777777777777778,\"#fb9f3a\"],[0.8888888888888888,\"#fdca26\"],[1.0,\"#f0f921\"]],\"type\":\"histogram2d\"}],\"histogram2dcontour\":[{\"colorbar\":{\"outlinewidth\":0,\"ticks\":\"\"},\"colorscale\":[[0.0,\"#0d0887\"],[0.1111111111111111,\"#46039f\"],[0.2222222222222222,\"#7201a8\"],[0.3333333333333333,\"#9c179e\"],[0.4444444444444444,\"#bd3786\"],[0.5555555555555556,\"#d8576b\"],[0.6666666666666666,\"#ed7953\"],[0.7777777777777778,\"#fb9f3a\"],[0.8888888888888888,\"#fdca26\"],[1.0,\"#f0f921\"]],\"type\":\"histogram2dcontour\"}],\"mesh3d\":[{\"colorbar\":{\"outlinewidth\":0,\"ticks\":\"\"},\"type\":\"mesh3d\"}],\"parcoords\":[{\"line\":{\"colorbar\":{\"outlinewidth\":0,\"ticks\":\"\"}},\"type\":\"parcoords\"}],\"pie\":[{\"automargin\":true,\"type\":\"pie\"}],\"scatter\":[{\"marker\":{\"colorbar\":{\"outlinewidth\":0,\"ticks\":\"\"}},\"type\":\"scatter\"}],\"scatter3d\":[{\"line\":{\"colorbar\":{\"outlinewidth\":0,\"ticks\":\"\"}},\"marker\":{\"colorbar\":{\"outlinewidth\":0,\"ticks\":\"\"}},\"type\":\"scatter3d\"}],\"scattercarpet\":[{\"marker\":{\"colorbar\":{\"outlinewidth\":0,\"ticks\":\"\"}},\"type\":\"scattercarpet\"}],\"scattergeo\":[{\"marker\":{\"colorbar\":{\"outlinewidth\":0,\"ticks\":\"\"}},\"type\":\"scattergeo\"}],\"scattergl\":[{\"marker\":{\"colorbar\":{\"outlinewidth\":0,\"ticks\":\"\"}},\"type\":\"scattergl\"}],\"scattermapbox\":[{\"marker\":{\"colorbar\":{\"outlinewidth\":0,\"ticks\":\"\"}},\"type\":\"scattermapbox\"}],\"scatterpolar\":[{\"marker\":{\"colorbar\":{\"outlinewidth\":0,\"ticks\":\"\"}},\"type\":\"scatterpolar\"}],\"scatterpolargl\":[{\"marker\":{\"colorbar\":{\"outlinewidth\":0,\"ticks\":\"\"}},\"type\":\"scatterpolargl\"}],\"scatterternary\":[{\"marker\":{\"colorbar\":{\"outlinewidth\":0,\"ticks\":\"\"}},\"type\":\"scatterternary\"}],\"surface\":[{\"colorbar\":{\"outlinewidth\":0,\"ticks\":\"\"},\"colorscale\":[[0.0,\"#0d0887\"],[0.1111111111111111,\"#46039f\"],[0.2222222222222222,\"#7201a8\"],[0.3333333333333333,\"#9c179e\"],[0.4444444444444444,\"#bd3786\"],[0.5555555555555556,\"#d8576b\"],[0.6666666666666666,\"#ed7953\"],[0.7777777777777778,\"#fb9f3a\"],[0.8888888888888888,\"#fdca26\"],[1.0,\"#f0f921\"]],\"type\":\"surface\"}],\"table\":[{\"cells\":{\"fill\":{\"color\":\"#EBF0F8\"},\"line\":{\"color\":\"white\"}},\"header\":{\"fill\":{\"color\":\"#C8D4E3\"},\"line\":{\"color\":\"white\"}},\"type\":\"table\"}]},\"layout\":{\"annotationdefaults\":{\"arrowcolor\":\"#2a3f5f\",\"arrowhead\":0,\"arrowwidth\":1},\"autotypenumbers\":\"strict\",\"coloraxis\":{\"colorbar\":{\"outlinewidth\":0,\"ticks\":\"\"}},\"colorscale\":{\"diverging\":[[0,\"#8e0152\"],[0.1,\"#c51b7d\"],[0.2,\"#de77ae\"],[0.3,\"#f1b6da\"],[0.4,\"#fde0ef\"],[0.5,\"#f7f7f7\"],[0.6,\"#e6f5d0\"],[0.7,\"#b8e186\"],[0.8,\"#7fbc41\"],[0.9,\"#4d9221\"],[1,\"#276419\"]],\"sequential\":[[0.0,\"#0d0887\"],[0.1111111111111111,\"#46039f\"],[0.2222222222222222,\"#7201a8\"],[0.3333333333333333,\"#9c179e\"],[0.4444444444444444,\"#bd3786\"],[0.5555555555555556,\"#d8576b\"],[0.6666666666666666,\"#ed7953\"],[0.7777777777777778,\"#fb9f3a\"],[0.8888888888888888,\"#fdca26\"],[1.0,\"#f0f921\"]],\"sequentialminus\":[[0.0,\"#0d0887\"],[0.1111111111111111,\"#46039f\"],[0.2222222222222222,\"#7201a8\"],[0.3333333333333333,\"#9c179e\"],[0.4444444444444444,\"#bd3786\"],[0.5555555555555556,\"#d8576b\"],[0.6666666666666666,\"#ed7953\"],[0.7777777777777778,\"#fb9f3a\"],[0.8888888888888888,\"#fdca26\"],[1.0,\"#f0f921\"]]},\"colorway\":[\"#636efa\",\"#EF553B\",\"#00cc96\",\"#ab63fa\",\"#FFA15A\",\"#19d3f3\",\"#FF6692\",\"#B6E880\",\"#FF97FF\",\"#FECB52\"],\"font\":{\"color\":\"#2a3f5f\"},\"geo\":{\"bgcolor\":\"white\",\"lakecolor\":\"white\",\"landcolor\":\"#E5ECF6\",\"showlakes\":true,\"showland\":true,\"subunitcolor\":\"white\"},\"hoverlabel\":{\"align\":\"left\"},\"hovermode\":\"closest\",\"mapbox\":{\"style\":\"light\"},\"paper_bgcolor\":\"white\",\"plot_bgcolor\":\"#E5ECF6\",\"polar\":{\"angularaxis\":{\"gridcolor\":\"white\",\"linecolor\":\"white\",\"ticks\":\"\"},\"bgcolor\":\"#E5ECF6\",\"radialaxis\":{\"gridcolor\":\"white\",\"linecolor\":\"white\",\"ticks\":\"\"}},\"scene\":{\"xaxis\":{\"backgroundcolor\":\"#E5ECF6\",\"gridcolor\":\"white\",\"gridwidth\":2,\"linecolor\":\"white\",\"showbackground\":true,\"ticks\":\"\",\"zerolinecolor\":\"white\"},\"yaxis\":{\"backgroundcolor\":\"#E5ECF6\",\"gridcolor\":\"white\",\"gridwidth\":2,\"linecolor\":\"white\",\"showbackground\":true,\"ticks\":\"\",\"zerolinecolor\":\"white\"},\"zaxis\":{\"backgroundcolor\":\"#E5ECF6\",\"gridcolor\":\"white\",\"gridwidth\":2,\"linecolor\":\"white\",\"showbackground\":true,\"ticks\":\"\",\"zerolinecolor\":\"white\"}},\"shapedefaults\":{\"line\":{\"color\":\"#2a3f5f\"}},\"ternary\":{\"aaxis\":{\"gridcolor\":\"white\",\"linecolor\":\"white\",\"ticks\":\"\"},\"baxis\":{\"gridcolor\":\"white\",\"linecolor\":\"white\",\"ticks\":\"\"},\"bgcolor\":\"#E5ECF6\",\"caxis\":{\"gridcolor\":\"white\",\"linecolor\":\"white\",\"ticks\":\"\"}},\"title\":{\"x\":0.05},\"xaxis\":{\"automargin\":true,\"gridcolor\":\"white\",\"linecolor\":\"white\",\"ticks\":\"\",\"title\":{\"standoff\":15},\"zerolinecolor\":\"white\",\"zerolinewidth\":2},\"yaxis\":{\"automargin\":true,\"gridcolor\":\"white\",\"linecolor\":\"white\",\"ticks\":\"\",\"title\":{\"standoff\":15},\"zerolinecolor\":\"white\",\"zerolinewidth\":2}}},\"xaxis\":{\"anchor\":\"y\",\"domain\":[0.0,0.2888888888888889],\"title\":{\"text\":\"Offset (Hz)\"},\"type\":\"log\",\"showline\":true,\"linewidth\":2,\"linecolor\":\"black\"},\"yaxis\":{\"anchor\":\"x\",\"domain\":[0.0,1.0],\"title\":{\"text\":\"Magnetization |M<sub>z</sub>|\"},\"showline\":true,\"linewidth\":2,\"linecolor\":\"black\"},\"xaxis2\":{\"anchor\":\"y2\",\"domain\":[0.35555555555555557,0.6444444444444445],\"title\":{\"text\":\"Offset (Hz)\"},\"type\":\"log\",\"showline\":true,\"linewidth\":2,\"linecolor\":\"black\"},\"yaxis2\":{\"anchor\":\"x2\",\"domain\":[0.0,1.0],\"matches\":\"y\",\"showticklabels\":false,\"title\":{\"text\":\"Magnetization |M<sub>z</sub>|\"},\"showline\":true,\"linewidth\":2,\"linecolor\":\"black\"},\"xaxis3\":{\"anchor\":\"y3\",\"domain\":[0.7111111111111111,1.0],\"title\":{\"text\":\"Offset (Hz)\"},\"type\":\"log\",\"showline\":true,\"linewidth\":2,\"linecolor\":\"black\"},\"yaxis3\":{\"anchor\":\"x3\",\"domain\":[0.0,1.0],\"matches\":\"y\",\"showticklabels\":false,\"title\":{\"text\":\"Magnetization |M<sub>z</sub>|\"},\"showline\":true,\"linewidth\":2,\"linecolor\":\"black\"},\"annotations\":[{\"font\":{\"size\":16},\"showarrow\":false,\"text\":\"Super Lorentzian\",\"x\":0.14444444444444446,\"xanchor\":\"center\",\"xref\":\"paper\",\"y\":1.0,\"yanchor\":\"bottom\",\"yref\":\"paper\"},{\"font\":{\"size\":16},\"showarrow\":false,\"text\":\"Lorentzian\",\"x\":0.5,\"xanchor\":\"center\",\"xref\":\"paper\",\"y\":1.0,\"yanchor\":\"bottom\",\"yref\":\"paper\"},{\"font\":{\"size\":16},\"showarrow\":false,\"text\":\"Gaussian\",\"x\":0.8555555555555556,\"xanchor\":\"center\",\"xref\":\"paper\",\"y\":1.0,\"yanchor\":\"bottom\",\"yref\":\"paper\"}],\"title\":{\"text\":\"Different absorption lineshapes\"},\"height\":450,\"width\":900,\"plot_bgcolor\":\"rgba(0,0,0,0)\",\"legend\":{\"orientation\":\"h\",\"yanchor\":\"bottom\",\"y\":1.1,\"xanchor\":\"center\",\"x\":0.5}},                        {\"responsive\": true}                    ).then(function(){\n",
       "                            \n",
       "var gd = document.getElementById('ed74540c-62c2-43f9-9c60-6a431412e03f');\n",
       "var x = new MutationObserver(function (mutations, observer) {{\n",
       "        var display = window.getComputedStyle(gd).display;\n",
       "        if (!display || display === 'none') {{\n",
       "            console.log([gd, 'removed!']);\n",
       "            Plotly.purge(gd);\n",
       "            observer.disconnect();\n",
       "        }}\n",
       "}});\n",
       "\n",
       "// Listen for the removal of the full notebook cells\n",
       "var notebookContainer = gd.closest('#notebook-container');\n",
       "if (notebookContainer) {{\n",
       "    x.observe(notebookContainer, {childList: true});\n",
       "}}\n",
       "\n",
       "// Listen for the clearing of the current output cell\n",
       "var outputEl = gd.closest('.output');\n",
       "if (outputEl) {{\n",
       "    x.observe(outputEl, {childList: true});\n",
       "}}\n",
       "\n",
       "                        })                };                });            </script>        </div>"
      ]
     },
     "metadata": {},
     "output_type": "display_data"
    }
   ],
   "source": [
    "# PYTHON CODE\n",
    "labelLeg = [\"Fitted curve (angle = 142)\", \"Fitted curve (angle = 426)\", \"Raw data\"]\n",
    "\n",
    "fig = make_subplots(rows=1, cols=3, shared_yaxes=True,subplot_titles=(\"Super Lorentzian\", \"Lorentzian\", \"Gaussian\"))\n",
    "\n",
    "for i in [1,2,3]:\n",
    "    if i == 1:\n",
    "        showlegend=True\n",
    "    else:\n",
    "        showlegend=False\n",
    "\n",
    "    fig.add_trace(\n",
    "        go.Scatter(x=dataSim_lineshape[:,0,0], y=dataSim_lineshape[:,1,i-1],\n",
    "                   mode='lines', line=dict(color=\"firebrick\"), name=labelLeg[0], showlegend=showlegend),\n",
    "        row=1, col=i\n",
    "    )\n",
    "    \n",
    "    fig.update_xaxes(title_text=\"Offset (Hz)\", type=\"log\", row=1, col=i, showline=True, linewidth=2, linecolor='black')\n",
    "    fig.update_yaxes(title_text=\"Magnetization |M<sub>z</sub>|\", row=1, col=i, showline=True, linewidth=2, linecolor='black')\n",
    "    \n",
    "    fig.add_trace(\n",
    "        go.Scatter(x=dataSim_lineshape[:,0,0], y=dataSim_lineshape[:,2,i-1],\n",
    "                   mode='lines', line=dict(color=\"royalblue\"), name=labelLeg[1], showlegend=showlegend),\n",
    "        row=1, col=i\n",
    "    )\n",
    "    \n",
    "    fig.add_trace(\n",
    "        go.Scatter(x=dataRaw_lineshape[:,0,0], y=dataRaw_lineshape[:,1,i-1],\n",
    "                   mode='markers', line=dict(color=\"darkslategray\"), name=labelLeg[2], showlegend=showlegend),\n",
    "        row=1, col=i\n",
    "    )\n",
    "\n",
    "fig.update_layout(height=450, width=900, title_text=\"Different absorption lineshapes\", plot_bgcolor='rgba(0,0,0,0)')\n",
    "fig.update_layout(legend=dict(orientation=\"h\", yanchor=\"bottom\", y=1.1, xanchor=\"center\", x=0.5))\n",
    "fig.show()"
   ]
  },
  {
   "cell_type": "markdown",
   "metadata": {
    "kernel": "SoS"
   },
   "source": [
    "<center> <h2 style=\"font-family:timesnewroman;font-size:30px\">qMT SPGR Data Fitting</h2> </center>"
   ]
  },
  {
   "cell_type": "markdown",
   "metadata": {},
   "source": [
    "### Simulate different input maps quality"
   ]
  },
  {
   "cell_type": "code",
   "execution_count": null,
   "metadata": {},
   "outputs": [],
   "source": [
    "#Absolute values\n",
    "\n",
    "b1FittedData_mat = scipy.io.loadmat('dataFitting/b1FittedResults.mat')\n",
    "b1FittedData = np.array(b1FittedData_mat[\"b1FittedResults\"])\n",
    "\n",
    "b0FittedData_mat = scipy.io.loadmat('dataFitting/b0FittedResults.mat')\n",
    "b0FittedData = np.array(b0FittedData_mat[\"b0FittedResults\"])\n",
    "\n",
    "r1FittedData_mat = scipy.io.loadmat('dataFitting/r1FittedResults.mat')\n",
    "r1FittedData = np.array(r1FittedData_mat[\"r1FittedResults\"])"
   ]
  },
  {
   "cell_type": "code",
   "execution_count": null,
   "metadata": {
    "scrolled": false
   },
   "outputs": [],
   "source": [
    "### VARYING B1 MAP\n",
    "FittedParams = [\"F\", \"kr (s<sup>-1</sup>)\", \"kf (s<sup>-1</sup>)\", \"resnorm\"]\n",
    "\n",
    "fig = plotly.subplots.make_subplots(rows=1, cols=4)\n",
    "\n",
    "for i in [1,2,3,4]:\n",
    "    fig.add_trace(\n",
    "        go.Scatter(x=b1FittedData[:,0], y=b1FittedData[:,i],\n",
    "                   mode='lines+markers', line=dict(color=\"firebrick\"), showlegend=False), row=1, col=i\n",
    "    )\n",
    "    \n",
    "    fig.update_xaxes(title_text=\"B1 map\", row=1, col=i, showline=True, linewidth=2, linecolor='black')\n",
    "    fig.update_yaxes(title_text=\"Difference in \" + FittedParams[i-1], range=[0,np.amax(b1FittedData[:,i])], row=1, col=i,\n",
    "                    showline=True, linewidth=2, linecolor='black')\n",
    "\n",
    "fig.update_layout(height=400, width=1000, title_text=\"Fitted parameters varying input B1 map\", plot_bgcolor='rgba(0,0,0,0)')\n",
    "fig.show()\n",
    "\n",
    "### VARYING B0 MAP\n",
    "fig = plotly.subplots.make_subplots(rows=1, cols=4)\n",
    "\n",
    "for i in [1,2,3,4]:\n",
    "    fig.add_trace(\n",
    "        go.Scatter(x=b0FittedData[:,0], y=b0FittedData[:,i],\n",
    "                   mode='lines+markers', line=dict(color=\"firebrick\"), showlegend=False), row=1, col=i\n",
    "    )\n",
    "    \n",
    "    fig.update_xaxes(title_text=\"B0 map, Offsets (Hz)\", row=1, col=i, showline=True, linewidth=2, linecolor='black')\n",
    "    fig.update_yaxes(title_text=\"Difference in \" + FittedParams[i-1], range=[0,np.amax(b0FittedData[:,i])], row=1, col=i,\n",
    "                    showline=True, linewidth=2, linecolor='black')\n",
    "\n",
    "fig.update_layout(height=400, width=1000, title_text=\"Fitted parameters varying input B0 map\", plot_bgcolor='rgba(0,0,0,0)')\n",
    "fig.show()\n",
    "\n",
    "### VARYING R1 MAP\n",
    "fig = plotly.subplots.make_subplots(rows=1, cols=4)\n",
    "\n",
    "for i in [1,2,3,4]:\n",
    "    fig.add_trace(\n",
    "        go.Scatter(x=np.divide(1,r1FittedData[:,0]), y=r1FittedData[:,i],\n",
    "                   mode='lines+markers', line=dict(color=\"firebrick\"), showlegend=False), row=1, col=i\n",
    "    )\n",
    "    \n",
    "    fig.update_xaxes(title_text=\"T1 map (s)\", row=1, col=i, showline=True, linewidth=2, linecolor='black')\n",
    "    fig.update_yaxes(title_text=\"Difference in \" + FittedParams[i-1], range=[0,np.amax(r1FittedData[:,i])], row=1, col=i,\n",
    "                    showline=True, linewidth=2, linecolor='black')\n",
    "\n",
    "fig.update_layout(height=400, width=1000, title_text=\"Fitted parameters varying input R1 map\", plot_bgcolor='rgba(0,0,0,0)')\n",
    "fig.show()"
   ]
  },
  {
   "cell_type": "code",
   "execution_count": null,
   "metadata": {},
   "outputs": [],
   "source": [
    "#Percentage error\n",
    "\n",
    "b1NormFittedData_mat = scipy.io.loadmat('dataFitting/b1NormFittedResults.mat')\n",
    "b1NormFittedData = np.array(b1NormFittedData_mat[\"b1NormFittedResults\"])\n",
    "\n",
    "b0NormFittedData_mat = scipy.io.loadmat('dataFitting/b0NormFittedResults.mat')\n",
    "b0NormFittedData = np.array(b0NormFittedData_mat[\"b0NormFittedResults\"])\n",
    "\n",
    "r1NormFittedData_mat = scipy.io.loadmat('dataFitting/r1NormFittedResults.mat')\n",
    "r1NormFittedData = np.array(r1NormFittedData_mat[\"r1NormFittedResults\"])"
   ]
  },
  {
   "cell_type": "code",
   "execution_count": null,
   "metadata": {
    "scrolled": false
   },
   "outputs": [],
   "source": [
    "### VARYING B1 MAP\n",
    "FittedParams = [\"F\", \"kf (s)\", \"T2,f (s)\", \"T2,r\"]\n",
    "\n",
    "fig = plotly.subplots.make_subplots(rows=2, cols=2)\n",
    "\n",
    "cnt = 1\n",
    "for i in [1,2]:\n",
    "    for j in [1,2]:\n",
    "        fig.add_trace(\n",
    "            go.Scatter(x=b1NormFittedData[:,0], y=b1NormFittedData[:,cnt],\n",
    "                       mode='lines+markers', line=dict(color=\"firebrick\"), showlegend=False), row=i, col=j\n",
    "        )\n",
    "        \n",
    "        fig.update_xaxes(title_text=\"B1 map\", row=i, col=j, showline=True, linewidth=2, linecolor='black')\n",
    "        fig.update_yaxes(title_text=\"% Error in \" + FittedParams[cnt-1], range=[-100,100], row=i, col=j,\n",
    "                        showline=True, linewidth=2, linecolor='black')\n",
    "        \n",
    "        cnt = cnt + 1\n",
    "\n",
    "fig.update_layout(height=600, width=1000, title_text=\"Fitted parameters varying input B1 map\", plot_bgcolor='rgba(0,0,0,0)')\n",
    "fig.show()\n",
    "\n",
    "### VARYING B0 MAP\n",
    "fig = plotly.subplots.make_subplots(rows=2, cols=2)\n",
    "\n",
    "cnt = 1\n",
    "for i in [1,2]:\n",
    "    for j in [1,2]:\n",
    "        fig.add_trace(\n",
    "            go.Scatter(x=b0NormFittedData[:,0], y=b0NormFittedData[:,cnt],\n",
    "                       mode='lines+markers', line=dict(color=\"firebrick\"), showlegend=False), row=i, col=j\n",
    "        )\n",
    "        \n",
    "        fig.update_xaxes(title_text=\"B0 map\", row=i, col=j, showline=True, linewidth=2, linecolor='black')\n",
    "        fig.update_yaxes(title_text=\"% Error in \" + FittedParams[cnt-1], autorange=True, row=i, col=j,\n",
    "                        showline=True, linewidth=2, linecolor='black')\n",
    "        \n",
    "        cnt = cnt + 1\n",
    "\n",
    "fig.update_layout(height=600, width=1000, title_text=\"Fitted parameters varying input B0 map\", plot_bgcolor='rgba(0,0,0,0)')\n",
    "fig.show()\n",
    "\n",
    "### VARYING R1 MAP\n",
    "fig = plotly.subplots.make_subplots(rows=2, cols=2)\n",
    "\n",
    "cnt = 1\n",
    "for i in [1,2]:\n",
    "    for j in [1,2]:\n",
    "        fig.add_trace(\n",
    "            go.Scatter(x=np.divide(1,r1NormFittedData[:,0]), y=r1NormFittedData[:,cnt],\n",
    "                       mode='lines+markers', line=dict(color=\"firebrick\"), showlegend=False), row=i, col=j\n",
    "        )\n",
    "        \n",
    "        fig.update_xaxes(title_text=\"T1 map\", row=i, col=j, showline=True, linewidth=2, linecolor='black')\n",
    "        fig.update_yaxes(title_text=\"% Error in \" + FittedParams[cnt-1], autorange=True, row=i, col=j,\n",
    "                        showline=True, linewidth=2, linecolor='black')\n",
    "        \n",
    "        cnt = cnt + 1\n",
    "\n",
    "fig.update_layout(height=600, width=1000, title_text=\"Fitted parameters varying input T1 map\", plot_bgcolor='rgba(0,0,0,0)')\n",
    "fig.show()"
   ]
  },
  {
   "cell_type": "code",
   "execution_count": null,
   "metadata": {},
   "outputs": [],
   "source": [
    "dataSim4dataFit_mat = scipy.io.loadmat('dataSim4dataFit.mat')\n",
    "dataSim4dataFit = np.array(dataSim4dataFit_mat[\"dataSim4dataFit\"])\n",
    "\n",
    "dataSimDefault_mat = scipy.io.loadmat('dataSimDefault.mat')\n",
    "dataSimDefault = np.array(dataSimDefault_mat[\"dataSimDefault\"])"
   ]
  },
  {
   "cell_type": "code",
   "execution_count": null,
   "metadata": {
    "scrolled": false
   },
   "outputs": [],
   "source": [
    "### VARYING B1 MAP\n",
    "b1map = [0.10, 0.50, 0.75, 1.00]\n",
    "labelLeg = [\"Fitted curve (angle = 142)\", \"Fitted curve (angle = 426)\", \"Reference curve (angle = 142)\", \"Reference curve (angle = 426)\"]\n",
    "\n",
    "\n",
    "fig = plotly.subplots.make_subplots(rows=1, cols=4,\n",
    "                                    shared_yaxes=True,\n",
    "                                    subplot_titles=(\"B1 map = 0.10\", \"B1 map = 0.50\", \"B1 map = 0.75\", \"B1 map = 1.00\"))\n",
    "\n",
    "for i in [1,2,3,4]:\n",
    "    if i == 1:\n",
    "        showlegend=True\n",
    "    else:\n",
    "        showlegend=False\n",
    "    \n",
    "    fig.add_trace(\n",
    "        go.Scatter(x=dataSim4dataFit[1,i-1,0,:,0], y=dataSim4dataFit[1,i-1,0,:,1],\n",
    "                   mode='lines', line=dict(color=\"firebrick\", dash=\"dash\"), name=labelLeg[0], showlegend=showlegend),\n",
    "        row=1, col=i\n",
    "    )\n",
    "    \n",
    "    fig.update_xaxes(title_text=\"Offset (Hz)\", type=\"log\", row=1, col=i)\n",
    "    fig.update_yaxes(title_text=\"Magnetization |M<sub>z</sub>|\", row=1, col=i)\n",
    "    #fig.add_annotation(dict(x=i/2 - 0.4, y=0.8, xref=\"paper\", yref=\"paper\", \n",
    "    #                        text='B1map =  %d' %b1map[i-1], showarrow=False))\n",
    "    \n",
    "    fig.add_trace(\n",
    "        go.Scatter(x=dataSim4dataFit[1,i-1,0,:,0], y=dataSim4dataFit[1,i-1,0,:,2],\n",
    "                   mode='lines', line=dict(color=\"royalblue\", dash=\"dash\"), name=labelLeg[1], showlegend=showlegend),\n",
    "        row=1, col=i\n",
    "    )\n",
    "    \n",
    "    fig.add_trace(\n",
    "        go.Scatter(x=dataSimDefault[:,0], y=dataSimDefault[:,1],\n",
    "                   mode='lines', line=dict(color=\"firebrick\"), name=labelLeg[2], showlegend=showlegend),\n",
    "        row=1, col=i\n",
    "    )\n",
    "    \n",
    "    fig.add_trace(\n",
    "        go.Scatter(x=dataSimDefault[:,0], y=dataSimDefault[:,2],\n",
    "                   mode='lines', line=dict(color=\"royalblue\"), name=labelLeg[3], showlegend=showlegend),\n",
    "        row=1, col=i\n",
    "    )\n",
    "\n",
    "fig.update_layout(height=600, width=1600, title_text=\"Effect of varying input B1 map\")\n",
    "fig.update_layout(legend=dict(orientation=\"h\", yanchor=\"bottom\", y=1.1, xanchor=\"center\", x=0.5))\n",
    "fig.show()\n",
    "\n",
    "### VARYING B0 MAP\n",
    "fig = plotly.subplots.make_subplots(rows=1, cols=4,\n",
    "                                    shared_yaxes=True,\n",
    "                                    subplot_titles=(\"B0 map = -200 Hz\", \"B0 map = 0 Hz\", \"B0 map = 130 Hz\", \"B0 map = 200 Hz\"))\n",
    "\n",
    "for i in [1,2,3,4]:\n",
    "    if i == 1:\n",
    "        showlegend=True\n",
    "    else:\n",
    "        showlegend=False\n",
    "    \n",
    "    fig.add_trace(\n",
    "        go.Scatter(x=dataSim4dataFit[i-1,3,0,:,0], y=dataSim4dataFit[i-1,3,0,:,1],\n",
    "                   mode='lines', line=dict(color=\"firebrick\", dash=\"dash\"), name=labelLeg[0], showlegend=showlegend),\n",
    "        row=1, col=i\n",
    "    )\n",
    "    \n",
    "    fig.update_xaxes(title_text=\"Offset (Hz)\", type=\"log\", row=1, col=i)\n",
    "    fig.update_yaxes(title_text=\"Magnetization |M<sub>z</sub>|\", row=1, col=1)\n",
    "    #fig.add_annotation(dict(x=i/2 - 0.4, y=0.8, xref=\"paper\", yref=\"paper\", \n",
    "    #                        text='B1map =  %d' %b1map[i-1], showarrow=False))\n",
    "    \n",
    "    fig.add_trace(\n",
    "        go.Scatter(x=dataSim4dataFit[i-1,3,0,:,0], y=dataSim4dataFit[i-1,3,0,:,2],\n",
    "                   mode='lines', line=dict(color=\"royalblue\", dash=\"dash\"), name=labelLeg[1], showlegend=showlegend),\n",
    "        row=1, col=i\n",
    "    )\n",
    "    \n",
    "    fig.add_trace(\n",
    "        go.Scatter(x=dataSimDefault[:,0], y=dataSimDefault[:,1],\n",
    "                   mode='lines', line=dict(color=\"firebrick\"), name=labelLeg[2], showlegend=showlegend),\n",
    "        row=1, col=i\n",
    "    )\n",
    "    \n",
    "    fig.add_trace(\n",
    "        go.Scatter(x=dataSimDefault[:,0], y=dataSimDefault[:,2],\n",
    "                   mode='lines', line=dict(color=\"royalblue\"), name=labelLeg[3], showlegend=showlegend),\n",
    "        row=1, col=i\n",
    "    )\n",
    "\n",
    "fig.update_layout(height=600, width=1600, title_text=\"Effect of varying input B0 map\")\n",
    "fig.update_layout(legend=dict(orientation=\"h\", yanchor=\"bottom\", y=1.1, xanchor=\"center\", x=0.5))\n",
    "fig.show()\n",
    "\n",
    "### VARYING R1 MAP\n",
    "fig = plotly.subplots.make_subplots(rows=1, cols=3,\n",
    "                                    shared_yaxes=True,\n",
    "                                    subplot_titles=(\"R1 map = 1.5/s\", \"R1 map = 3.5/s\", \"R1 map = 5.0/s\"))\n",
    "\n",
    "for i in [1,2,3]:\n",
    "    if i == 1:\n",
    "        showlegend=True\n",
    "    else:\n",
    "        showlegend=False\n",
    "    \n",
    "    fig.add_trace(\n",
    "        go.Scatter(x=dataSim4dataFit[1,3,i,:,0], y=dataSim4dataFit[1,3,i,:,1],\n",
    "                   mode='lines', line=dict(color=\"firebrick\", dash=\"dash\"), name=labelLeg[0], showlegend=showlegend),\n",
    "        row=1, col=i\n",
    "    )\n",
    "    \n",
    "    fig.update_xaxes(title_text=\"Offset (Hz)\", type=\"log\", row=1, col=i)\n",
    "    fig.update_yaxes(title_text=\"Magnetization |M<sub>z</sub>|\", row=1, col=1)\n",
    "    \n",
    "    fig.add_trace(\n",
    "        go.Scatter(x=dataSim4dataFit[1,3,i,:,0], y=dataSim4dataFit[1,3,i,:,2],\n",
    "                   mode='lines', line=dict(color=\"royalblue\", dash=\"dash\"), name=labelLeg[1], showlegend=showlegend),\n",
    "        row=1, col=i\n",
    "    )\n",
    "    \n",
    "    fig.add_trace(\n",
    "        go.Scatter(x=dataSimDefault[:,0], y=dataSimDefault[:,1],\n",
    "                   mode='lines', line=dict(color=\"firebrick\"), name=labelLeg[2], showlegend=showlegend),\n",
    "        row=1, col=i\n",
    "    )\n",
    "    \n",
    "    fig.add_trace(\n",
    "        go.Scatter(x=dataSimDefault[:,0], y=dataSimDefault[:,2],\n",
    "                   mode='lines', line=dict(color=\"royalblue\"), name=labelLeg[3], showlegend=showlegend),\n",
    "        row=1, col=i\n",
    "    )\n",
    "\n",
    "fig.update_layout(height=600, width=1200, title_text=\"Effect of varying input R1 map\")\n",
    "fig.update_layout(legend=dict(orientation=\"h\", yanchor=\"bottom\", y=1.05, xanchor=\"center\", x=0.5))\n",
    "fig.show()"
   ]
  },
  {
   "cell_type": "markdown",
   "metadata": {},
   "source": [
    "### Real fitted data"
   ]
  },
  {
   "cell_type": "code",
   "execution_count": null,
   "metadata": {},
   "outputs": [],
   "source": [
    "b0map_mat = scipy.io.loadmat('realData/b0mapMAT.mat')\n",
    "b0map = np.array(b0map_mat[\"b0mapMAT\"])\n",
    "b1map_mat = scipy.io.loadmat('realData/b1mapMAT.mat')\n",
    "b1map = np.array(b1map_mat[\"b1mapMAT\"])\n",
    "r1map_mat = scipy.io.loadmat('realData/r1mapMAT.mat')\n",
    "r1map = np.array(r1map_mat[\"r1mapMAT\"])\n",
    "mtdata_mat = scipy.io.loadmat('realData/mtdataMAT.mat')\n",
    "mtdata = np.array(mtdata_mat[\"mtdataMAT\"])\n",
    "mask_mat = scipy.io.loadmat('realData/maskMAT.mat')\n",
    "mask = np.array(mask_mat[\"maskMAT\"])\n",
    "\n",
    "Fmap_mat = scipy.io.loadmat('realData/FmapMAT.mat')\n",
    "Fmap = np.array(Fmap_mat[\"FmapMAT\"])\n",
    "krmap_mat = scipy.io.loadmat('realData/krmapMAT.mat')\n",
    "krmap = np.array(krmap_mat[\"krmapMAT\"])\n",
    "kfmap_mat = scipy.io.loadmat('realData/kfmapMAT.mat')\n",
    "kfmap = np.array(kfmap_mat[\"kfmapMAT\"])\n",
    "resnormmap_mat = scipy.io.loadmat('realData/resnormmapMAT.mat')\n",
    "resnormmap = np.array(resnormmap_mat[\"resnormmapMAT\"])"
   ]
  },
  {
   "cell_type": "code",
   "execution_count": null,
   "metadata": {
    "scrolled": false
   },
   "outputs": [],
   "source": [
    "from plotly import tools\n",
    "\n",
    "#xAxis = [0:88-1];\n",
    "xAxis = np.arange(0,88,1)\n",
    "#yAxis = [0:128-1];\n",
    "yAxis = np.arange(0,128,1)\n",
    "\n",
    "b0map = np.multiply(b0map,mask)\n",
    "b1map = np.multiply(b1map,mask)\n",
    "r1map = np.multiply(r1map,mask)\n",
    "Fmap = np.multiply(Fmap,mask)\n",
    "krmap = np.multiply(krmap,mask)\n",
    "kfmap = np.multiply(kfmap,mask)\n",
    "resnormmap = np.multiply(resnormmap,mask)\n",
    "\n",
    "trace1 = go.Heatmap(x = xAxis,\n",
    "                   y = yAxis,\n",
    "                   z=np.rot90(b0map,3),\n",
    "                   colorscale='Greys',\n",
    "                   showscale = False,\n",
    "                   visible=True,\n",
    "                   name = 'Signal')\n",
    "trace2 = go.Heatmap(x = xAxis,\n",
    "                   y = yAxis,\n",
    "                   z=np.rot90(b1map,3),\n",
    "                   colorscale='Greys',\n",
    "                   showscale = False,\n",
    "                   visible=False,\n",
    "                   name = 'Signal')\n",
    "trace3 = go.Heatmap(x = xAxis,\n",
    "                   y = yAxis,\n",
    "                   z=np.rot90(r1map,3),\n",
    "                   colorscale='Greys',\n",
    "                   showscale = False,\n",
    "                   visible=False,\n",
    "                   name = 'Signal')\n",
    "trace4 = go.Heatmap(x = xAxis,\n",
    "                   y = yAxis,\n",
    "                   z=np.rot90(Fmap,3),\n",
    "                   colorscale='Portland',\n",
    "                   xaxis='x2',\n",
    "                   yaxis='y2',\n",
    "                   visible=True,\n",
    "                   name = 'T1 values (ms)')\n",
    "trace5 = go.Heatmap(x = xAxis,\n",
    "                   y = yAxis,\n",
    "                   z=np.rot90(krmap,3),\n",
    "                   colorscale='Portland',\n",
    "                   xaxis='x2',\n",
    "                   yaxis='y2',\n",
    "                   visible=False,\n",
    "                   name = 'T1 values (ms)')\n",
    "trace6 = go.Heatmap(x = xAxis,\n",
    "                   y = yAxis,\n",
    "                   z=np.rot90(kfmap,3),\n",
    "                   colorscale='Portland',\n",
    "                   xaxis='x2',\n",
    "                   yaxis='y2',\n",
    "                   visible=False,\n",
    "                   name = 'T1 values (ms)')\n",
    "trace7 = go.Heatmap(x = xAxis,\n",
    "                   y = yAxis,\n",
    "                   z=np.rot90(resnormmap,3),\n",
    "                   colorscale='Portland',\n",
    "                   xaxis='x2',\n",
    "                   yaxis='y2',\n",
    "                   visible=False,\n",
    "                   name = 'T1 values (ms)')\n",
    "\n",
    "data=[trace1, trace2, trace3, trace4, trace5, trace6, trace7]\n",
    "\n",
    "\n",
    "updatemenus = list([\n",
    "    dict(active=2,\n",
    "         x = 0.12,\n",
    "         xanchor = 'left',\n",
    "         y = -0.15,\n",
    "         yanchor = 'bottom',\n",
    "         direction = 'up',\n",
    "         font=dict(\n",
    "                family='Times New Roman',\n",
    "                size=16\n",
    "            ),\n",
    "         buttons=list([   \n",
    "            dict(label = 'B0 map',\n",
    "                 method = 'update',\n",
    "                 args = [{'visible': [True, False, False, True, False, False, False]},\n",
    "                         ]),\n",
    "            dict(label = 'B1 map',\n",
    "                 method = 'update',\n",
    "                 args = [{'visible': [False, True, False, True, False, False, False]},\n",
    "                         ]),\n",
    "            dict(label = 'R1 map',\n",
    "                 method = 'update',\n",
    "                 args = [{'visible': [False, False, True, True, False, False, False]},\n",
    "                         ])\n",
    "        ]),\n",
    "    ),\n",
    "    \n",
    "    dict(active=2,\n",
    "         x = 0.5,\n",
    "         xanchor = 'left',\n",
    "         y = -0.15,\n",
    "         yanchor = 'bottom',\n",
    "         direction = 'up',\n",
    "         font=dict(\n",
    "                family='Times New Roman',\n",
    "                size=16\n",
    "            ),\n",
    "         buttons=list([   \n",
    "            dict(label = 'F map',\n",
    "                 method = 'update',\n",
    "                 args = [{'visible': [True, False, False, True, False, False, False]},\n",
    "                         ]),\n",
    "            dict(label = 'kf map',\n",
    "                 method = 'update',\n",
    "                 args = [{'visible': [True, False, False, False, True, False, False]},\n",
    "                         ]),\n",
    "            dict(label = 'kr map',\n",
    "                 method = 'update',\n",
    "                 args = [{'visible': [True, False, False, False, False, True, False]},\n",
    "                         ]),\n",
    "             dict(label = 'resnorm map',\n",
    "                 method = 'update',\n",
    "                 args = [{'visible': [True, False, False, False, False, False, True]},\n",
    "                         ])\n",
    "        ]),\n",
    "    )\n",
    "])\n",
    "\n",
    "layout = dict(\n",
    "    width=560,\n",
    "    height=345,\n",
    "    margin = dict(\n",
    "                t=40,\n",
    "                r=50,\n",
    "                b=10,\n",
    "                l=50),\n",
    "    annotations=[\n",
    "        dict(\n",
    "            x=0.06,\n",
    "            y=1.15,\n",
    "            showarrow=False,\n",
    "            text='Input maps',\n",
    "            font=dict(\n",
    "                family='Times New Roman',\n",
    "                size=26\n",
    "            ),\n",
    "            xref='paper',\n",
    "            yref='paper'\n",
    "        ),\n",
    "        dict(\n",
    "            x=0.6,\n",
    "            y=1.15,\n",
    "            showarrow=False,\n",
    "            text='Fitted maps',\n",
    "            font=dict(\n",
    "                family='Times New Roman',\n",
    "                size=26\n",
    "            ),\n",
    "            xref='paper',\n",
    "            yref='paper'\n",
    "        ),\n",
    "        dict(\n",
    "            x=1.22,\n",
    "            y=1.15,\n",
    "            showarrow=False,\n",
    "            text='Units',\n",
    "            font=dict(\n",
    "                family='Times New Roman',\n",
    "                size=26\n",
    "            ),\n",
    "            xref='paper',\n",
    "            yref='paper'\n",
    "        ),\n",
    "        dict(\n",
    "            x=0.00,\n",
    "            y=-0.15,\n",
    "            showarrow=False,\n",
    "            text='Map:',\n",
    "            font=dict(\n",
    "                family='Times New Roman',\n",
    "                size=22\n",
    "            ),\n",
    "            xref='paper',\n",
    "            yref='paper'\n",
    "        ),\n",
    "    ],\n",
    "    xaxis = dict(range = [0,127], autorange = False,\n",
    "             showgrid = False, zeroline = False, showticklabels = False,\n",
    "             ticks = '', domain=[0, 0.6]),\n",
    "    yaxis = dict(range = [0,127], autorange = False,\n",
    "             showgrid = False, zeroline = False, showticklabels = False,\n",
    "             ticks = '', domain=[0, 1]),\n",
    "    xaxis2 = dict(range = [0,127], autorange = False,\n",
    "             showgrid = False, zeroline = False, showticklabels = False,\n",
    "             ticks = '', domain=[0.4, 1]),\n",
    "    yaxis2 = dict(range = [0,127], autorange = False,\n",
    "             showgrid = False, zeroline = False, showticklabels = False,\n",
    "             ticks = '', domain=[0, 1], anchor='x2'),\n",
    "    showlegend = False,\n",
    "    autosize = False,\n",
    "    updatemenus=updatemenus\n",
    ")\n",
    "\n",
    "\n",
    "fig = dict(data=data, layout=layout)\n",
    "\n",
    "iplot(fig, filename = 'basic-heatmap', config = config)"
   ]
  }
 ],
 "metadata": {
  "celltoolbar": "Tags",
  "kernelspec": {
   "display_name": "Python 3",
   "language": "python",
   "name": "python3"
  },
  "language_info": {
   "codemirror_mode": {
    "name": "ipython",
    "version": 3
   },
   "file_extension": ".py",
   "mimetype": "text/x-python",
   "name": "python",
   "nbconvert_exporter": "python",
   "pygments_lexer": "ipython3",
   "version": "3.7.6"
  },
  "sos": {
   "kernels": [
    [
     "Octave",
     "octave",
     "Octave",
     "#dff8fb"
    ],
    [
     "Python3",
     "python3",
     "Python3",
     "#FFD91A"
    ]
   ],
   "panel": {
    "displayed": true,
    "height": 0,
    "style": "side"
   },
   "version": "0.16.12"
  }
 },
 "nbformat": 4,
 "nbformat_minor": 2
}
